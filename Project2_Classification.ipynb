{
 "cells": [
  {
   "cell_type": "markdown",
   "metadata": {},
   "source": [
    "# Classification Task"
   ]
  },
  {
   "cell_type": "markdown",
   "metadata": {},
   "source": [
    "## Introduction:\n",
    "##### This public dataset is part of Airbnb\n",
    "##### The dataset can be found on : \"https://www.kaggle.com/dgomonov/new-york-city-airbnb-open-data\""
   ]
  },
  {
   "cell_type": "code",
   "execution_count": 1,
   "metadata": {},
   "outputs": [
    {
     "data": {
      "text/html": [
       "<style>.container { width:100% !important; }</style>"
      ],
      "text/plain": [
       "<IPython.core.display.HTML object>"
      ]
     },
     "metadata": {},
     "output_type": "display_data"
    }
   ],
   "source": [
    "from IPython.core.display import display, HTML\n",
    "display(HTML(\"<style>.container { width:100% !important; }</style>\"))"
   ]
  },
  {
   "cell_type": "markdown",
   "metadata": {},
   "source": [
    "### Importing necessary packages"
   ]
  },
  {
   "cell_type": "code",
   "execution_count": 2,
   "metadata": {},
   "outputs": [],
   "source": [
    "import pandas as pd\n",
    "import numpy as np\n",
    "import pyodbc\n",
    "import datetime\n",
    "import time\n",
    "import seaborn as sns\n",
    "import matplotlib.pyplot as plt\n",
    "import matplotlib.dates as mdates\n",
    "from pandas import ExcelWriter\n",
    "import matplotlib.pyplot as plt\n",
    "from scipy import stats"
   ]
  },
  {
   "cell_type": "code",
   "execution_count": 3,
   "metadata": {},
   "outputs": [],
   "source": [
    "# supress warnings :\n",
    "import warnings \n",
    "warnings.filterwarnings('ignore')"
   ]
  },
  {
   "cell_type": "code",
   "execution_count": 4,
   "metadata": {},
   "outputs": [],
   "source": [
    "### Data Import"
   ]
  },
  {
   "cell_type": "code",
   "execution_count": 5,
   "metadata": {},
   "outputs": [],
   "source": [
    "df = pd.read_excel('AB_NYC_2019.xlsx')"
   ]
  },
  {
   "cell_type": "markdown",
   "metadata": {},
   "source": [
    "### Preprocess data: \n",
    "    1)Explore data, \n",
    "    2)check for missing data \n",
    "    3)apply data scaling. Justify the type of scaling used."
   ]
  },
  {
   "cell_type": "code",
   "execution_count": 6,
   "metadata": {},
   "outputs": [
    {
     "data": {
      "text/plain": [
       "Index(['id', 'name', 'host_id', 'host_name', 'neighbourhood_group',\n",
       "       'neighbourhood', 'latitude', 'longitude', 'room_type', 'price',\n",
       "       'minimum_nights', 'number_of_reviews', 'last_review',\n",
       "       'reviews_per_month', 'calculated_host_listings_count',\n",
       "       'availability_365'],\n",
       "      dtype='object')"
      ]
     },
     "execution_count": 6,
     "metadata": {},
     "output_type": "execute_result"
    }
   ],
   "source": [
    "df.columns"
   ]
  },
  {
   "cell_type": "code",
   "execution_count": 7,
   "metadata": {
    "scrolled": true
   },
   "outputs": [
    {
     "data": {
      "text/plain": [
       "(48895, 16)"
      ]
     },
     "execution_count": 7,
     "metadata": {},
     "output_type": "execute_result"
    }
   ],
   "source": [
    "df.shape"
   ]
  },
  {
   "cell_type": "code",
   "execution_count": 8,
   "metadata": {},
   "outputs": [],
   "source": [
    "### Data Cleaning"
   ]
  },
  {
   "cell_type": "markdown",
   "metadata": {},
   "source": [
    "##### 67260 null values out of (48895 * 16) = 782320 values across dataset, which is 8%."
   ]
  },
  {
   "cell_type": "code",
   "execution_count": 9,
   "metadata": {},
   "outputs": [
    {
     "data": {
      "text/plain": [
       "id                                    0\n",
       "name                                 26\n",
       "host_id                               0\n",
       "host_name                            22\n",
       "neighbourhood_group                   0\n",
       "neighbourhood                         0\n",
       "latitude                          22604\n",
       "longitude                         22604\n",
       "room_type                             0\n",
       "price                                 0\n",
       "minimum_nights                        0\n",
       "number_of_reviews                     0\n",
       "last_review                       10052\n",
       "reviews_per_month                 10052\n",
       "calculated_host_listings_count        0\n",
       "availability_365                      0\n",
       "dtype: int64"
      ]
     },
     "execution_count": 9,
     "metadata": {},
     "output_type": "execute_result"
    }
   ],
   "source": [
    "# 67260 null values out of (48895 * 16) = 782320 values across dataset, which is 8%.\n",
    "df.isna().sum()"
   ]
  },
  {
   "cell_type": "code",
   "execution_count": 10,
   "metadata": {},
   "outputs": [
    {
     "data": {
      "text/html": [
       "<div>\n",
       "<style scoped>\n",
       "    .dataframe tbody tr th:only-of-type {\n",
       "        vertical-align: middle;\n",
       "    }\n",
       "\n",
       "    .dataframe tbody tr th {\n",
       "        vertical-align: top;\n",
       "    }\n",
       "\n",
       "    .dataframe thead th {\n",
       "        text-align: right;\n",
       "    }\n",
       "</style>\n",
       "<table border=\"1\" class=\"dataframe\">\n",
       "  <thead>\n",
       "    <tr style=\"text-align: right;\">\n",
       "      <th></th>\n",
       "      <th>id</th>\n",
       "      <th>host_id</th>\n",
       "      <th>latitude</th>\n",
       "      <th>longitude</th>\n",
       "      <th>price</th>\n",
       "      <th>minimum_nights</th>\n",
       "      <th>number_of_reviews</th>\n",
       "      <th>reviews_per_month</th>\n",
       "      <th>calculated_host_listings_count</th>\n",
       "      <th>availability_365</th>\n",
       "    </tr>\n",
       "  </thead>\n",
       "  <tbody>\n",
       "    <tr>\n",
       "      <th>count</th>\n",
       "      <td>4.889500e+04</td>\n",
       "      <td>4.889500e+04</td>\n",
       "      <td>26291.000000</td>\n",
       "      <td>26291.000000</td>\n",
       "      <td>48895.000000</td>\n",
       "      <td>48895.000000</td>\n",
       "      <td>48895.000000</td>\n",
       "      <td>38843.000000</td>\n",
       "      <td>48895.000000</td>\n",
       "      <td>48895.000000</td>\n",
       "    </tr>\n",
       "    <tr>\n",
       "      <th>mean</th>\n",
       "      <td>1.901714e+07</td>\n",
       "      <td>6.762001e+07</td>\n",
       "      <td>40.720584</td>\n",
       "      <td>-73.952017</td>\n",
       "      <td>152.720687</td>\n",
       "      <td>7.029962</td>\n",
       "      <td>23.274466</td>\n",
       "      <td>1.373221</td>\n",
       "      <td>7.143982</td>\n",
       "      <td>112.781327</td>\n",
       "    </tr>\n",
       "    <tr>\n",
       "      <th>std</th>\n",
       "      <td>1.098311e+07</td>\n",
       "      <td>7.861097e+07</td>\n",
       "      <td>0.058200</td>\n",
       "      <td>0.059901</td>\n",
       "      <td>240.154170</td>\n",
       "      <td>20.510550</td>\n",
       "      <td>44.550582</td>\n",
       "      <td>1.680442</td>\n",
       "      <td>32.952519</td>\n",
       "      <td>131.622289</td>\n",
       "    </tr>\n",
       "    <tr>\n",
       "      <th>min</th>\n",
       "      <td>2.539000e+03</td>\n",
       "      <td>2.438000e+03</td>\n",
       "      <td>40.499790</td>\n",
       "      <td>-74.244420</td>\n",
       "      <td>0.000000</td>\n",
       "      <td>1.000000</td>\n",
       "      <td>0.000000</td>\n",
       "      <td>0.010000</td>\n",
       "      <td>1.000000</td>\n",
       "      <td>0.000000</td>\n",
       "    </tr>\n",
       "    <tr>\n",
       "      <th>25%</th>\n",
       "      <td>9.471945e+06</td>\n",
       "      <td>7.822033e+06</td>\n",
       "      <td>40.683245</td>\n",
       "      <td>-73.990750</td>\n",
       "      <td>69.000000</td>\n",
       "      <td>1.000000</td>\n",
       "      <td>1.000000</td>\n",
       "      <td>0.190000</td>\n",
       "      <td>1.000000</td>\n",
       "      <td>0.000000</td>\n",
       "    </tr>\n",
       "    <tr>\n",
       "      <th>50%</th>\n",
       "      <td>1.967728e+07</td>\n",
       "      <td>3.079382e+07</td>\n",
       "      <td>40.723940</td>\n",
       "      <td>-73.970760</td>\n",
       "      <td>106.000000</td>\n",
       "      <td>3.000000</td>\n",
       "      <td>5.000000</td>\n",
       "      <td>0.720000</td>\n",
       "      <td>1.000000</td>\n",
       "      <td>45.000000</td>\n",
       "    </tr>\n",
       "    <tr>\n",
       "      <th>75%</th>\n",
       "      <td>2.915218e+07</td>\n",
       "      <td>1.074344e+08</td>\n",
       "      <td>40.745675</td>\n",
       "      <td>-73.924555</td>\n",
       "      <td>175.000000</td>\n",
       "      <td>5.000000</td>\n",
       "      <td>24.000000</td>\n",
       "      <td>2.020000</td>\n",
       "      <td>2.000000</td>\n",
       "      <td>227.000000</td>\n",
       "    </tr>\n",
       "    <tr>\n",
       "      <th>max</th>\n",
       "      <td>3.648724e+07</td>\n",
       "      <td>2.743213e+08</td>\n",
       "      <td>40.913060</td>\n",
       "      <td>-73.712990</td>\n",
       "      <td>10000.000000</td>\n",
       "      <td>1250.000000</td>\n",
       "      <td>629.000000</td>\n",
       "      <td>58.500000</td>\n",
       "      <td>327.000000</td>\n",
       "      <td>365.000000</td>\n",
       "    </tr>\n",
       "  </tbody>\n",
       "</table>\n",
       "</div>"
      ],
      "text/plain": [
       "                 id       host_id      latitude     longitude         price  \\\n",
       "count  4.889500e+04  4.889500e+04  26291.000000  26291.000000  48895.000000   \n",
       "mean   1.901714e+07  6.762001e+07     40.720584    -73.952017    152.720687   \n",
       "std    1.098311e+07  7.861097e+07      0.058200      0.059901    240.154170   \n",
       "min    2.539000e+03  2.438000e+03     40.499790    -74.244420      0.000000   \n",
       "25%    9.471945e+06  7.822033e+06     40.683245    -73.990750     69.000000   \n",
       "50%    1.967728e+07  3.079382e+07     40.723940    -73.970760    106.000000   \n",
       "75%    2.915218e+07  1.074344e+08     40.745675    -73.924555    175.000000   \n",
       "max    3.648724e+07  2.743213e+08     40.913060    -73.712990  10000.000000   \n",
       "\n",
       "       minimum_nights  number_of_reviews  reviews_per_month  \\\n",
       "count    48895.000000       48895.000000       38843.000000   \n",
       "mean         7.029962          23.274466           1.373221   \n",
       "std         20.510550          44.550582           1.680442   \n",
       "min          1.000000           0.000000           0.010000   \n",
       "25%          1.000000           1.000000           0.190000   \n",
       "50%          3.000000           5.000000           0.720000   \n",
       "75%          5.000000          24.000000           2.020000   \n",
       "max       1250.000000         629.000000          58.500000   \n",
       "\n",
       "       calculated_host_listings_count  availability_365  \n",
       "count                    48895.000000      48895.000000  \n",
       "mean                         7.143982        112.781327  \n",
       "std                         32.952519        131.622289  \n",
       "min                          1.000000          0.000000  \n",
       "25%                          1.000000          0.000000  \n",
       "50%                          1.000000         45.000000  \n",
       "75%                          2.000000        227.000000  \n",
       "max                        327.000000        365.000000  "
      ]
     },
     "execution_count": 10,
     "metadata": {},
     "output_type": "execute_result"
    }
   ],
   "source": [
    "df.describe()"
   ]
  },
  {
   "cell_type": "markdown",
   "metadata": {},
   "source": [
    "##### Reading top 5 values"
   ]
  },
  {
   "cell_type": "code",
   "execution_count": 11,
   "metadata": {},
   "outputs": [
    {
     "data": {
      "text/html": [
       "<div>\n",
       "<style scoped>\n",
       "    .dataframe tbody tr th:only-of-type {\n",
       "        vertical-align: middle;\n",
       "    }\n",
       "\n",
       "    .dataframe tbody tr th {\n",
       "        vertical-align: top;\n",
       "    }\n",
       "\n",
       "    .dataframe thead th {\n",
       "        text-align: right;\n",
       "    }\n",
       "</style>\n",
       "<table border=\"1\" class=\"dataframe\">\n",
       "  <thead>\n",
       "    <tr style=\"text-align: right;\">\n",
       "      <th></th>\n",
       "      <th>id</th>\n",
       "      <th>name</th>\n",
       "      <th>host_id</th>\n",
       "      <th>host_name</th>\n",
       "      <th>neighbourhood_group</th>\n",
       "      <th>neighbourhood</th>\n",
       "      <th>latitude</th>\n",
       "      <th>longitude</th>\n",
       "      <th>room_type</th>\n",
       "      <th>price</th>\n",
       "      <th>minimum_nights</th>\n",
       "      <th>number_of_reviews</th>\n",
       "      <th>last_review</th>\n",
       "      <th>reviews_per_month</th>\n",
       "      <th>calculated_host_listings_count</th>\n",
       "      <th>availability_365</th>\n",
       "    </tr>\n",
       "  </thead>\n",
       "  <tbody>\n",
       "    <tr>\n",
       "      <th>0</th>\n",
       "      <td>2539</td>\n",
       "      <td>Clean &amp; quiet apt home by the park</td>\n",
       "      <td>2787</td>\n",
       "      <td>John</td>\n",
       "      <td>Brooklyn</td>\n",
       "      <td>Kensington</td>\n",
       "      <td>40.64749</td>\n",
       "      <td>-73.97237</td>\n",
       "      <td>Private room</td>\n",
       "      <td>149</td>\n",
       "      <td>1</td>\n",
       "      <td>9</td>\n",
       "      <td>2018-10-19</td>\n",
       "      <td>0.21</td>\n",
       "      <td>6</td>\n",
       "      <td>365</td>\n",
       "    </tr>\n",
       "    <tr>\n",
       "      <th>1</th>\n",
       "      <td>2595</td>\n",
       "      <td>Skylit Midtown Castle</td>\n",
       "      <td>2845</td>\n",
       "      <td>Jennifer</td>\n",
       "      <td>Manhattan</td>\n",
       "      <td>Midtown</td>\n",
       "      <td>40.75362</td>\n",
       "      <td>-73.98377</td>\n",
       "      <td>Entire home/apt</td>\n",
       "      <td>225</td>\n",
       "      <td>1</td>\n",
       "      <td>45</td>\n",
       "      <td>2019-05-21</td>\n",
       "      <td>0.38</td>\n",
       "      <td>2</td>\n",
       "      <td>355</td>\n",
       "    </tr>\n",
       "    <tr>\n",
       "      <th>2</th>\n",
       "      <td>3647</td>\n",
       "      <td>THE VILLAGE OF HARLEM....NEW YORK !</td>\n",
       "      <td>4632</td>\n",
       "      <td>Elisabeth</td>\n",
       "      <td>Manhattan</td>\n",
       "      <td>Harlem</td>\n",
       "      <td>NaN</td>\n",
       "      <td>NaN</td>\n",
       "      <td>Private room</td>\n",
       "      <td>150</td>\n",
       "      <td>3</td>\n",
       "      <td>0</td>\n",
       "      <td>NaT</td>\n",
       "      <td>NaN</td>\n",
       "      <td>1</td>\n",
       "      <td>365</td>\n",
       "    </tr>\n",
       "    <tr>\n",
       "      <th>3</th>\n",
       "      <td>3831</td>\n",
       "      <td>Cozy Entire Floor of Brownstone</td>\n",
       "      <td>4869</td>\n",
       "      <td>LisaRoxanne</td>\n",
       "      <td>Brooklyn</td>\n",
       "      <td>Clinton Hill</td>\n",
       "      <td>40.68514</td>\n",
       "      <td>-73.95976</td>\n",
       "      <td>Entire home/apt</td>\n",
       "      <td>89</td>\n",
       "      <td>1</td>\n",
       "      <td>270</td>\n",
       "      <td>2019-07-05</td>\n",
       "      <td>4.64</td>\n",
       "      <td>1</td>\n",
       "      <td>194</td>\n",
       "    </tr>\n",
       "    <tr>\n",
       "      <th>4</th>\n",
       "      <td>5022</td>\n",
       "      <td>Entire Apt: Spacious Studio/Loft by central park</td>\n",
       "      <td>7192</td>\n",
       "      <td>Laura</td>\n",
       "      <td>Manhattan</td>\n",
       "      <td>East Harlem</td>\n",
       "      <td>40.79851</td>\n",
       "      <td>-73.94399</td>\n",
       "      <td>Entire home/apt</td>\n",
       "      <td>80</td>\n",
       "      <td>10</td>\n",
       "      <td>9</td>\n",
       "      <td>2018-11-19</td>\n",
       "      <td>0.10</td>\n",
       "      <td>1</td>\n",
       "      <td>0</td>\n",
       "    </tr>\n",
       "  </tbody>\n",
       "</table>\n",
       "</div>"
      ],
      "text/plain": [
       "     id                                              name  host_id  \\\n",
       "0  2539                Clean & quiet apt home by the park     2787   \n",
       "1  2595                             Skylit Midtown Castle     2845   \n",
       "2  3647               THE VILLAGE OF HARLEM....NEW YORK !     4632   \n",
       "3  3831                   Cozy Entire Floor of Brownstone     4869   \n",
       "4  5022  Entire Apt: Spacious Studio/Loft by central park     7192   \n",
       "\n",
       "     host_name neighbourhood_group neighbourhood  latitude  longitude  \\\n",
       "0         John            Brooklyn    Kensington  40.64749  -73.97237   \n",
       "1     Jennifer           Manhattan       Midtown  40.75362  -73.98377   \n",
       "2    Elisabeth           Manhattan        Harlem       NaN        NaN   \n",
       "3  LisaRoxanne            Brooklyn  Clinton Hill  40.68514  -73.95976   \n",
       "4        Laura           Manhattan   East Harlem  40.79851  -73.94399   \n",
       "\n",
       "         room_type  price  minimum_nights  number_of_reviews last_review  \\\n",
       "0     Private room    149               1                  9  2018-10-19   \n",
       "1  Entire home/apt    225               1                 45  2019-05-21   \n",
       "2     Private room    150               3                  0         NaT   \n",
       "3  Entire home/apt     89               1                270  2019-07-05   \n",
       "4  Entire home/apt     80              10                  9  2018-11-19   \n",
       "\n",
       "   reviews_per_month  calculated_host_listings_count  availability_365  \n",
       "0               0.21                               6               365  \n",
       "1               0.38                               2               355  \n",
       "2                NaN                               1               365  \n",
       "3               4.64                               1               194  \n",
       "4               0.10                               1                 0  "
      ]
     },
     "execution_count": 11,
     "metadata": {},
     "output_type": "execute_result"
    }
   ],
   "source": [
    "df.head()"
   ]
  },
  {
   "cell_type": "markdown",
   "metadata": {},
   "source": [
    "#### Dropping colums last review,since it has 10052 out of 48895 44% null values"
   ]
  },
  {
   "cell_type": "code",
   "execution_count": 12,
   "metadata": {},
   "outputs": [],
   "source": [
    "df.drop(['last_review'] , axis = 1 , inplace= True)"
   ]
  },
  {
   "cell_type": "markdown",
   "metadata": {},
   "source": [
    "#### Replacing all na values in reviews per month with 0"
   ]
  },
  {
   "cell_type": "code",
   "execution_count": 13,
   "metadata": {},
   "outputs": [],
   "source": [
    "df.fillna({'reviews_per_month':0}, inplace=True)"
   ]
  },
  {
   "cell_type": "code",
   "execution_count": 14,
   "metadata": {},
   "outputs": [
    {
     "data": {
      "text/plain": [
       "0"
      ]
     },
     "execution_count": 14,
     "metadata": {},
     "output_type": "execute_result"
    }
   ],
   "source": [
    "df.reviews_per_month.isnull().sum()"
   ]
  },
  {
   "cell_type": "code",
   "execution_count": 15,
   "metadata": {},
   "outputs": [],
   "source": [
    "### Data Imputation:"
   ]
  },
  {
   "cell_type": "markdown",
   "metadata": {},
   "source": [
    "#### imputing null values in latitude and longitude with the help of column neighbourhood_group:"
   ]
  },
  {
   "cell_type": "code",
   "execution_count": 16,
   "metadata": {},
   "outputs": [
    {
     "data": {
      "text/html": [
       "<div>\n",
       "<style scoped>\n",
       "    .dataframe tbody tr th:only-of-type {\n",
       "        vertical-align: middle;\n",
       "    }\n",
       "\n",
       "    .dataframe tbody tr th {\n",
       "        vertical-align: top;\n",
       "    }\n",
       "\n",
       "    .dataframe thead th {\n",
       "        text-align: right;\n",
       "    }\n",
       "</style>\n",
       "<table border=\"1\" class=\"dataframe\">\n",
       "  <thead>\n",
       "    <tr style=\"text-align: right;\">\n",
       "      <th></th>\n",
       "      <th>latitude</th>\n",
       "      <th>longitude</th>\n",
       "    </tr>\n",
       "    <tr>\n",
       "      <th>neighbourhood_group</th>\n",
       "      <th></th>\n",
       "      <th></th>\n",
       "    </tr>\n",
       "  </thead>\n",
       "  <tbody>\n",
       "    <tr>\n",
       "      <th>Bronx</th>\n",
       "      <td>40.81192</td>\n",
       "      <td>-73.91108</td>\n",
       "    </tr>\n",
       "    <tr>\n",
       "      <th>Brooklyn</th>\n",
       "      <td>40.68557</td>\n",
       "      <td>-73.96514</td>\n",
       "    </tr>\n",
       "    <tr>\n",
       "      <th>Manhattan</th>\n",
       "      <td>40.72615</td>\n",
       "      <td>-73.98589</td>\n",
       "    </tr>\n",
       "    <tr>\n",
       "      <th>Queens</th>\n",
       "      <td>40.74807</td>\n",
       "      <td>-73.90959</td>\n",
       "    </tr>\n",
       "    <tr>\n",
       "      <th>Staten Island</th>\n",
       "      <td>40.64497</td>\n",
       "      <td>-74.08645</td>\n",
       "    </tr>\n",
       "  </tbody>\n",
       "</table>\n",
       "</div>"
      ],
      "text/plain": [
       "                     latitude  longitude\n",
       "neighbourhood_group                     \n",
       "Bronx                40.81192  -73.91108\n",
       "Brooklyn             40.68557  -73.96514\n",
       "Manhattan            40.72615  -73.98589\n",
       "Queens               40.74807  -73.90959\n",
       "Staten Island        40.64497  -74.08645"
      ]
     },
     "execution_count": 16,
     "metadata": {},
     "output_type": "execute_result"
    }
   ],
   "source": [
    "df.groupby('neighbourhood_group')[['latitude', 'longitude']].agg(lambda x:x.value_counts().index[0])"
   ]
  },
  {
   "cell_type": "code",
   "execution_count": 17,
   "metadata": {},
   "outputs": [
    {
     "data": {
      "text/html": [
       "<div>\n",
       "<style scoped>\n",
       "    .dataframe tbody tr th:only-of-type {\n",
       "        vertical-align: middle;\n",
       "    }\n",
       "\n",
       "    .dataframe tbody tr th {\n",
       "        vertical-align: top;\n",
       "    }\n",
       "\n",
       "    .dataframe thead th {\n",
       "        text-align: right;\n",
       "    }\n",
       "</style>\n",
       "<table border=\"1\" class=\"dataframe\">\n",
       "  <thead>\n",
       "    <tr style=\"text-align: right;\">\n",
       "      <th></th>\n",
       "      <th>id</th>\n",
       "      <th>name</th>\n",
       "      <th>host_id</th>\n",
       "      <th>host_name</th>\n",
       "      <th>neighbourhood_group</th>\n",
       "      <th>neighbourhood</th>\n",
       "      <th>latitude</th>\n",
       "      <th>longitude</th>\n",
       "      <th>room_type</th>\n",
       "      <th>price</th>\n",
       "      <th>minimum_nights</th>\n",
       "      <th>number_of_reviews</th>\n",
       "      <th>reviews_per_month</th>\n",
       "      <th>calculated_host_listings_count</th>\n",
       "      <th>availability_365</th>\n",
       "    </tr>\n",
       "  </thead>\n",
       "  <tbody>\n",
       "    <tr>\n",
       "      <th>2</th>\n",
       "      <td>3647</td>\n",
       "      <td>THE VILLAGE OF HARLEM....NEW YORK !</td>\n",
       "      <td>4632</td>\n",
       "      <td>Elisabeth</td>\n",
       "      <td>Manhattan</td>\n",
       "      <td>Harlem</td>\n",
       "      <td>NaN</td>\n",
       "      <td>NaN</td>\n",
       "      <td>Private room</td>\n",
       "      <td>150</td>\n",
       "      <td>3</td>\n",
       "      <td>0</td>\n",
       "      <td>0.00</td>\n",
       "      <td>1</td>\n",
       "      <td>365</td>\n",
       "    </tr>\n",
       "    <tr>\n",
       "      <th>30</th>\n",
       "      <td>9668</td>\n",
       "      <td>front room/double bed</td>\n",
       "      <td>32294</td>\n",
       "      <td>Ssameer Or Trip</td>\n",
       "      <td>Manhattan</td>\n",
       "      <td>Harlem</td>\n",
       "      <td>NaN</td>\n",
       "      <td>NaN</td>\n",
       "      <td>Private room</td>\n",
       "      <td>50</td>\n",
       "      <td>3</td>\n",
       "      <td>242</td>\n",
       "      <td>2.04</td>\n",
       "      <td>3</td>\n",
       "      <td>355</td>\n",
       "    </tr>\n",
       "    <tr>\n",
       "      <th>31</th>\n",
       "      <td>9704</td>\n",
       "      <td>Spacious 1 bedroom in luxe building</td>\n",
       "      <td>32045</td>\n",
       "      <td>Teri</td>\n",
       "      <td>Manhattan</td>\n",
       "      <td>Harlem</td>\n",
       "      <td>NaN</td>\n",
       "      <td>NaN</td>\n",
       "      <td>Private room</td>\n",
       "      <td>52</td>\n",
       "      <td>2</td>\n",
       "      <td>88</td>\n",
       "      <td>1.42</td>\n",
       "      <td>1</td>\n",
       "      <td>255</td>\n",
       "    </tr>\n",
       "    <tr>\n",
       "      <th>33</th>\n",
       "      <td>9783</td>\n",
       "      <td>back room/bunk beds</td>\n",
       "      <td>32294</td>\n",
       "      <td>Ssameer Or Trip</td>\n",
       "      <td>Manhattan</td>\n",
       "      <td>Harlem</td>\n",
       "      <td>NaN</td>\n",
       "      <td>NaN</td>\n",
       "      <td>Private room</td>\n",
       "      <td>50</td>\n",
       "      <td>3</td>\n",
       "      <td>273</td>\n",
       "      <td>2.37</td>\n",
       "      <td>3</td>\n",
       "      <td>359</td>\n",
       "    </tr>\n",
       "    <tr>\n",
       "      <th>44</th>\n",
       "      <td>12343</td>\n",
       "      <td>BEST BET IN HARLEM</td>\n",
       "      <td>47727</td>\n",
       "      <td>Earl</td>\n",
       "      <td>Manhattan</td>\n",
       "      <td>Harlem</td>\n",
       "      <td>NaN</td>\n",
       "      <td>NaN</td>\n",
       "      <td>Entire home/apt</td>\n",
       "      <td>150</td>\n",
       "      <td>7</td>\n",
       "      <td>97</td>\n",
       "      <td>0.84</td>\n",
       "      <td>1</td>\n",
       "      <td>309</td>\n",
       "    </tr>\n",
       "    <tr>\n",
       "      <th>...</th>\n",
       "      <td>...</td>\n",
       "      <td>...</td>\n",
       "      <td>...</td>\n",
       "      <td>...</td>\n",
       "      <td>...</td>\n",
       "      <td>...</td>\n",
       "      <td>...</td>\n",
       "      <td>...</td>\n",
       "      <td>...</td>\n",
       "      <td>...</td>\n",
       "      <td>...</td>\n",
       "      <td>...</td>\n",
       "      <td>...</td>\n",
       "      <td>...</td>\n",
       "      <td>...</td>\n",
       "    </tr>\n",
       "    <tr>\n",
       "      <th>48887</th>\n",
       "      <td>36483152</td>\n",
       "      <td>Garden Jewel Apartment in Williamsburg New York</td>\n",
       "      <td>208514239</td>\n",
       "      <td>Melki</td>\n",
       "      <td>Brooklyn</td>\n",
       "      <td>Williamsburg</td>\n",
       "      <td>NaN</td>\n",
       "      <td>NaN</td>\n",
       "      <td>Entire home/apt</td>\n",
       "      <td>170</td>\n",
       "      <td>1</td>\n",
       "      <td>0</td>\n",
       "      <td>0.00</td>\n",
       "      <td>3</td>\n",
       "      <td>365</td>\n",
       "    </tr>\n",
       "    <tr>\n",
       "      <th>48888</th>\n",
       "      <td>36484087</td>\n",
       "      <td>Spacious Room w/ Private Rooftop, Central loca...</td>\n",
       "      <td>274321313</td>\n",
       "      <td>Kat</td>\n",
       "      <td>Manhattan</td>\n",
       "      <td>Hell's Kitchen</td>\n",
       "      <td>NaN</td>\n",
       "      <td>NaN</td>\n",
       "      <td>Private room</td>\n",
       "      <td>125</td>\n",
       "      <td>4</td>\n",
       "      <td>0</td>\n",
       "      <td>0.00</td>\n",
       "      <td>1</td>\n",
       "      <td>31</td>\n",
       "    </tr>\n",
       "    <tr>\n",
       "      <th>48890</th>\n",
       "      <td>36484665</td>\n",
       "      <td>Charming one bedroom - newly renovated rowhouse</td>\n",
       "      <td>8232441</td>\n",
       "      <td>Sabrina</td>\n",
       "      <td>Brooklyn</td>\n",
       "      <td>Bedford-Stuyvesant</td>\n",
       "      <td>NaN</td>\n",
       "      <td>NaN</td>\n",
       "      <td>Private room</td>\n",
       "      <td>70</td>\n",
       "      <td>2</td>\n",
       "      <td>0</td>\n",
       "      <td>0.00</td>\n",
       "      <td>2</td>\n",
       "      <td>9</td>\n",
       "    </tr>\n",
       "    <tr>\n",
       "      <th>48893</th>\n",
       "      <td>36485609</td>\n",
       "      <td>43rd St. Time Square-cozy single bed</td>\n",
       "      <td>30985759</td>\n",
       "      <td>Taz</td>\n",
       "      <td>Manhattan</td>\n",
       "      <td>Hell's Kitchen</td>\n",
       "      <td>NaN</td>\n",
       "      <td>NaN</td>\n",
       "      <td>Shared room</td>\n",
       "      <td>55</td>\n",
       "      <td>1</td>\n",
       "      <td>0</td>\n",
       "      <td>0.00</td>\n",
       "      <td>6</td>\n",
       "      <td>2</td>\n",
       "    </tr>\n",
       "    <tr>\n",
       "      <th>48894</th>\n",
       "      <td>36487245</td>\n",
       "      <td>Trendy duplex in the very heart of Hell's Kitchen</td>\n",
       "      <td>68119814</td>\n",
       "      <td>Christophe</td>\n",
       "      <td>Manhattan</td>\n",
       "      <td>Hell's Kitchen</td>\n",
       "      <td>NaN</td>\n",
       "      <td>NaN</td>\n",
       "      <td>Private room</td>\n",
       "      <td>90</td>\n",
       "      <td>7</td>\n",
       "      <td>0</td>\n",
       "      <td>0.00</td>\n",
       "      <td>1</td>\n",
       "      <td>23</td>\n",
       "    </tr>\n",
       "  </tbody>\n",
       "</table>\n",
       "<p>22623 rows × 15 columns</p>\n",
       "</div>"
      ],
      "text/plain": [
       "             id                                               name    host_id  \\\n",
       "2          3647                THE VILLAGE OF HARLEM....NEW YORK !       4632   \n",
       "30         9668                              front room/double bed      32294   \n",
       "31         9704                Spacious 1 bedroom in luxe building      32045   \n",
       "33         9783                                back room/bunk beds      32294   \n",
       "44        12343                                 BEST BET IN HARLEM      47727   \n",
       "...         ...                                                ...        ...   \n",
       "48887  36483152    Garden Jewel Apartment in Williamsburg New York  208514239   \n",
       "48888  36484087  Spacious Room w/ Private Rooftop, Central loca...  274321313   \n",
       "48890  36484665    Charming one bedroom - newly renovated rowhouse    8232441   \n",
       "48893  36485609               43rd St. Time Square-cozy single bed   30985759   \n",
       "48894  36487245  Trendy duplex in the very heart of Hell's Kitchen   68119814   \n",
       "\n",
       "             host_name neighbourhood_group       neighbourhood  latitude  \\\n",
       "2            Elisabeth           Manhattan              Harlem       NaN   \n",
       "30     Ssameer Or Trip           Manhattan              Harlem       NaN   \n",
       "31                Teri           Manhattan              Harlem       NaN   \n",
       "33     Ssameer Or Trip           Manhattan              Harlem       NaN   \n",
       "44                Earl           Manhattan              Harlem       NaN   \n",
       "...                ...                 ...                 ...       ...   \n",
       "48887            Melki            Brooklyn        Williamsburg       NaN   \n",
       "48888              Kat           Manhattan      Hell's Kitchen       NaN   \n",
       "48890          Sabrina            Brooklyn  Bedford-Stuyvesant       NaN   \n",
       "48893              Taz           Manhattan      Hell's Kitchen       NaN   \n",
       "48894       Christophe           Manhattan      Hell's Kitchen       NaN   \n",
       "\n",
       "       longitude        room_type  price  minimum_nights  number_of_reviews  \\\n",
       "2            NaN     Private room    150               3                  0   \n",
       "30           NaN     Private room     50               3                242   \n",
       "31           NaN     Private room     52               2                 88   \n",
       "33           NaN     Private room     50               3                273   \n",
       "44           NaN  Entire home/apt    150               7                 97   \n",
       "...          ...              ...    ...             ...                ...   \n",
       "48887        NaN  Entire home/apt    170               1                  0   \n",
       "48888        NaN     Private room    125               4                  0   \n",
       "48890        NaN     Private room     70               2                  0   \n",
       "48893        NaN      Shared room     55               1                  0   \n",
       "48894        NaN     Private room     90               7                  0   \n",
       "\n",
       "       reviews_per_month  calculated_host_listings_count  availability_365  \n",
       "2                   0.00                               1               365  \n",
       "30                  2.04                               3               355  \n",
       "31                  1.42                               1               255  \n",
       "33                  2.37                               3               359  \n",
       "44                  0.84                               1               309  \n",
       "...                  ...                             ...               ...  \n",
       "48887               0.00                               3               365  \n",
       "48888               0.00                               1                31  \n",
       "48890               0.00                               2                 9  \n",
       "48893               0.00                               6                 2  \n",
       "48894               0.00                               1                23  \n",
       "\n",
       "[22623 rows x 15 columns]"
      ]
     },
     "execution_count": 17,
     "metadata": {},
     "output_type": "execute_result"
    }
   ],
   "source": [
    "df[df.isnull().any(axis=1)]"
   ]
  },
  {
   "cell_type": "code",
   "execution_count": 18,
   "metadata": {},
   "outputs": [],
   "source": [
    "df.latitude.loc[(df['neighbourhood_group'] == 'Manhattan') & (df['longitude'].isnull() | df['latitude'].isnull())] =  40.72615\n",
    "df.longitude.loc[(df['neighbourhood_group'] == 'Manhattan') & (df['longitude'].isnull() | df['latitude'].isnull())] = -73.98589"
   ]
  },
  {
   "cell_type": "code",
   "execution_count": 19,
   "metadata": {},
   "outputs": [],
   "source": [
    "df.latitude.loc[(df['neighbourhood_group'] == 'Brooklyn') & (df['longitude'].isnull() | df['latitude'].isnull())] =  40.68557\n",
    "df.longitude.loc[(df['neighbourhood_group'] == 'Brooklyn') & (df['longitude'].isnull() | df['latitude'].isnull())] = -73.96514"
   ]
  },
  {
   "cell_type": "code",
   "execution_count": 20,
   "metadata": {},
   "outputs": [],
   "source": [
    "df.latitude.loc[(df['neighbourhood_group'] == 'Queens') & (df['longitude'].isnull() | df['latitude'].isnull())] = 40.74807\n",
    "df.latitude.loc[(df['neighbourhood_group'] == 'Queens') & (df['longitude'].isnull() | df['latitude'].isnull())] = -73.90959"
   ]
  },
  {
   "cell_type": "code",
   "execution_count": 21,
   "metadata": {},
   "outputs": [],
   "source": [
    "df.latitude.loc[(df['neighbourhood_group'] == 'Staten Island') & (df['longitude'].isnull() | df['latitude'].isnull())] = 40.64497\n",
    "df.latitude.loc[(df['neighbourhood_group'] == 'Staten Island') & (df['longitude'].isnull() | df['latitude'].isnull())] = -74.08645"
   ]
  },
  {
   "cell_type": "code",
   "execution_count": 22,
   "metadata": {},
   "outputs": [],
   "source": [
    "df.latitude.loc[(df['neighbourhood_group'] == 'Bronx') & (df['longitude'].isnull() | df['latitude'].isnull())] = 40.81192\n",
    "df.latitude.loc[(df['neighbourhood_group'] == 'Bronx') & (df['longitude'].isnull() | df['latitude'].isnull())] = -73.91108"
   ]
  },
  {
   "cell_type": "code",
   "execution_count": 23,
   "metadata": {},
   "outputs": [],
   "source": [
    "df.dropna(inplace = True)"
   ]
  },
  {
   "cell_type": "code",
   "execution_count": 24,
   "metadata": {},
   "outputs": [
    {
     "data": {
      "text/plain": [
       "id                                0\n",
       "name                              0\n",
       "host_id                           0\n",
       "host_name                         0\n",
       "neighbourhood_group               0\n",
       "neighbourhood                     0\n",
       "latitude                          0\n",
       "longitude                         0\n",
       "room_type                         0\n",
       "price                             0\n",
       "minimum_nights                    0\n",
       "number_of_reviews                 0\n",
       "reviews_per_month                 0\n",
       "calculated_host_listings_count    0\n",
       "availability_365                  0\n",
       "dtype: int64"
      ]
     },
     "execution_count": 24,
     "metadata": {},
     "output_type": "execute_result"
    }
   ],
   "source": [
    "# rechecking for any na values\n",
    "df.isna().sum()"
   ]
  },
  {
   "cell_type": "code",
   "execution_count": 25,
   "metadata": {},
   "outputs": [
    {
     "data": {
      "text/plain": [
       "(48847, 15)"
      ]
     },
     "execution_count": 25,
     "metadata": {},
     "output_type": "execute_result"
    }
   ],
   "source": [
    "# new shape of the cleaned dataset\n",
    "df.shape"
   ]
  },
  {
   "cell_type": "code",
   "execution_count": 33,
   "metadata": {},
   "outputs": [
    {
     "data": {
      "text/html": [
       "<div>\n",
       "<style scoped>\n",
       "    .dataframe tbody tr th:only-of-type {\n",
       "        vertical-align: middle;\n",
       "    }\n",
       "\n",
       "    .dataframe tbody tr th {\n",
       "        vertical-align: top;\n",
       "    }\n",
       "\n",
       "    .dataframe thead th {\n",
       "        text-align: right;\n",
       "    }\n",
       "</style>\n",
       "<table border=\"1\" class=\"dataframe\">\n",
       "  <thead>\n",
       "    <tr style=\"text-align: right;\">\n",
       "      <th></th>\n",
       "      <th>max</th>\n",
       "      <th>mean</th>\n",
       "      <th>min</th>\n",
       "    </tr>\n",
       "    <tr>\n",
       "      <th>neighbourhood_group</th>\n",
       "      <th></th>\n",
       "      <th></th>\n",
       "      <th></th>\n",
       "    </tr>\n",
       "  </thead>\n",
       "  <tbody>\n",
       "    <tr>\n",
       "      <th>Bronx</th>\n",
       "      <td>2500.0</td>\n",
       "      <td>87.469238</td>\n",
       "      <td>0.0</td>\n",
       "    </tr>\n",
       "    <tr>\n",
       "      <th>Brooklyn</th>\n",
       "      <td>10000.0</td>\n",
       "      <td>124.432975</td>\n",
       "      <td>0.0</td>\n",
       "    </tr>\n",
       "    <tr>\n",
       "      <th>Manhattan</th>\n",
       "      <td>10000.0</td>\n",
       "      <td>196.911275</td>\n",
       "      <td>0.0</td>\n",
       "    </tr>\n",
       "    <tr>\n",
       "      <th>Queens</th>\n",
       "      <td>10000.0</td>\n",
       "      <td>99.527106</td>\n",
       "      <td>10.0</td>\n",
       "    </tr>\n",
       "    <tr>\n",
       "      <th>Staten Island</th>\n",
       "      <td>5000.0</td>\n",
       "      <td>114.812332</td>\n",
       "      <td>13.0</td>\n",
       "    </tr>\n",
       "  </tbody>\n",
       "</table>\n",
       "</div>"
      ],
      "text/plain": [
       "                         max        mean   min\n",
       "neighbourhood_group                           \n",
       "Bronx                 2500.0   87.469238   0.0\n",
       "Brooklyn             10000.0  124.432975   0.0\n",
       "Manhattan            10000.0  196.911275   0.0\n",
       "Queens               10000.0   99.527106  10.0\n",
       "Staten Island         5000.0  114.812332  13.0"
      ]
     },
     "execution_count": 33,
     "metadata": {},
     "output_type": "execute_result"
    }
   ],
   "source": [
    "# price distribution accross different neighbourhood groups:\n",
    "df.pivot_table(index = 'neighbourhood_group', values ='price', aggfunc= ('min','max', np.mean))"
   ]
  },
  {
   "cell_type": "code",
   "execution_count": 34,
   "metadata": {},
   "outputs": [
    {
     "data": {
      "text/html": [
       "<div>\n",
       "<style scoped>\n",
       "    .dataframe tbody tr th:only-of-type {\n",
       "        vertical-align: middle;\n",
       "    }\n",
       "\n",
       "    .dataframe tbody tr th {\n",
       "        vertical-align: top;\n",
       "    }\n",
       "\n",
       "    .dataframe thead th {\n",
       "        text-align: right;\n",
       "    }\n",
       "</style>\n",
       "<table border=\"1\" class=\"dataframe\">\n",
       "  <thead>\n",
       "    <tr style=\"text-align: right;\">\n",
       "      <th></th>\n",
       "      <th>id</th>\n",
       "      <th>name</th>\n",
       "      <th>host_id</th>\n",
       "      <th>host_name</th>\n",
       "      <th>neighbourhood_group</th>\n",
       "      <th>neighbourhood</th>\n",
       "      <th>latitude</th>\n",
       "      <th>longitude</th>\n",
       "      <th>room_type</th>\n",
       "      <th>price</th>\n",
       "      <th>minimum_nights</th>\n",
       "      <th>number_of_reviews</th>\n",
       "      <th>reviews_per_month</th>\n",
       "      <th>calculated_host_listings_count</th>\n",
       "      <th>availability_365</th>\n",
       "    </tr>\n",
       "  </thead>\n",
       "  <tbody>\n",
       "    <tr>\n",
       "      <th>0</th>\n",
       "      <td>2539</td>\n",
       "      <td>Clean &amp; quiet apt home by the park</td>\n",
       "      <td>2787</td>\n",
       "      <td>John</td>\n",
       "      <td>Brooklyn</td>\n",
       "      <td>Kensington</td>\n",
       "      <td>40.64749</td>\n",
       "      <td>-73.97237</td>\n",
       "      <td>Private room</td>\n",
       "      <td>149</td>\n",
       "      <td>1</td>\n",
       "      <td>9</td>\n",
       "      <td>0.21</td>\n",
       "      <td>6</td>\n",
       "      <td>365</td>\n",
       "    </tr>\n",
       "    <tr>\n",
       "      <th>1</th>\n",
       "      <td>2595</td>\n",
       "      <td>Skylit Midtown Castle</td>\n",
       "      <td>2845</td>\n",
       "      <td>Jennifer</td>\n",
       "      <td>Manhattan</td>\n",
       "      <td>Midtown</td>\n",
       "      <td>40.75362</td>\n",
       "      <td>-73.98377</td>\n",
       "      <td>Entire home/apt</td>\n",
       "      <td>225</td>\n",
       "      <td>1</td>\n",
       "      <td>45</td>\n",
       "      <td>0.38</td>\n",
       "      <td>2</td>\n",
       "      <td>355</td>\n",
       "    </tr>\n",
       "    <tr>\n",
       "      <th>2</th>\n",
       "      <td>3647</td>\n",
       "      <td>THE VILLAGE OF HARLEM....NEW YORK !</td>\n",
       "      <td>4632</td>\n",
       "      <td>Elisabeth</td>\n",
       "      <td>Manhattan</td>\n",
       "      <td>Harlem</td>\n",
       "      <td>40.72615</td>\n",
       "      <td>-73.98589</td>\n",
       "      <td>Private room</td>\n",
       "      <td>150</td>\n",
       "      <td>3</td>\n",
       "      <td>0</td>\n",
       "      <td>0.00</td>\n",
       "      <td>1</td>\n",
       "      <td>365</td>\n",
       "    </tr>\n",
       "    <tr>\n",
       "      <th>3</th>\n",
       "      <td>3831</td>\n",
       "      <td>Cozy Entire Floor of Brownstone</td>\n",
       "      <td>4869</td>\n",
       "      <td>LisaRoxanne</td>\n",
       "      <td>Brooklyn</td>\n",
       "      <td>Clinton Hill</td>\n",
       "      <td>40.68514</td>\n",
       "      <td>-73.95976</td>\n",
       "      <td>Entire home/apt</td>\n",
       "      <td>89</td>\n",
       "      <td>1</td>\n",
       "      <td>270</td>\n",
       "      <td>4.64</td>\n",
       "      <td>1</td>\n",
       "      <td>194</td>\n",
       "    </tr>\n",
       "    <tr>\n",
       "      <th>4</th>\n",
       "      <td>5022</td>\n",
       "      <td>Entire Apt: Spacious Studio/Loft by central park</td>\n",
       "      <td>7192</td>\n",
       "      <td>Laura</td>\n",
       "      <td>Manhattan</td>\n",
       "      <td>East Harlem</td>\n",
       "      <td>40.79851</td>\n",
       "      <td>-73.94399</td>\n",
       "      <td>Entire home/apt</td>\n",
       "      <td>80</td>\n",
       "      <td>10</td>\n",
       "      <td>9</td>\n",
       "      <td>0.10</td>\n",
       "      <td>1</td>\n",
       "      <td>0</td>\n",
       "    </tr>\n",
       "  </tbody>\n",
       "</table>\n",
       "</div>"
      ],
      "text/plain": [
       "     id                                              name  host_id  \\\n",
       "0  2539                Clean & quiet apt home by the park     2787   \n",
       "1  2595                             Skylit Midtown Castle     2845   \n",
       "2  3647               THE VILLAGE OF HARLEM....NEW YORK !     4632   \n",
       "3  3831                   Cozy Entire Floor of Brownstone     4869   \n",
       "4  5022  Entire Apt: Spacious Studio/Loft by central park     7192   \n",
       "\n",
       "     host_name neighbourhood_group neighbourhood  latitude  longitude  \\\n",
       "0         John            Brooklyn    Kensington  40.64749  -73.97237   \n",
       "1     Jennifer           Manhattan       Midtown  40.75362  -73.98377   \n",
       "2    Elisabeth           Manhattan        Harlem  40.72615  -73.98589   \n",
       "3  LisaRoxanne            Brooklyn  Clinton Hill  40.68514  -73.95976   \n",
       "4        Laura           Manhattan   East Harlem  40.79851  -73.94399   \n",
       "\n",
       "         room_type  price  minimum_nights  number_of_reviews  \\\n",
       "0     Private room    149               1                  9   \n",
       "1  Entire home/apt    225               1                 45   \n",
       "2     Private room    150               3                  0   \n",
       "3  Entire home/apt     89               1                270   \n",
       "4  Entire home/apt     80              10                  9   \n",
       "\n",
       "   reviews_per_month  calculated_host_listings_count  availability_365  \n",
       "0               0.21                               6               365  \n",
       "1               0.38                               2               355  \n",
       "2               0.00                               1               365  \n",
       "3               4.64                               1               194  \n",
       "4               0.10                               1                 0  "
      ]
     },
     "execution_count": 34,
     "metadata": {},
     "output_type": "execute_result"
    }
   ],
   "source": [
    "df.head()"
   ]
  },
  {
   "cell_type": "code",
   "execution_count": 35,
   "metadata": {},
   "outputs": [],
   "source": [
    "import numpy as np\n",
    "import pandas as pd\n",
    "from matplotlib import pyplot as plt\n",
    "from sklearn.datasets import load_breast_cancer\n",
    "from sklearn.metrics import confusion_matrix\n",
    "from sklearn.neighbors import KNeighborsClassifier\n",
    "from sklearn.model_selection import train_test_split\n",
    "import seaborn as sns\n",
    "sns.set()"
   ]
  },
  {
   "cell_type": "markdown",
   "metadata": {},
   "source": [
    "#### Checking skewness of price variable by seeing mean, median"
   ]
  },
  {
   "cell_type": "code",
   "execution_count": 36,
   "metadata": {},
   "outputs": [
    {
     "data": {
      "text/plain": [
       "152.75705775175547"
      ]
     },
     "execution_count": 36,
     "metadata": {},
     "output_type": "execute_result"
    }
   ],
   "source": [
    "df['price'].mean()"
   ]
  },
  {
   "cell_type": "code",
   "execution_count": 37,
   "metadata": {},
   "outputs": [
    {
     "data": {
      "text/plain": [
       "0"
      ]
     },
     "execution_count": 37,
     "metadata": {},
     "output_type": "execute_result"
    }
   ],
   "source": [
    "df['price'].min()"
   ]
  },
  {
   "cell_type": "code",
   "execution_count": 38,
   "metadata": {},
   "outputs": [
    {
     "data": {
      "text/plain": [
       "106.0"
      ]
     },
     "execution_count": 38,
     "metadata": {},
     "output_type": "execute_result"
    }
   ],
   "source": [
    "df['price'].median()"
   ]
  },
  {
   "cell_type": "markdown",
   "metadata": {},
   "source": [
    "#### Taking mean of price, after removing outliers:"
   ]
  },
  {
   "cell_type": "code",
   "execution_count": 39,
   "metadata": {},
   "outputs": [
    {
     "data": {
      "text/plain": [
       "138.76972285849894"
      ]
     },
     "execution_count": 39,
     "metadata": {},
     "output_type": "execute_result"
    }
   ],
   "source": [
    "df.price[((df.price - df.price.mean()) / df.price.std()).abs() < 3].mean()"
   ]
  },
  {
   "cell_type": "markdown",
   "metadata": {},
   "source": [
    "#### Target variable - all price greater than mean = 1, all price value less than mean as 0, for the purpose of classification"
   ]
  },
  {
   "cell_type": "code",
   "execution_count": 40,
   "metadata": {},
   "outputs": [],
   "source": [
    "df['target'] = 0"
   ]
  },
  {
   "cell_type": "code",
   "execution_count": 41,
   "metadata": {},
   "outputs": [],
   "source": [
    "df.loc[df['price'] > 139, 'target'] = 1\n"
   ]
  },
  {
   "cell_type": "code",
   "execution_count": 42,
   "metadata": {},
   "outputs": [
    {
     "data": {
      "text/plain": [
       "0    30499\n",
       "1    18348\n",
       "Name: target, dtype: int64"
      ]
     },
     "execution_count": 42,
     "metadata": {},
     "output_type": "execute_result"
    }
   ],
   "source": [
    "# Checking distribution of target variable:\n",
    "df.target.value_counts()"
   ]
  },
  {
   "cell_type": "code",
   "execution_count": 43,
   "metadata": {},
   "outputs": [],
   "source": [
    "#### Creating dummy variables for 'neighbourhood_group' and 'room_type' variables that are categorical for the purpose of building models:"
   ]
  },
  {
   "cell_type": "code",
   "execution_count": 44,
   "metadata": {},
   "outputs": [],
   "source": [
    "neighbourhood_category=pd.get_dummies(df['neighbourhood_group'],columns='neighbourhood_group',prefix='neighbourhood_group')\n",
    "df=pd.concat([df, neighbourhood_category], axis=1)\n",
    "df.drop(['neighbourhood_group'],axis=1,inplace= True)"
   ]
  },
  {
   "cell_type": "code",
   "execution_count": 45,
   "metadata": {},
   "outputs": [],
   "source": [
    "room_category=pd.get_dummies(df['room_type'],columns='room_type',prefix='room_type')\n",
    "df=pd.concat([df, room_category], axis=1)\n",
    "df.drop(['room_type'],axis=1,inplace= True)"
   ]
  },
  {
   "cell_type": "markdown",
   "metadata": {},
   "source": [
    "#### Checking columns in modified dataframe:"
   ]
  },
  {
   "cell_type": "code",
   "execution_count": 46,
   "metadata": {},
   "outputs": [
    {
     "data": {
      "text/plain": [
       "Index(['id', 'name', 'host_id', 'host_name', 'neighbourhood', 'latitude',\n",
       "       'longitude', 'price', 'minimum_nights', 'number_of_reviews',\n",
       "       'reviews_per_month', 'calculated_host_listings_count',\n",
       "       'availability_365', 'target', 'neighbourhood_group_Bronx',\n",
       "       'neighbourhood_group_Brooklyn', 'neighbourhood_group_Manhattan',\n",
       "       'neighbourhood_group_Queens', 'neighbourhood_group_Staten Island',\n",
       "       'room_type_Entire home/apt', 'room_type_Private room',\n",
       "       'room_type_Shared room'],\n",
       "      dtype='object')"
      ]
     },
     "execution_count": 46,
     "metadata": {},
     "output_type": "execute_result"
    }
   ],
   "source": [
    "df.columns"
   ]
  },
  {
   "cell_type": "code",
   "execution_count": 47,
   "metadata": {},
   "outputs": [
    {
     "data": {
      "text/html": [
       "<div>\n",
       "<style scoped>\n",
       "    .dataframe tbody tr th:only-of-type {\n",
       "        vertical-align: middle;\n",
       "    }\n",
       "\n",
       "    .dataframe tbody tr th {\n",
       "        vertical-align: top;\n",
       "    }\n",
       "\n",
       "    .dataframe thead th {\n",
       "        text-align: right;\n",
       "    }\n",
       "</style>\n",
       "<table border=\"1\" class=\"dataframe\">\n",
       "  <thead>\n",
       "    <tr style=\"text-align: right;\">\n",
       "      <th></th>\n",
       "      <th>0</th>\n",
       "      <th>1</th>\n",
       "      <th>2</th>\n",
       "      <th>3</th>\n",
       "      <th>4</th>\n",
       "    </tr>\n",
       "  </thead>\n",
       "  <tbody>\n",
       "    <tr>\n",
       "      <th>id</th>\n",
       "      <td>2539</td>\n",
       "      <td>2595</td>\n",
       "      <td>3647</td>\n",
       "      <td>3831</td>\n",
       "      <td>5022</td>\n",
       "    </tr>\n",
       "    <tr>\n",
       "      <th>name</th>\n",
       "      <td>Clean &amp; quiet apt home by the park</td>\n",
       "      <td>Skylit Midtown Castle</td>\n",
       "      <td>THE VILLAGE OF HARLEM....NEW YORK !</td>\n",
       "      <td>Cozy Entire Floor of Brownstone</td>\n",
       "      <td>Entire Apt: Spacious Studio/Loft by central park</td>\n",
       "    </tr>\n",
       "    <tr>\n",
       "      <th>host_id</th>\n",
       "      <td>2787</td>\n",
       "      <td>2845</td>\n",
       "      <td>4632</td>\n",
       "      <td>4869</td>\n",
       "      <td>7192</td>\n",
       "    </tr>\n",
       "    <tr>\n",
       "      <th>host_name</th>\n",
       "      <td>John</td>\n",
       "      <td>Jennifer</td>\n",
       "      <td>Elisabeth</td>\n",
       "      <td>LisaRoxanne</td>\n",
       "      <td>Laura</td>\n",
       "    </tr>\n",
       "    <tr>\n",
       "      <th>neighbourhood</th>\n",
       "      <td>Kensington</td>\n",
       "      <td>Midtown</td>\n",
       "      <td>Harlem</td>\n",
       "      <td>Clinton Hill</td>\n",
       "      <td>East Harlem</td>\n",
       "    </tr>\n",
       "    <tr>\n",
       "      <th>latitude</th>\n",
       "      <td>40.6475</td>\n",
       "      <td>40.7536</td>\n",
       "      <td>40.7261</td>\n",
       "      <td>40.6851</td>\n",
       "      <td>40.7985</td>\n",
       "    </tr>\n",
       "    <tr>\n",
       "      <th>longitude</th>\n",
       "      <td>-73.9724</td>\n",
       "      <td>-73.9838</td>\n",
       "      <td>-73.9859</td>\n",
       "      <td>-73.9598</td>\n",
       "      <td>-73.944</td>\n",
       "    </tr>\n",
       "    <tr>\n",
       "      <th>price</th>\n",
       "      <td>149</td>\n",
       "      <td>225</td>\n",
       "      <td>150</td>\n",
       "      <td>89</td>\n",
       "      <td>80</td>\n",
       "    </tr>\n",
       "    <tr>\n",
       "      <th>minimum_nights</th>\n",
       "      <td>1</td>\n",
       "      <td>1</td>\n",
       "      <td>3</td>\n",
       "      <td>1</td>\n",
       "      <td>10</td>\n",
       "    </tr>\n",
       "    <tr>\n",
       "      <th>number_of_reviews</th>\n",
       "      <td>9</td>\n",
       "      <td>45</td>\n",
       "      <td>0</td>\n",
       "      <td>270</td>\n",
       "      <td>9</td>\n",
       "    </tr>\n",
       "    <tr>\n",
       "      <th>reviews_per_month</th>\n",
       "      <td>0.21</td>\n",
       "      <td>0.38</td>\n",
       "      <td>0</td>\n",
       "      <td>4.64</td>\n",
       "      <td>0.1</td>\n",
       "    </tr>\n",
       "    <tr>\n",
       "      <th>calculated_host_listings_count</th>\n",
       "      <td>6</td>\n",
       "      <td>2</td>\n",
       "      <td>1</td>\n",
       "      <td>1</td>\n",
       "      <td>1</td>\n",
       "    </tr>\n",
       "    <tr>\n",
       "      <th>availability_365</th>\n",
       "      <td>365</td>\n",
       "      <td>355</td>\n",
       "      <td>365</td>\n",
       "      <td>194</td>\n",
       "      <td>0</td>\n",
       "    </tr>\n",
       "    <tr>\n",
       "      <th>target</th>\n",
       "      <td>1</td>\n",
       "      <td>1</td>\n",
       "      <td>1</td>\n",
       "      <td>0</td>\n",
       "      <td>0</td>\n",
       "    </tr>\n",
       "    <tr>\n",
       "      <th>neighbourhood_group_Bronx</th>\n",
       "      <td>0</td>\n",
       "      <td>0</td>\n",
       "      <td>0</td>\n",
       "      <td>0</td>\n",
       "      <td>0</td>\n",
       "    </tr>\n",
       "    <tr>\n",
       "      <th>neighbourhood_group_Brooklyn</th>\n",
       "      <td>1</td>\n",
       "      <td>0</td>\n",
       "      <td>0</td>\n",
       "      <td>1</td>\n",
       "      <td>0</td>\n",
       "    </tr>\n",
       "    <tr>\n",
       "      <th>neighbourhood_group_Manhattan</th>\n",
       "      <td>0</td>\n",
       "      <td>1</td>\n",
       "      <td>1</td>\n",
       "      <td>0</td>\n",
       "      <td>1</td>\n",
       "    </tr>\n",
       "    <tr>\n",
       "      <th>neighbourhood_group_Queens</th>\n",
       "      <td>0</td>\n",
       "      <td>0</td>\n",
       "      <td>0</td>\n",
       "      <td>0</td>\n",
       "      <td>0</td>\n",
       "    </tr>\n",
       "    <tr>\n",
       "      <th>neighbourhood_group_Staten Island</th>\n",
       "      <td>0</td>\n",
       "      <td>0</td>\n",
       "      <td>0</td>\n",
       "      <td>0</td>\n",
       "      <td>0</td>\n",
       "    </tr>\n",
       "    <tr>\n",
       "      <th>room_type_Entire home/apt</th>\n",
       "      <td>0</td>\n",
       "      <td>1</td>\n",
       "      <td>0</td>\n",
       "      <td>1</td>\n",
       "      <td>1</td>\n",
       "    </tr>\n",
       "    <tr>\n",
       "      <th>room_type_Private room</th>\n",
       "      <td>1</td>\n",
       "      <td>0</td>\n",
       "      <td>1</td>\n",
       "      <td>0</td>\n",
       "      <td>0</td>\n",
       "    </tr>\n",
       "    <tr>\n",
       "      <th>room_type_Shared room</th>\n",
       "      <td>0</td>\n",
       "      <td>0</td>\n",
       "      <td>0</td>\n",
       "      <td>0</td>\n",
       "      <td>0</td>\n",
       "    </tr>\n",
       "  </tbody>\n",
       "</table>\n",
       "</div>"
      ],
      "text/plain": [
       "                                                                    0  \\\n",
       "id                                                               2539   \n",
       "name                               Clean & quiet apt home by the park   \n",
       "host_id                                                          2787   \n",
       "host_name                                                        John   \n",
       "neighbourhood                                              Kensington   \n",
       "latitude                                                      40.6475   \n",
       "longitude                                                    -73.9724   \n",
       "price                                                             149   \n",
       "minimum_nights                                                      1   \n",
       "number_of_reviews                                                   9   \n",
       "reviews_per_month                                                0.21   \n",
       "calculated_host_listings_count                                      6   \n",
       "availability_365                                                  365   \n",
       "target                                                              1   \n",
       "neighbourhood_group_Bronx                                           0   \n",
       "neighbourhood_group_Brooklyn                                        1   \n",
       "neighbourhood_group_Manhattan                                       0   \n",
       "neighbourhood_group_Queens                                          0   \n",
       "neighbourhood_group_Staten Island                                   0   \n",
       "room_type_Entire home/apt                                           0   \n",
       "room_type_Private room                                              1   \n",
       "room_type_Shared room                                               0   \n",
       "\n",
       "                                                       1  \\\n",
       "id                                                  2595   \n",
       "name                               Skylit Midtown Castle   \n",
       "host_id                                             2845   \n",
       "host_name                                       Jennifer   \n",
       "neighbourhood                                    Midtown   \n",
       "latitude                                         40.7536   \n",
       "longitude                                       -73.9838   \n",
       "price                                                225   \n",
       "minimum_nights                                         1   \n",
       "number_of_reviews                                     45   \n",
       "reviews_per_month                                   0.38   \n",
       "calculated_host_listings_count                         2   \n",
       "availability_365                                     355   \n",
       "target                                                 1   \n",
       "neighbourhood_group_Bronx                              0   \n",
       "neighbourhood_group_Brooklyn                           0   \n",
       "neighbourhood_group_Manhattan                          1   \n",
       "neighbourhood_group_Queens                             0   \n",
       "neighbourhood_group_Staten Island                      0   \n",
       "room_type_Entire home/apt                              1   \n",
       "room_type_Private room                                 0   \n",
       "room_type_Shared room                                  0   \n",
       "\n",
       "                                                                     2  \\\n",
       "id                                                                3647   \n",
       "name                               THE VILLAGE OF HARLEM....NEW YORK !   \n",
       "host_id                                                           4632   \n",
       "host_name                                                    Elisabeth   \n",
       "neighbourhood                                                   Harlem   \n",
       "latitude                                                       40.7261   \n",
       "longitude                                                     -73.9859   \n",
       "price                                                              150   \n",
       "minimum_nights                                                       3   \n",
       "number_of_reviews                                                    0   \n",
       "reviews_per_month                                                    0   \n",
       "calculated_host_listings_count                                       1   \n",
       "availability_365                                                   365   \n",
       "target                                                               1   \n",
       "neighbourhood_group_Bronx                                            0   \n",
       "neighbourhood_group_Brooklyn                                         0   \n",
       "neighbourhood_group_Manhattan                                        1   \n",
       "neighbourhood_group_Queens                                           0   \n",
       "neighbourhood_group_Staten Island                                    0   \n",
       "room_type_Entire home/apt                                            0   \n",
       "room_type_Private room                                               1   \n",
       "room_type_Shared room                                                0   \n",
       "\n",
       "                                                                 3  \\\n",
       "id                                                            3831   \n",
       "name                               Cozy Entire Floor of Brownstone   \n",
       "host_id                                                       4869   \n",
       "host_name                                              LisaRoxanne   \n",
       "neighbourhood                                         Clinton Hill   \n",
       "latitude                                                   40.6851   \n",
       "longitude                                                 -73.9598   \n",
       "price                                                           89   \n",
       "minimum_nights                                                   1   \n",
       "number_of_reviews                                              270   \n",
       "reviews_per_month                                             4.64   \n",
       "calculated_host_listings_count                                   1   \n",
       "availability_365                                               194   \n",
       "target                                                           0   \n",
       "neighbourhood_group_Bronx                                        0   \n",
       "neighbourhood_group_Brooklyn                                     1   \n",
       "neighbourhood_group_Manhattan                                    0   \n",
       "neighbourhood_group_Queens                                       0   \n",
       "neighbourhood_group_Staten Island                                0   \n",
       "room_type_Entire home/apt                                        1   \n",
       "room_type_Private room                                           0   \n",
       "room_type_Shared room                                            0   \n",
       "\n",
       "                                                                                  4  \n",
       "id                                                                             5022  \n",
       "name                               Entire Apt: Spacious Studio/Loft by central park  \n",
       "host_id                                                                        7192  \n",
       "host_name                                                                     Laura  \n",
       "neighbourhood                                                           East Harlem  \n",
       "latitude                                                                    40.7985  \n",
       "longitude                                                                   -73.944  \n",
       "price                                                                            80  \n",
       "minimum_nights                                                                   10  \n",
       "number_of_reviews                                                                 9  \n",
       "reviews_per_month                                                               0.1  \n",
       "calculated_host_listings_count                                                    1  \n",
       "availability_365                                                                  0  \n",
       "target                                                                            0  \n",
       "neighbourhood_group_Bronx                                                         0  \n",
       "neighbourhood_group_Brooklyn                                                      0  \n",
       "neighbourhood_group_Manhattan                                                     1  \n",
       "neighbourhood_group_Queens                                                        0  \n",
       "neighbourhood_group_Staten Island                                                 0  \n",
       "room_type_Entire home/apt                                                         1  \n",
       "room_type_Private room                                                            0  \n",
       "room_type_Shared room                                                             0  "
      ]
     },
     "execution_count": 47,
     "metadata": {},
     "output_type": "execute_result"
    }
   ],
   "source": [
    "df.head().T"
   ]
  },
  {
   "cell_type": "markdown",
   "metadata": {},
   "source": [
    "#### assigning target variable to y"
   ]
  },
  {
   "cell_type": "code",
   "execution_count": 48,
   "metadata": {},
   "outputs": [],
   "source": [
    "y = df[['target']]"
   ]
  },
  {
   "cell_type": "markdown",
   "metadata": {},
   "source": [
    "#### Dropping redundant such as : 'latitude', 'longitude', 'price', 'calculated_host_listings_count', 'number_of_reviews', 'neighbourhood' \n",
    "#### and insignificant variables such as : 'id', 'name', 'host_id', 'host_name'"
   ]
  },
  {
   "cell_type": "code",
   "execution_count": 49,
   "metadata": {},
   "outputs": [],
   "source": [
    "x = df.drop(['id', 'name', 'host_id', 'host_name', 'latitude', 'longitude', 'price', 'calculated_host_listings_count', 'number_of_reviews', 'neighbourhood', 'target'], axis = 1)"
   ]
  },
  {
   "cell_type": "code",
   "execution_count": 50,
   "metadata": {
    "scrolled": true
   },
   "outputs": [
    {
     "data": {
      "text/html": [
       "<div>\n",
       "<style scoped>\n",
       "    .dataframe tbody tr th:only-of-type {\n",
       "        vertical-align: middle;\n",
       "    }\n",
       "\n",
       "    .dataframe tbody tr th {\n",
       "        vertical-align: top;\n",
       "    }\n",
       "\n",
       "    .dataframe thead th {\n",
       "        text-align: right;\n",
       "    }\n",
       "</style>\n",
       "<table border=\"1\" class=\"dataframe\">\n",
       "  <thead>\n",
       "    <tr style=\"text-align: right;\">\n",
       "      <th></th>\n",
       "      <th>0</th>\n",
       "      <th>1</th>\n",
       "      <th>2</th>\n",
       "      <th>3</th>\n",
       "      <th>4</th>\n",
       "    </tr>\n",
       "  </thead>\n",
       "  <tbody>\n",
       "    <tr>\n",
       "      <th>minimum_nights</th>\n",
       "      <td>1.00</td>\n",
       "      <td>1.00</td>\n",
       "      <td>3.0</td>\n",
       "      <td>1.00</td>\n",
       "      <td>10.0</td>\n",
       "    </tr>\n",
       "    <tr>\n",
       "      <th>reviews_per_month</th>\n",
       "      <td>0.21</td>\n",
       "      <td>0.38</td>\n",
       "      <td>0.0</td>\n",
       "      <td>4.64</td>\n",
       "      <td>0.1</td>\n",
       "    </tr>\n",
       "    <tr>\n",
       "      <th>availability_365</th>\n",
       "      <td>365.00</td>\n",
       "      <td>355.00</td>\n",
       "      <td>365.0</td>\n",
       "      <td>194.00</td>\n",
       "      <td>0.0</td>\n",
       "    </tr>\n",
       "    <tr>\n",
       "      <th>neighbourhood_group_Bronx</th>\n",
       "      <td>0.00</td>\n",
       "      <td>0.00</td>\n",
       "      <td>0.0</td>\n",
       "      <td>0.00</td>\n",
       "      <td>0.0</td>\n",
       "    </tr>\n",
       "    <tr>\n",
       "      <th>neighbourhood_group_Brooklyn</th>\n",
       "      <td>1.00</td>\n",
       "      <td>0.00</td>\n",
       "      <td>0.0</td>\n",
       "      <td>1.00</td>\n",
       "      <td>0.0</td>\n",
       "    </tr>\n",
       "    <tr>\n",
       "      <th>neighbourhood_group_Manhattan</th>\n",
       "      <td>0.00</td>\n",
       "      <td>1.00</td>\n",
       "      <td>1.0</td>\n",
       "      <td>0.00</td>\n",
       "      <td>1.0</td>\n",
       "    </tr>\n",
       "    <tr>\n",
       "      <th>neighbourhood_group_Queens</th>\n",
       "      <td>0.00</td>\n",
       "      <td>0.00</td>\n",
       "      <td>0.0</td>\n",
       "      <td>0.00</td>\n",
       "      <td>0.0</td>\n",
       "    </tr>\n",
       "    <tr>\n",
       "      <th>neighbourhood_group_Staten Island</th>\n",
       "      <td>0.00</td>\n",
       "      <td>0.00</td>\n",
       "      <td>0.0</td>\n",
       "      <td>0.00</td>\n",
       "      <td>0.0</td>\n",
       "    </tr>\n",
       "    <tr>\n",
       "      <th>room_type_Entire home/apt</th>\n",
       "      <td>0.00</td>\n",
       "      <td>1.00</td>\n",
       "      <td>0.0</td>\n",
       "      <td>1.00</td>\n",
       "      <td>1.0</td>\n",
       "    </tr>\n",
       "    <tr>\n",
       "      <th>room_type_Private room</th>\n",
       "      <td>1.00</td>\n",
       "      <td>0.00</td>\n",
       "      <td>1.0</td>\n",
       "      <td>0.00</td>\n",
       "      <td>0.0</td>\n",
       "    </tr>\n",
       "    <tr>\n",
       "      <th>room_type_Shared room</th>\n",
       "      <td>0.00</td>\n",
       "      <td>0.00</td>\n",
       "      <td>0.0</td>\n",
       "      <td>0.00</td>\n",
       "      <td>0.0</td>\n",
       "    </tr>\n",
       "  </tbody>\n",
       "</table>\n",
       "</div>"
      ],
      "text/plain": [
       "                                        0       1      2       3     4\n",
       "minimum_nights                       1.00    1.00    3.0    1.00  10.0\n",
       "reviews_per_month                    0.21    0.38    0.0    4.64   0.1\n",
       "availability_365                   365.00  355.00  365.0  194.00   0.0\n",
       "neighbourhood_group_Bronx            0.00    0.00    0.0    0.00   0.0\n",
       "neighbourhood_group_Brooklyn         1.00    0.00    0.0    1.00   0.0\n",
       "neighbourhood_group_Manhattan        0.00    1.00    1.0    0.00   1.0\n",
       "neighbourhood_group_Queens           0.00    0.00    0.0    0.00   0.0\n",
       "neighbourhood_group_Staten Island    0.00    0.00    0.0    0.00   0.0\n",
       "room_type_Entire home/apt            0.00    1.00    0.0    1.00   1.0\n",
       "room_type_Private room               1.00    0.00    1.0    0.00   0.0\n",
       "room_type_Shared room                0.00    0.00    0.0    0.00   0.0"
      ]
     },
     "execution_count": 50,
     "metadata": {},
     "output_type": "execute_result"
    }
   ],
   "source": [
    "x.head().T"
   ]
  },
  {
   "cell_type": "markdown",
   "metadata": {},
   "source": [
    "## Voting classifier:"
   ]
  },
  {
   "cell_type": "code",
   "execution_count": 58,
   "metadata": {},
   "outputs": [],
   "source": [
    "from sklearn.neighbors import KNeighborsClassifier\n",
    "from sklearn.ensemble import VotingClassifier\n",
    "from sklearn.linear_model import LogisticRegression\n",
    "from sklearn.svm import SVC\n",
    "\n",
    "from sklearn.model_selection import train_test_split\n",
    "\n",
    "X_train, X_test, y_train, y_test = train_test_split(x, y, random_state=0)"
   ]
  },
  {
   "cell_type": "code",
   "execution_count": 59,
   "metadata": {},
   "outputs": [
    {
     "name": "stdout",
     "output_type": "stream",
     "text": [
      "LogisticRegression 0.7906157877497544\n",
      "KNeighborsClassifier 0.7540124467736653\n",
      "SVC 0.7805437274811661\n",
      "VotingClassifier 0.7843105142482804\n"
     ]
    }
   ],
   "source": [
    "log_clf = LogisticRegression()\n",
    "log_clf.fit(X_train, y_train)\n",
    "knn_clf = KNeighborsClassifier(7)\n",
    "knn_clf.fit(X_train, y_train)\n",
    "svm_clf = SVC(C = 10, probability = True)\n",
    "svm_clf.fit(X_train, y_train)\n",
    "\n",
    "voting_clf = VotingClassifier(estimators=[('lr', log_clf), ('knn', knn_clf), ('svc', svm_clf)], voting='hard')\n",
    "voting_clf.fit(X_train, y_train)\n",
    "\n",
    "from sklearn.metrics import accuracy_score\n",
    "for clf in (log_clf, knn_clf, svm_clf, voting_clf):\n",
    "    clf.fit(X_train, y_train)\n",
    "    y_pred = clf.predict(X_test)\n",
    "    print(clf.__class__.__name__, accuracy_score(y_test, y_pred))\n"
   ]
  },
  {
   "cell_type": "markdown",
   "metadata": {},
   "source": [
    "### Summary of hard voting classifier:\n",
    "Accuracy of LogisticRegression = 0.7906157877497544               \n",
    "Accuracy of KNeighborsClassifier = 0.7540124467736653                     \n",
    "Accuracy of SVC = 0.7805437274811661                    \n",
    "Accuracy of Hard VotingClassifier =  0.7843105142482804           "
   ]
  },
  {
   "cell_type": "code",
   "execution_count": 60,
   "metadata": {},
   "outputs": [
    {
     "name": "stdout",
     "output_type": "stream",
     "text": [
      "LogisticRegression 0.7906157877497544\n",
      "KNeighborsClassifier 0.7540124467736653\n",
      "SVC 0.7805437274811661\n",
      "VotingClassifier 0.7865214543072387\n"
     ]
    }
   ],
   "source": [
    "svm_clf = SVC(C = 10, probability = True)\n",
    "svm_clf.fit(X_train, y_train)\n",
    "log_clf = LogisticRegression()\n",
    "log_clf.fit(X_train, y_train)\n",
    "knn_clf = KNeighborsClassifier(7)\n",
    "knn_clf.fit(X_train, y_train)\n",
    "\n",
    "\n",
    "voting_clf = VotingClassifier(estimators=[ ('svc', svm_clf), ('lr', log_clf), ('knn', knn_clf)], voting='soft')\n",
    "voting_clf.fit(X_train, y_train)\n",
    "\n",
    "from sklearn.metrics import accuracy_score\n",
    "for clf in (log_clf, knn_clf, svm_clf, voting_clf):\n",
    "    clf.fit(X_train, y_train)\n",
    "    y_pred = clf.predict(X_test)\n",
    "    print(clf.__class__.__name__, accuracy_score(y_test, y_pred))\n"
   ]
  },
  {
   "cell_type": "markdown",
   "metadata": {},
   "source": [
    "### Summary of soft voting classifier:\n",
    "Accuracy of LogisticRegression = 0.7906157877497544                 \n",
    "Accuracy of KNeighborsClassifier = 0.7540124467736653                       \n",
    "Accuracy of SVC =  0.7805437274811661                     \n",
    "Accuracy of soft VotingClassifier = 0.7865214543072387               "
   ]
  },
  {
   "cell_type": "markdown",
   "metadata": {},
   "source": [
    "## Bagging with Decision tree:"
   ]
  },
  {
   "cell_type": "code",
   "execution_count": 115,
   "metadata": {},
   "outputs": [],
   "source": [
    "from sklearn.ensemble import BaggingClassifier\n",
    "from sklearn.tree import DecisionTreeClassifier\n",
    "\n",
    "dt_clf = DecisionTreeClassifier(random_state=0)\n",
    "bag_clf = BaggingClassifier(dt_clf, n_estimators=300,  bootstrap=True, n_jobs=-1, random_state=0)\n",
    "\n",
    "bag_clf.fit(X_train, y_train)\n",
    "y_pred = bag_clf.predict(X_test)"
   ]
  },
  {
   "cell_type": "code",
   "execution_count": 116,
   "metadata": {},
   "outputs": [
    {
     "name": "stdout",
     "output_type": "stream",
     "text": [
      "0.7732558139534884\n"
     ]
    }
   ],
   "source": [
    "from  sklearn.metrics import accuracy_score\n",
    "print(accuracy_score(y_test, y_pred))"
   ]
  },
  {
   "cell_type": "code",
   "execution_count": 117,
   "metadata": {},
   "outputs": [
    {
     "name": "stdout",
     "output_type": "stream",
     "text": [
      "Train score: 0.93\n",
      "Test score: 0.77\n"
     ]
    }
   ],
   "source": [
    "bag_clf.fit(X_train, y_train)\n",
    "print('Train score: {:.2f}'.format(bag_clf.score(X_train, y_train)))\n",
    "print('Test score: {:.2f}'.format(bag_clf.score(X_test, y_test)))"
   ]
  },
  {
   "cell_type": "code",
   "execution_count": 118,
   "metadata": {},
   "outputs": [
    {
     "name": "stdout",
     "output_type": "stream",
     "text": [
      "0.7445135931870291\n"
     ]
    }
   ],
   "source": [
    "tree_clf = DecisionTreeClassifier(random_state=0)\n",
    "tree_clf.fit(X_train, y_train)\n",
    "y_pred_tree = tree_clf.predict(X_test)\n",
    "\n",
    "print(accuracy_score(y_test, y_pred_tree))"
   ]
  },
  {
   "cell_type": "markdown",
   "metadata": {},
   "source": [
    "### Bagging with Decision Tree :\n",
    "Train score of bagging with decision tree: 0.93   \n",
    "Test score of bagging with decision tree: 0.77   \n",
    "Accuracy of decision tree without bagging: 0.7445135931870291\n",
    "\n",
    "Decision tree with bagging gives better accuracy."
   ]
  },
  {
   "cell_type": "markdown",
   "metadata": {},
   "source": [
    "## Random Forest bagging : "
   ]
  },
  {
   "cell_type": "code",
   "execution_count": 79,
   "metadata": {},
   "outputs": [],
   "source": [
    "dt_clf = DecisionTreeClassifier(splitter=\"random\", max_leaf_nodes=16, random_state=0)\n",
    "bag_clf = BaggingClassifier(dt_clf, n_estimators=500, max_samples=1.0, bootstrap=True, n_jobs=-1, random_state=0)"
   ]
  },
  {
   "cell_type": "code",
   "execution_count": 80,
   "metadata": {},
   "outputs": [],
   "source": [
    "bag_clf.fit(X_train, y_train)\n",
    "y_pred = bag_clf.predict(X_test)"
   ]
  },
  {
   "cell_type": "code",
   "execution_count": 130,
   "metadata": {},
   "outputs": [],
   "source": [
    "from sklearn.ensemble import BaggingClassifier\n",
    "from sklearn.tree import DecisionTreeClassifier\n",
    "\n",
    "dt_clf = DecisionTreeClassifier(random_state=0)\n",
    "bag_clf = BaggingClassifier(dt_clf, n_estimators=300,  bootstrap=False, n_jobs=-1, random_state=0)\n",
    "\n",
    "bag_clf.fit(X_train, y_train)\n",
    "y_pred = bag_clf.predict(X_test)"
   ]
  },
  {
   "cell_type": "code",
   "execution_count": 131,
   "metadata": {},
   "outputs": [
    {
     "name": "stdout",
     "output_type": "stream",
     "text": [
      "0.74475925319358\n"
     ]
    }
   ],
   "source": [
    "from  sklearn.metrics import accuracy_score\n",
    "print(accuracy_score(y_test, y_pred))"
   ]
  },
  {
   "cell_type": "code",
   "execution_count": 132,
   "metadata": {},
   "outputs": [
    {
     "name": "stdout",
     "output_type": "stream",
     "text": [
      "Train score: 0.93\n",
      "Test score: 0.74\n"
     ]
    }
   ],
   "source": [
    "bag_clf.fit(X_train, y_train)\n",
    "print('Train score: {:.2f}'.format(bag_clf.score(X_train, y_train)))\n",
    "print('Test score: {:.2f}'.format(bag_clf.score(X_test, y_test)))"
   ]
  },
  {
   "cell_type": "code",
   "execution_count": 133,
   "metadata": {},
   "outputs": [
    {
     "name": "stdout",
     "output_type": "stream",
     "text": [
      "0.7445135931870291\n"
     ]
    }
   ],
   "source": [
    "tree_clf = DecisionTreeClassifier(random_state=0)\n",
    "tree_clf.fit(X_train, y_train)\n",
    "y_pred_tree = tree_clf.predict(X_test)\n",
    "\n",
    "print(accuracy_score(y_test, y_pred_tree))"
   ]
  },
  {
   "cell_type": "code",
   "execution_count": 81,
   "metadata": {},
   "outputs": [],
   "source": [
    "from sklearn.ensemble import RandomForestClassifier\n",
    "\n",
    "rnd_clf = RandomForestClassifier(n_estimators=500, max_leaf_nodes=16, n_jobs=-1, random_state=0)\n",
    "rnd_clf.fit(X_train, y_train)\n",
    "\n",
    "y_pred_rf = rnd_clf.predict(X_test)"
   ]
  },
  {
   "cell_type": "code",
   "execution_count": 82,
   "metadata": {},
   "outputs": [
    {
     "data": {
      "text/plain": [
       "0.9288404847690795"
      ]
     },
     "execution_count": 82,
     "metadata": {},
     "output_type": "execute_result"
    }
   ],
   "source": [
    "np.sum(y_pred == y_pred_rf ) / len(y_pred)  # The two classifiers give almost identical predictions"
   ]
  },
  {
   "cell_type": "code",
   "execution_count": 85,
   "metadata": {},
   "outputs": [
    {
     "name": "stdout",
     "output_type": "stream",
     "text": [
      "minimum_nights 0.06649836210315939\n",
      "reviews_per_month 0.26123236202822486\n",
      "availability_365 0.22400087089888707\n",
      "neighbourhood_group_Bronx 0.002921033638279126\n",
      "neighbourhood_group_Brooklyn 0.014938729978462397\n",
      "neighbourhood_group_Manhattan 0.05288193725392076\n",
      "neighbourhood_group_Queens 0.01155091720912519\n",
      "neighbourhood_group_Staten Island 0.0010717029047226496\n",
      "room_type_Entire home/apt 0.20804589750624924\n",
      "room_type_Private room 0.14833034642443624\n",
      "room_type_Shared room 0.008527840054533088\n"
     ]
    }
   ],
   "source": [
    "\n",
    "rnd_clf = RandomForestClassifier(n_estimators=500, n_jobs=-1, random_state=42)\n",
    "rnd_clf.fit(x, y)\n",
    "\n",
    "for name, score in zip(x, rnd_clf.feature_importances_):\n",
    "    print(name, score)"
   ]
  },
  {
   "cell_type": "markdown",
   "metadata": {},
   "source": [
    "### Feature importance:\n",
    "minimum_nights 0.06649836210315939    \n",
    "reviews_per_month 0.26123236202822486    \n",
    "availability_365 0.22400087089888707    \n",
    "neighbourhood_group_Bronx 0.002921033638279126        \n",
    "neighbourhood_group_Brooklyn 0.014938729978462397     \n",
    "neighbourhood_group_Manhattan 0.05288193725392076     \n",
    "neighbourhood_group_Queens 0.01155091720912519        \n",
    "neighbourhood_group_Staten Island 0.0010717029047226496       \n",
    "room_type_Entire home/apt 0.20804589750624924           \n",
    "room_type_Private room 0.14833034642443624                  \n",
    "room_type_Shared room 0.008527840054533088         "
   ]
  },
  {
   "cell_type": "code",
   "execution_count": 86,
   "metadata": {},
   "outputs": [
    {
     "data": {
      "text/plain": [
       "array([0.06649836, 0.26123236, 0.22400087, 0.00292103, 0.01493873,\n",
       "       0.05288194, 0.01155092, 0.0010717 , 0.2080459 , 0.14833035,\n",
       "       0.00852784])"
      ]
     },
     "execution_count": 86,
     "metadata": {},
     "output_type": "execute_result"
    }
   ],
   "source": [
    "rnd_clf.feature_importances_"
   ]
  },
  {
   "cell_type": "code",
   "execution_count": 87,
   "metadata": {},
   "outputs": [
    {
     "data": {
      "text/plain": [
       "0.7653064009826669"
      ]
     },
     "execution_count": 87,
     "metadata": {},
     "output_type": "execute_result"
    }
   ],
   "source": [
    "dt_clf = DecisionTreeClassifier(random_state=0)\n",
    "\n",
    "bag_clf = BaggingClassifier(dt_clf, n_estimators=500, bootstrap=True, n_jobs=-1, oob_score=True, random_state=0)\n",
    "\n",
    "bag_clf.fit(X_train, y_train)\n",
    "bag_clf.oob_score_"
   ]
  },
  {
   "cell_type": "code",
   "execution_count": 88,
   "metadata": {},
   "outputs": [
    {
     "data": {
      "text/plain": [
       "array([[0.22279793, 0.77720207],\n",
       "       [0.42857143, 0.57142857],\n",
       "       [0.01142857, 0.98857143],\n",
       "       [0.91623037, 0.08376963],\n",
       "       [0.19933024, 0.80066976],\n",
       "       [0.54395604, 0.45604396],\n",
       "       [0.01694915, 0.98305085],\n",
       "       [0.9740519 , 0.0259481 ],\n",
       "       [0.99418605, 0.00581395],\n",
       "       [0.30298114, 0.69701886]])"
      ]
     },
     "execution_count": 88,
     "metadata": {},
     "output_type": "execute_result"
    }
   ],
   "source": [
    "bag_clf.oob_decision_function_[:10]"
   ]
  },
  {
   "cell_type": "code",
   "execution_count": 89,
   "metadata": {},
   "outputs": [
    {
     "data": {
      "text/plain": [
       "0.7740746806419915"
      ]
     },
     "execution_count": 89,
     "metadata": {},
     "output_type": "execute_result"
    }
   ],
   "source": [
    "from sklearn.metrics import accuracy_score\n",
    "\n",
    "y_pred = bag_clf.predict(X_test)\n",
    "accuracy_score(y_test, y_pred)"
   ]
  },
  {
   "cell_type": "markdown",
   "metadata": {},
   "source": [
    "### Random Forest bagging : \n",
    "Random forest and decison tree classifier give almost identical predictions(0.9288404847690795)           \n",
    "Out of bag score : 0.7653064009826669                  \n",
    "Test score : 0.7740746806419915            \n"
   ]
  },
  {
   "cell_type": "markdown",
   "metadata": {},
   "source": [
    "### Feature importance:\n",
    "minimum_nights 0.06649836210315939    \n",
    "reviews_per_month 0.26123236202822486    \n",
    "availability_365 0.22400087089888707    \n",
    "neighbourhood_group_Bronx 0.002921033638279126        \n",
    "neighbourhood_group_Brooklyn 0.014938729978462397     \n",
    "neighbourhood_group_Manhattan 0.05288193725392076     \n",
    "neighbourhood_group_Queens 0.01155091720912519        \n",
    "neighbourhood_group_Staten Island 0.0010717029047226496       \n",
    "room_type_Entire home/apt 0.20804589750624924           \n",
    "room_type_Private room 0.14833034642443624                  \n",
    "room_type_Shared room 0.008527840054533088         "
   ]
  },
  {
   "cell_type": "markdown",
   "metadata": {},
   "source": [
    "## Pasting with Decision tree :"
   ]
  },
  {
   "cell_type": "code",
   "execution_count": 114,
   "metadata": {},
   "outputs": [],
   "source": [
    "from sklearn.ensemble import BaggingClassifier\n",
    "from sklearn.tree import DecisionTreeClassifier\n",
    "\n",
    "dt_clf = DecisionTreeClassifier(random_state=0)\n",
    "bag_clf = BaggingClassifier(dt_clf, n_estimators=300,  bootstrap=False, n_jobs=-1, random_state=0)\n",
    "\n",
    "bag_clf.fit(X_train, y_train)\n",
    "y_pred = bag_clf.predict(X_test)"
   ]
  },
  {
   "cell_type": "code",
   "execution_count": 115,
   "metadata": {},
   "outputs": [
    {
     "name": "stdout",
     "output_type": "stream",
     "text": [
      "0.7444317065181788\n"
     ]
    }
   ],
   "source": [
    "from  sklearn.metrics import accuracy_score\n",
    "print(accuracy_score(y_test, y_pred))"
   ]
  },
  {
   "cell_type": "code",
   "execution_count": 116,
   "metadata": {},
   "outputs": [
    {
     "name": "stdout",
     "output_type": "stream",
     "text": [
      "Train score: 0.93\n",
      "Test score: 0.74\n"
     ]
    }
   ],
   "source": [
    "bag_clf.fit(X_train, y_train)\n",
    "print('Train score: {:.2f}'.format(bag_clf.score(X_train, y_train)))\n",
    "print('Test score: {:.2f}'.format(bag_clf.score(X_test, y_test)))"
   ]
  },
  {
   "cell_type": "code",
   "execution_count": 113,
   "metadata": {},
   "outputs": [
    {
     "name": "stdout",
     "output_type": "stream",
     "text": [
      "0.7442679331804782\n"
     ]
    }
   ],
   "source": [
    "tree_clf = DecisionTreeClassifier(random_state=0)\n",
    "tree_clf.fit(X_train, y_train)\n",
    "y_pred_tree = tree_clf.predict(X_test)\n",
    "\n",
    "print(accuracy_score(y_test, y_pred_tree))"
   ]
  },
  {
   "cell_type": "markdown",
   "metadata": {},
   "source": [
    "### Pasting with Decision Tree :\n",
    "Train score of pasting with decision tree: 0.93   \n",
    "Test score of pasting with decision tree: 0.74   \n",
    "Accuracy of decision tree without pasting: 0.7442679331804782\n",
    "\n",
    "Decision tree without pasting gives better accuracy."
   ]
  },
  {
   "cell_type": "markdown",
   "metadata": {},
   "source": [
    "## Random forest pasting:"
   ]
  },
  {
   "cell_type": "code",
   "execution_count": 134,
   "metadata": {},
   "outputs": [],
   "source": [
    "dt_clf = DecisionTreeClassifier(splitter=\"random\", max_leaf_nodes=16, random_state=0)\n",
    "bag_clf = BaggingClassifier(dt_clf, n_estimators=500, max_samples=1.0, bootstrap=False, n_jobs=-1, random_state=0)"
   ]
  },
  {
   "cell_type": "code",
   "execution_count": 135,
   "metadata": {},
   "outputs": [],
   "source": [
    "bag_clf.fit(X_train, y_train)\n",
    "y_pred = bag_clf.predict(X_test)"
   ]
  },
  {
   "cell_type": "code",
   "execution_count": 136,
   "metadata": {},
   "outputs": [],
   "source": [
    "from sklearn.ensemble import RandomForestClassifier\n",
    "\n",
    "rnd_clf = RandomForestClassifier(n_estimators=500, max_leaf_nodes=16, n_jobs=-1, random_state=0)\n",
    "rnd_clf.fit(X_train, y_train)\n",
    "\n",
    "y_pred_rf = rnd_clf.predict(X_test)"
   ]
  },
  {
   "cell_type": "code",
   "execution_count": 137,
   "metadata": {},
   "outputs": [
    {
     "data": {
      "text/plain": [
       "0.9275302980674747"
      ]
     },
     "execution_count": 137,
     "metadata": {},
     "output_type": "execute_result"
    }
   ],
   "source": [
    "np.sum(y_pred == y_pred_rf ) / len(y_pred)  # The two classifiers give almost identical predictions"
   ]
  },
  {
   "cell_type": "code",
   "execution_count": 138,
   "metadata": {},
   "outputs": [
    {
     "name": "stdout",
     "output_type": "stream",
     "text": [
      "minimum_nights 0.06649836210315939\n",
      "reviews_per_month 0.26123236202822486\n",
      "availability_365 0.22400087089888707\n",
      "neighbourhood_group_Bronx 0.002921033638279126\n",
      "neighbourhood_group_Brooklyn 0.014938729978462397\n",
      "neighbourhood_group_Manhattan 0.05288193725392076\n",
      "neighbourhood_group_Queens 0.01155091720912519\n",
      "neighbourhood_group_Staten Island 0.0010717029047226496\n",
      "room_type_Entire home/apt 0.20804589750624924\n",
      "room_type_Private room 0.14833034642443624\n",
      "room_type_Shared room 0.008527840054533088\n"
     ]
    }
   ],
   "source": [
    "\n",
    "rnd_clf = RandomForestClassifier(n_estimators=500, n_jobs=-1, random_state=42)\n",
    "rnd_clf.fit(x, y)\n",
    "\n",
    "for name, score in zip(x, rnd_clf.feature_importances_):\n",
    "    print(name, score)"
   ]
  },
  {
   "cell_type": "code",
   "execution_count": 139,
   "metadata": {},
   "outputs": [
    {
     "data": {
      "text/plain": [
       "array([0.06649836, 0.26123236, 0.22400087, 0.00292103, 0.01493873,\n",
       "       0.05288194, 0.01155092, 0.0010717 , 0.2080459 , 0.14833035,\n",
       "       0.00852784])"
      ]
     },
     "execution_count": 139,
     "metadata": {},
     "output_type": "execute_result"
    }
   ],
   "source": [
    "rnd_clf.feature_importances_"
   ]
  },
  {
   "cell_type": "code",
   "execution_count": 140,
   "metadata": {},
   "outputs": [
    {
     "data": {
      "text/plain": [
       "0.7653064009826669"
      ]
     },
     "execution_count": 140,
     "metadata": {},
     "output_type": "execute_result"
    }
   ],
   "source": [
    "dt_clf = DecisionTreeClassifier(random_state=0)\n",
    "\n",
    "bag_clf = BaggingClassifier(dt_clf, n_estimators=500, bootstrap=True, n_jobs=-1, oob_score=True, random_state=0)\n",
    "\n",
    "bag_clf.fit(X_train, y_train)\n",
    "bag_clf.oob_score_"
   ]
  },
  {
   "cell_type": "code",
   "execution_count": 141,
   "metadata": {},
   "outputs": [
    {
     "data": {
      "text/plain": [
       "array([[0.22279793, 0.77720207],\n",
       "       [0.42857143, 0.57142857],\n",
       "       [0.01142857, 0.98857143],\n",
       "       [0.91623037, 0.08376963],\n",
       "       [0.19933024, 0.80066976],\n",
       "       [0.54395604, 0.45604396],\n",
       "       [0.01694915, 0.98305085],\n",
       "       [0.9740519 , 0.0259481 ],\n",
       "       [0.99418605, 0.00581395],\n",
       "       [0.30298114, 0.69701886]])"
      ]
     },
     "execution_count": 141,
     "metadata": {},
     "output_type": "execute_result"
    }
   ],
   "source": [
    "bag_clf.oob_decision_function_[:10]"
   ]
  },
  {
   "cell_type": "code",
   "execution_count": 142,
   "metadata": {},
   "outputs": [
    {
     "data": {
      "text/plain": [
       "0.7740746806419915"
      ]
     },
     "execution_count": 142,
     "metadata": {},
     "output_type": "execute_result"
    }
   ],
   "source": [
    "from sklearn.metrics import accuracy_score\n",
    "\n",
    "y_pred = bag_clf.predict(X_test)\n",
    "accuracy_score(y_test, y_pred)"
   ]
  },
  {
   "cell_type": "markdown",
   "metadata": {},
   "source": [
    "### Random Forest with pasting:\n",
    "Random forest and decison tree classifier give almost identical predictions(0.9275302980674747)           \n",
    "Out of bag score : 0.7653064009826669              \n",
    "Test score : 0.7740746806419915  "
   ]
  },
  {
   "cell_type": "markdown",
   "metadata": {},
   "source": [
    "### Feature Importance:\n",
    "minimum_nights 0.06649836210315939       \n",
    "reviews_per_month 0.26123236202822486          \n",
    "availability_365 0.22400087089888707                    \n",
    "neighbourhood_group_Bronx 0.002921033638279126           \n",
    "neighbourhood_group_Brooklyn 0.014938729978462397             \n",
    "neighbourhood_group_Manhattan 0.05288193725392076          \n",
    "neighbourhood_group_Queens 0.01155091720912519                \n",
    "neighbourhood_group_Staten Island 0.0010717029047226496          \n",
    "room_type_Entire home/apt 0.20804589750624924          \n",
    "room_type_Private room 0.14833034642443624           \n",
    "room_type_Shared room 0.008527840054533088          "
   ]
  },
  {
   "cell_type": "markdown",
   "metadata": {},
   "source": [
    "## AdaBoost using decision tree classifier:"
   ]
  },
  {
   "cell_type": "code",
   "execution_count": 125,
   "metadata": {},
   "outputs": [
    {
     "name": "stdout",
     "output_type": "stream",
     "text": [
      "Accuracy on training set: 0.796\n",
      "Accuracy on test set: 0.795\n"
     ]
    }
   ],
   "source": [
    "from sklearn.ensemble import AdaBoostClassifier\n",
    "\n",
    "X_train, X_test, y_train, y_test = train_test_split(x, y, random_state=0)\n",
    "\n",
    "ada_clf = AdaBoostClassifier(DecisionTreeClassifier(max_depth= 3), n_estimators=200, algorithm=\"SAMME\", learning_rate=0.5, random_state=0)\n",
    "ada_clf.fit(X_train, y_train)\n",
    "\n",
    "print(\"Accuracy on training set: {:.3f}\".format(ada_clf.score(X_train, y_train)))\n",
    "print(\"Accuracy on test set: {:.3f}\".format(ada_clf.score(X_test, y_test)))"
   ]
  },
  {
   "cell_type": "code",
   "execution_count": 126,
   "metadata": {},
   "outputs": [
    {
     "name": "stdout",
     "output_type": "stream",
     "text": [
      "Accuracy on training set: 0.793\n",
      "Accuracy on test set: 0.796\n"
     ]
    }
   ],
   "source": [
    "ada_clf = AdaBoostClassifier(random_state=0)\n",
    "ada_clf.fit(X_train, y_train)\n",
    "\n",
    "print(\"Accuracy on training set: {:.3f}\".format(ada_clf.score(X_train, y_train)))\n",
    "print(\"Accuracy on test set: {:.3f}\".format(ada_clf.score(X_test, y_test)))"
   ]
  },
  {
   "cell_type": "code",
   "execution_count": 127,
   "metadata": {},
   "outputs": [
    {
     "name": "stdout",
     "output_type": "stream",
     "text": [
      "Accuracy on training set: 0.766\n",
      "Accuracy on test set: 0.772\n"
     ]
    }
   ],
   "source": [
    "ada_clf = AdaBoostClassifier(random_state=0, learning_rate=0.01)\n",
    "ada_clf.fit(X_train, y_train)\n",
    "\n",
    "print(\"Accuracy on training set: {:.3f}\".format(ada_clf.score(X_train, y_train)))\n",
    "print(\"Accuracy on test set: {:.3f}\".format(ada_clf.score(X_test, y_test)))"
   ]
  },
  {
   "cell_type": "markdown",
   "metadata": {},
   "source": [
    "### AdaBoost using Decision Tree:\n",
    "Learning rate 0.5 :       \n",
    "Accuracy on training set: 0.796                \n",
    "Accuracy on test set: 0.795                               \n",
    "  \n",
    "Learning rate 1:           \n",
    "Accuracy on training set: 0.793           \n",
    "Accuracy on test set: 0.796             \n",
    "      \n",
    "Learning rate 0.01:                      \n",
    "Accuracy on training set: 0.766                   \n",
    "Accuracy on test set: 0.772                     "
   ]
  },
  {
   "cell_type": "markdown",
   "metadata": {},
   "source": [
    "## AdaBoost using SGDClassifier:"
   ]
  },
  {
   "cell_type": "code",
   "execution_count": 124,
   "metadata": {},
   "outputs": [
    {
     "name": "stdout",
     "output_type": "stream",
     "text": [
      "Accuracy on training set: 0.740\n",
      "Accuracy on test set: 0.740\n"
     ]
    }
   ],
   "source": [
    "from sklearn.ensemble import AdaBoostClassifier\n",
    "from sklearn.linear_model import SGDClassifier\n",
    "\n",
    "X_train, X_test, y_train, y_test = train_test_split(x, y, random_state=0)\n",
    "\n",
    "ada_clf = AdaBoostClassifier(SGDClassifier(loss = 'hinge'), n_estimators=200, algorithm=\"SAMME\", learning_rate=0.5, random_state=0)\n",
    "ada_clf.fit(X_train, y_train)\n",
    "\n",
    "print(\"Accuracy on training set: {:.3f}\".format(ada_clf.score(X_train, y_train)))\n",
    "print(\"Accuracy on test set: {:.3f}\".format(ada_clf.score(X_test, y_test)))"
   ]
  },
  {
   "cell_type": "code",
   "execution_count": 128,
   "metadata": {},
   "outputs": [
    {
     "name": "stdout",
     "output_type": "stream",
     "text": [
      "Accuracy on training set: 0.793\n",
      "Accuracy on test set: 0.796\n"
     ]
    }
   ],
   "source": [
    "ada_clf = AdaBoostClassifier(random_state=0)\n",
    "ada_clf.fit(X_train, y_train)\n",
    "\n",
    "print(\"Accuracy on training set: {:.3f}\".format(ada_clf.score(X_train, y_train)))\n",
    "print(\"Accuracy on test set: {:.3f}\".format(ada_clf.score(X_test, y_test)))"
   ]
  },
  {
   "cell_type": "code",
   "execution_count": 129,
   "metadata": {},
   "outputs": [
    {
     "name": "stdout",
     "output_type": "stream",
     "text": [
      "Accuracy on training set: 0.766\n",
      "Accuracy on test set: 0.772\n"
     ]
    }
   ],
   "source": [
    "ada_clf = AdaBoostClassifier(random_state=0, learning_rate=0.01)\n",
    "ada_clf.fit(X_train, y_train)\n",
    "\n",
    "print(\"Accuracy on training set: {:.3f}\".format(ada_clf.score(X_train, y_train)))\n",
    "print(\"Accuracy on test set: {:.3f}\".format(ada_clf.score(X_test, y_test)))"
   ]
  },
  {
   "cell_type": "markdown",
   "metadata": {},
   "source": [
    "### AdaBoost using SGDClassifier :\n",
    "Learning rate 0.5 :       \n",
    "Accuracy on training set: 0.740        \n",
    "Accuracy on test set: 0.740                              \n",
    "  \n",
    "Learning rate 1:           \n",
    "Accuracy on training set: 0.793           \n",
    "Accuracy on test set: 0.796           \n",
    "      \n",
    "Learning rate 0.01:                      \n",
    "Accuracy on training set: 0.766        \n",
    "Accuracy on test set: 0.772  "
   ]
  },
  {
   "cell_type": "markdown",
   "metadata": {},
   "source": [
    "## Gradient boost:"
   ]
  },
  {
   "cell_type": "code",
   "execution_count": 154,
   "metadata": {},
   "outputs": [
    {
     "name": "stdout",
     "output_type": "stream",
     "text": [
      "Accuracy on training set: 0.798\n",
      "Accuracy on test set: 0.796\n"
     ]
    }
   ],
   "source": [
    "from sklearn.ensemble import GradientBoostingClassifier\n",
    "\n",
    "X_train, X_test, y_train, y_test = train_test_split(x, y, random_state=0)\n",
    "\n",
    "gbrt = GradientBoostingClassifier(random_state=0)\n",
    "gbrt.fit(X_train, y_train)\n",
    "\n",
    "print(\"Accuracy on training set: {:.3f}\".format(gbrt.score(X_train, y_train)))\n",
    "print(\"Accuracy on test set: {:.3f}\".format(gbrt.score(X_test, y_test)))"
   ]
  },
  {
   "cell_type": "code",
   "execution_count": 155,
   "metadata": {},
   "outputs": [
    {
     "name": "stdout",
     "output_type": "stream",
     "text": [
      "Accuracy on training set: 0.789\n",
      "Accuracy on test set: 0.793\n"
     ]
    }
   ],
   "source": [
    "gbrt = GradientBoostingClassifier(random_state=0, max_depth=1)\n",
    "gbrt.fit(X_train, y_train)\n",
    "\n",
    "print(\"Accuracy on training set: {:.3f}\".format(gbrt.score(X_train, y_train)))\n",
    "print(\"Accuracy on test set: {:.3f}\".format(gbrt.score(X_test, y_test)))"
   ]
  },
  {
   "cell_type": "code",
   "execution_count": 156,
   "metadata": {},
   "outputs": [
    {
     "name": "stdout",
     "output_type": "stream",
     "text": [
      "Accuracy on training set: 0.774\n",
      "Accuracy on test set: 0.771\n"
     ]
    }
   ],
   "source": [
    "gbrt = GradientBoostingClassifier(random_state=0, learning_rate=0.01)\n",
    "gbrt.fit(X_train, y_train)\n",
    "\n",
    "print(\"Accuracy on training set: {:.3f}\".format(gbrt.score(X_train, y_train)))\n",
    "print(\"Accuracy on test set: {:.3f}\".format(gbrt.score(X_test, y_test)))"
   ]
  },
  {
   "cell_type": "code",
   "execution_count": 157,
   "metadata": {},
   "outputs": [
    {
     "data": {
      "application/javascript": [
       "/* Put everything inside the global mpl namespace */\n",
       "window.mpl = {};\n",
       "\n",
       "\n",
       "mpl.get_websocket_type = function() {\n",
       "    if (typeof(WebSocket) !== 'undefined') {\n",
       "        return WebSocket;\n",
       "    } else if (typeof(MozWebSocket) !== 'undefined') {\n",
       "        return MozWebSocket;\n",
       "    } else {\n",
       "        alert('Your browser does not have WebSocket support. ' +\n",
       "              'Please try Chrome, Safari or Firefox ≥ 6. ' +\n",
       "              'Firefox 4 and 5 are also supported but you ' +\n",
       "              'have to enable WebSockets in about:config.');\n",
       "    };\n",
       "}\n",
       "\n",
       "mpl.figure = function(figure_id, websocket, ondownload, parent_element) {\n",
       "    this.id = figure_id;\n",
       "\n",
       "    this.ws = websocket;\n",
       "\n",
       "    this.supports_binary = (this.ws.binaryType != undefined);\n",
       "\n",
       "    if (!this.supports_binary) {\n",
       "        var warnings = document.getElementById(\"mpl-warnings\");\n",
       "        if (warnings) {\n",
       "            warnings.style.display = 'block';\n",
       "            warnings.textContent = (\n",
       "                \"This browser does not support binary websocket messages. \" +\n",
       "                    \"Performance may be slow.\");\n",
       "        }\n",
       "    }\n",
       "\n",
       "    this.imageObj = new Image();\n",
       "\n",
       "    this.context = undefined;\n",
       "    this.message = undefined;\n",
       "    this.canvas = undefined;\n",
       "    this.rubberband_canvas = undefined;\n",
       "    this.rubberband_context = undefined;\n",
       "    this.format_dropdown = undefined;\n",
       "\n",
       "    this.image_mode = 'full';\n",
       "\n",
       "    this.root = $('<div/>');\n",
       "    this._root_extra_style(this.root)\n",
       "    this.root.attr('style', 'display: inline-block');\n",
       "\n",
       "    $(parent_element).append(this.root);\n",
       "\n",
       "    this._init_header(this);\n",
       "    this._init_canvas(this);\n",
       "    this._init_toolbar(this);\n",
       "\n",
       "    var fig = this;\n",
       "\n",
       "    this.waiting = false;\n",
       "\n",
       "    this.ws.onopen =  function () {\n",
       "            fig.send_message(\"supports_binary\", {value: fig.supports_binary});\n",
       "            fig.send_message(\"send_image_mode\", {});\n",
       "            if (mpl.ratio != 1) {\n",
       "                fig.send_message(\"set_dpi_ratio\", {'dpi_ratio': mpl.ratio});\n",
       "            }\n",
       "            fig.send_message(\"refresh\", {});\n",
       "        }\n",
       "\n",
       "    this.imageObj.onload = function() {\n",
       "            if (fig.image_mode == 'full') {\n",
       "                // Full images could contain transparency (where diff images\n",
       "                // almost always do), so we need to clear the canvas so that\n",
       "                // there is no ghosting.\n",
       "                fig.context.clearRect(0, 0, fig.canvas.width, fig.canvas.height);\n",
       "            }\n",
       "            fig.context.drawImage(fig.imageObj, 0, 0);\n",
       "        };\n",
       "\n",
       "    this.imageObj.onunload = function() {\n",
       "        fig.ws.close();\n",
       "    }\n",
       "\n",
       "    this.ws.onmessage = this._make_on_message_function(this);\n",
       "\n",
       "    this.ondownload = ondownload;\n",
       "}\n",
       "\n",
       "mpl.figure.prototype._init_header = function() {\n",
       "    var titlebar = $(\n",
       "        '<div class=\"ui-dialog-titlebar ui-widget-header ui-corner-all ' +\n",
       "        'ui-helper-clearfix\"/>');\n",
       "    var titletext = $(\n",
       "        '<div class=\"ui-dialog-title\" style=\"width: 100%; ' +\n",
       "        'text-align: center; padding: 3px;\"/>');\n",
       "    titlebar.append(titletext)\n",
       "    this.root.append(titlebar);\n",
       "    this.header = titletext[0];\n",
       "}\n",
       "\n",
       "\n",
       "\n",
       "mpl.figure.prototype._canvas_extra_style = function(canvas_div) {\n",
       "\n",
       "}\n",
       "\n",
       "\n",
       "mpl.figure.prototype._root_extra_style = function(canvas_div) {\n",
       "\n",
       "}\n",
       "\n",
       "mpl.figure.prototype._init_canvas = function() {\n",
       "    var fig = this;\n",
       "\n",
       "    var canvas_div = $('<div/>');\n",
       "\n",
       "    canvas_div.attr('style', 'position: relative; clear: both; outline: 0');\n",
       "\n",
       "    function canvas_keyboard_event(event) {\n",
       "        return fig.key_event(event, event['data']);\n",
       "    }\n",
       "\n",
       "    canvas_div.keydown('key_press', canvas_keyboard_event);\n",
       "    canvas_div.keyup('key_release', canvas_keyboard_event);\n",
       "    this.canvas_div = canvas_div\n",
       "    this._canvas_extra_style(canvas_div)\n",
       "    this.root.append(canvas_div);\n",
       "\n",
       "    var canvas = $('<canvas/>');\n",
       "    canvas.addClass('mpl-canvas');\n",
       "    canvas.attr('style', \"left: 0; top: 0; z-index: 0; outline: 0\")\n",
       "\n",
       "    this.canvas = canvas[0];\n",
       "    this.context = canvas[0].getContext(\"2d\");\n",
       "\n",
       "    var backingStore = this.context.backingStorePixelRatio ||\n",
       "\tthis.context.webkitBackingStorePixelRatio ||\n",
       "\tthis.context.mozBackingStorePixelRatio ||\n",
       "\tthis.context.msBackingStorePixelRatio ||\n",
       "\tthis.context.oBackingStorePixelRatio ||\n",
       "\tthis.context.backingStorePixelRatio || 1;\n",
       "\n",
       "    mpl.ratio = (window.devicePixelRatio || 1) / backingStore;\n",
       "\n",
       "    var rubberband = $('<canvas/>');\n",
       "    rubberband.attr('style', \"position: absolute; left: 0; top: 0; z-index: 1;\")\n",
       "\n",
       "    var pass_mouse_events = true;\n",
       "\n",
       "    canvas_div.resizable({\n",
       "        start: function(event, ui) {\n",
       "            pass_mouse_events = false;\n",
       "        },\n",
       "        resize: function(event, ui) {\n",
       "            fig.request_resize(ui.size.width, ui.size.height);\n",
       "        },\n",
       "        stop: function(event, ui) {\n",
       "            pass_mouse_events = true;\n",
       "            fig.request_resize(ui.size.width, ui.size.height);\n",
       "        },\n",
       "    });\n",
       "\n",
       "    function mouse_event_fn(event) {\n",
       "        if (pass_mouse_events)\n",
       "            return fig.mouse_event(event, event['data']);\n",
       "    }\n",
       "\n",
       "    rubberband.mousedown('button_press', mouse_event_fn);\n",
       "    rubberband.mouseup('button_release', mouse_event_fn);\n",
       "    // Throttle sequential mouse events to 1 every 20ms.\n",
       "    rubberband.mousemove('motion_notify', mouse_event_fn);\n",
       "\n",
       "    rubberband.mouseenter('figure_enter', mouse_event_fn);\n",
       "    rubberband.mouseleave('figure_leave', mouse_event_fn);\n",
       "\n",
       "    canvas_div.on(\"wheel\", function (event) {\n",
       "        event = event.originalEvent;\n",
       "        event['data'] = 'scroll'\n",
       "        if (event.deltaY < 0) {\n",
       "            event.step = 1;\n",
       "        } else {\n",
       "            event.step = -1;\n",
       "        }\n",
       "        mouse_event_fn(event);\n",
       "    });\n",
       "\n",
       "    canvas_div.append(canvas);\n",
       "    canvas_div.append(rubberband);\n",
       "\n",
       "    this.rubberband = rubberband;\n",
       "    this.rubberband_canvas = rubberband[0];\n",
       "    this.rubberband_context = rubberband[0].getContext(\"2d\");\n",
       "    this.rubberband_context.strokeStyle = \"#000000\";\n",
       "\n",
       "    this._resize_canvas = function(width, height) {\n",
       "        // Keep the size of the canvas, canvas container, and rubber band\n",
       "        // canvas in synch.\n",
       "        canvas_div.css('width', width)\n",
       "        canvas_div.css('height', height)\n",
       "\n",
       "        canvas.attr('width', width * mpl.ratio);\n",
       "        canvas.attr('height', height * mpl.ratio);\n",
       "        canvas.attr('style', 'width: ' + width + 'px; height: ' + height + 'px;');\n",
       "\n",
       "        rubberband.attr('width', width);\n",
       "        rubberband.attr('height', height);\n",
       "    }\n",
       "\n",
       "    // Set the figure to an initial 600x600px, this will subsequently be updated\n",
       "    // upon first draw.\n",
       "    this._resize_canvas(600, 600);\n",
       "\n",
       "    // Disable right mouse context menu.\n",
       "    $(this.rubberband_canvas).bind(\"contextmenu\",function(e){\n",
       "        return false;\n",
       "    });\n",
       "\n",
       "    function set_focus () {\n",
       "        canvas.focus();\n",
       "        canvas_div.focus();\n",
       "    }\n",
       "\n",
       "    window.setTimeout(set_focus, 100);\n",
       "}\n",
       "\n",
       "mpl.figure.prototype._init_toolbar = function() {\n",
       "    var fig = this;\n",
       "\n",
       "    var nav_element = $('<div/>');\n",
       "    nav_element.attr('style', 'width: 100%');\n",
       "    this.root.append(nav_element);\n",
       "\n",
       "    // Define a callback function for later on.\n",
       "    function toolbar_event(event) {\n",
       "        return fig.toolbar_button_onclick(event['data']);\n",
       "    }\n",
       "    function toolbar_mouse_event(event) {\n",
       "        return fig.toolbar_button_onmouseover(event['data']);\n",
       "    }\n",
       "\n",
       "    for(var toolbar_ind in mpl.toolbar_items) {\n",
       "        var name = mpl.toolbar_items[toolbar_ind][0];\n",
       "        var tooltip = mpl.toolbar_items[toolbar_ind][1];\n",
       "        var image = mpl.toolbar_items[toolbar_ind][2];\n",
       "        var method_name = mpl.toolbar_items[toolbar_ind][3];\n",
       "\n",
       "        if (!name) {\n",
       "            // put a spacer in here.\n",
       "            continue;\n",
       "        }\n",
       "        var button = $('<button/>');\n",
       "        button.addClass('ui-button ui-widget ui-state-default ui-corner-all ' +\n",
       "                        'ui-button-icon-only');\n",
       "        button.attr('role', 'button');\n",
       "        button.attr('aria-disabled', 'false');\n",
       "        button.click(method_name, toolbar_event);\n",
       "        button.mouseover(tooltip, toolbar_mouse_event);\n",
       "\n",
       "        var icon_img = $('<span/>');\n",
       "        icon_img.addClass('ui-button-icon-primary ui-icon');\n",
       "        icon_img.addClass(image);\n",
       "        icon_img.addClass('ui-corner-all');\n",
       "\n",
       "        var tooltip_span = $('<span/>');\n",
       "        tooltip_span.addClass('ui-button-text');\n",
       "        tooltip_span.html(tooltip);\n",
       "\n",
       "        button.append(icon_img);\n",
       "        button.append(tooltip_span);\n",
       "\n",
       "        nav_element.append(button);\n",
       "    }\n",
       "\n",
       "    var fmt_picker_span = $('<span/>');\n",
       "\n",
       "    var fmt_picker = $('<select/>');\n",
       "    fmt_picker.addClass('mpl-toolbar-option ui-widget ui-widget-content');\n",
       "    fmt_picker_span.append(fmt_picker);\n",
       "    nav_element.append(fmt_picker_span);\n",
       "    this.format_dropdown = fmt_picker[0];\n",
       "\n",
       "    for (var ind in mpl.extensions) {\n",
       "        var fmt = mpl.extensions[ind];\n",
       "        var option = $(\n",
       "            '<option/>', {selected: fmt === mpl.default_extension}).html(fmt);\n",
       "        fmt_picker.append(option);\n",
       "    }\n",
       "\n",
       "    // Add hover states to the ui-buttons\n",
       "    $( \".ui-button\" ).hover(\n",
       "        function() { $(this).addClass(\"ui-state-hover\");},\n",
       "        function() { $(this).removeClass(\"ui-state-hover\");}\n",
       "    );\n",
       "\n",
       "    var status_bar = $('<span class=\"mpl-message\"/>');\n",
       "    nav_element.append(status_bar);\n",
       "    this.message = status_bar[0];\n",
       "}\n",
       "\n",
       "mpl.figure.prototype.request_resize = function(x_pixels, y_pixels) {\n",
       "    // Request matplotlib to resize the figure. Matplotlib will then trigger a resize in the client,\n",
       "    // which will in turn request a refresh of the image.\n",
       "    this.send_message('resize', {'width': x_pixels, 'height': y_pixels});\n",
       "}\n",
       "\n",
       "mpl.figure.prototype.send_message = function(type, properties) {\n",
       "    properties['type'] = type;\n",
       "    properties['figure_id'] = this.id;\n",
       "    this.ws.send(JSON.stringify(properties));\n",
       "}\n",
       "\n",
       "mpl.figure.prototype.send_draw_message = function() {\n",
       "    if (!this.waiting) {\n",
       "        this.waiting = true;\n",
       "        this.ws.send(JSON.stringify({type: \"draw\", figure_id: this.id}));\n",
       "    }\n",
       "}\n",
       "\n",
       "\n",
       "mpl.figure.prototype.handle_save = function(fig, msg) {\n",
       "    var format_dropdown = fig.format_dropdown;\n",
       "    var format = format_dropdown.options[format_dropdown.selectedIndex].value;\n",
       "    fig.ondownload(fig, format);\n",
       "}\n",
       "\n",
       "\n",
       "mpl.figure.prototype.handle_resize = function(fig, msg) {\n",
       "    var size = msg['size'];\n",
       "    if (size[0] != fig.canvas.width || size[1] != fig.canvas.height) {\n",
       "        fig._resize_canvas(size[0], size[1]);\n",
       "        fig.send_message(\"refresh\", {});\n",
       "    };\n",
       "}\n",
       "\n",
       "mpl.figure.prototype.handle_rubberband = function(fig, msg) {\n",
       "    var x0 = msg['x0'] / mpl.ratio;\n",
       "    var y0 = (fig.canvas.height - msg['y0']) / mpl.ratio;\n",
       "    var x1 = msg['x1'] / mpl.ratio;\n",
       "    var y1 = (fig.canvas.height - msg['y1']) / mpl.ratio;\n",
       "    x0 = Math.floor(x0) + 0.5;\n",
       "    y0 = Math.floor(y0) + 0.5;\n",
       "    x1 = Math.floor(x1) + 0.5;\n",
       "    y1 = Math.floor(y1) + 0.5;\n",
       "    var min_x = Math.min(x0, x1);\n",
       "    var min_y = Math.min(y0, y1);\n",
       "    var width = Math.abs(x1 - x0);\n",
       "    var height = Math.abs(y1 - y0);\n",
       "\n",
       "    fig.rubberband_context.clearRect(\n",
       "        0, 0, fig.canvas.width / mpl.ratio, fig.canvas.height / mpl.ratio);\n",
       "\n",
       "    fig.rubberband_context.strokeRect(min_x, min_y, width, height);\n",
       "}\n",
       "\n",
       "mpl.figure.prototype.handle_figure_label = function(fig, msg) {\n",
       "    // Updates the figure title.\n",
       "    fig.header.textContent = msg['label'];\n",
       "}\n",
       "\n",
       "mpl.figure.prototype.handle_cursor = function(fig, msg) {\n",
       "    var cursor = msg['cursor'];\n",
       "    switch(cursor)\n",
       "    {\n",
       "    case 0:\n",
       "        cursor = 'pointer';\n",
       "        break;\n",
       "    case 1:\n",
       "        cursor = 'default';\n",
       "        break;\n",
       "    case 2:\n",
       "        cursor = 'crosshair';\n",
       "        break;\n",
       "    case 3:\n",
       "        cursor = 'move';\n",
       "        break;\n",
       "    }\n",
       "    fig.rubberband_canvas.style.cursor = cursor;\n",
       "}\n",
       "\n",
       "mpl.figure.prototype.handle_message = function(fig, msg) {\n",
       "    fig.message.textContent = msg['message'];\n",
       "}\n",
       "\n",
       "mpl.figure.prototype.handle_draw = function(fig, msg) {\n",
       "    // Request the server to send over a new figure.\n",
       "    fig.send_draw_message();\n",
       "}\n",
       "\n",
       "mpl.figure.prototype.handle_image_mode = function(fig, msg) {\n",
       "    fig.image_mode = msg['mode'];\n",
       "}\n",
       "\n",
       "mpl.figure.prototype.updated_canvas_event = function() {\n",
       "    // Called whenever the canvas gets updated.\n",
       "    this.send_message(\"ack\", {});\n",
       "}\n",
       "\n",
       "// A function to construct a web socket function for onmessage handling.\n",
       "// Called in the figure constructor.\n",
       "mpl.figure.prototype._make_on_message_function = function(fig) {\n",
       "    return function socket_on_message(evt) {\n",
       "        if (evt.data instanceof Blob) {\n",
       "            /* FIXME: We get \"Resource interpreted as Image but\n",
       "             * transferred with MIME type text/plain:\" errors on\n",
       "             * Chrome.  But how to set the MIME type?  It doesn't seem\n",
       "             * to be part of the websocket stream */\n",
       "            evt.data.type = \"image/png\";\n",
       "\n",
       "            /* Free the memory for the previous frames */\n",
       "            if (fig.imageObj.src) {\n",
       "                (window.URL || window.webkitURL).revokeObjectURL(\n",
       "                    fig.imageObj.src);\n",
       "            }\n",
       "\n",
       "            fig.imageObj.src = (window.URL || window.webkitURL).createObjectURL(\n",
       "                evt.data);\n",
       "            fig.updated_canvas_event();\n",
       "            fig.waiting = false;\n",
       "            return;\n",
       "        }\n",
       "        else if (typeof evt.data === 'string' && evt.data.slice(0, 21) == \"data:image/png;base64\") {\n",
       "            fig.imageObj.src = evt.data;\n",
       "            fig.updated_canvas_event();\n",
       "            fig.waiting = false;\n",
       "            return;\n",
       "        }\n",
       "\n",
       "        var msg = JSON.parse(evt.data);\n",
       "        var msg_type = msg['type'];\n",
       "\n",
       "        // Call the  \"handle_{type}\" callback, which takes\n",
       "        // the figure and JSON message as its only arguments.\n",
       "        try {\n",
       "            var callback = fig[\"handle_\" + msg_type];\n",
       "        } catch (e) {\n",
       "            console.log(\"No handler for the '\" + msg_type + \"' message type: \", msg);\n",
       "            return;\n",
       "        }\n",
       "\n",
       "        if (callback) {\n",
       "            try {\n",
       "                // console.log(\"Handling '\" + msg_type + \"' message: \", msg);\n",
       "                callback(fig, msg);\n",
       "            } catch (e) {\n",
       "                console.log(\"Exception inside the 'handler_\" + msg_type + \"' callback:\", e, e.stack, msg);\n",
       "            }\n",
       "        }\n",
       "    };\n",
       "}\n",
       "\n",
       "// from http://stackoverflow.com/questions/1114465/getting-mouse-location-in-canvas\n",
       "mpl.findpos = function(e) {\n",
       "    //this section is from http://www.quirksmode.org/js/events_properties.html\n",
       "    var targ;\n",
       "    if (!e)\n",
       "        e = window.event;\n",
       "    if (e.target)\n",
       "        targ = e.target;\n",
       "    else if (e.srcElement)\n",
       "        targ = e.srcElement;\n",
       "    if (targ.nodeType == 3) // defeat Safari bug\n",
       "        targ = targ.parentNode;\n",
       "\n",
       "    // jQuery normalizes the pageX and pageY\n",
       "    // pageX,Y are the mouse positions relative to the document\n",
       "    // offset() returns the position of the element relative to the document\n",
       "    var x = e.pageX - $(targ).offset().left;\n",
       "    var y = e.pageY - $(targ).offset().top;\n",
       "\n",
       "    return {\"x\": x, \"y\": y};\n",
       "};\n",
       "\n",
       "/*\n",
       " * return a copy of an object with only non-object keys\n",
       " * we need this to avoid circular references\n",
       " * http://stackoverflow.com/a/24161582/3208463\n",
       " */\n",
       "function simpleKeys (original) {\n",
       "  return Object.keys(original).reduce(function (obj, key) {\n",
       "    if (typeof original[key] !== 'object')\n",
       "        obj[key] = original[key]\n",
       "    return obj;\n",
       "  }, {});\n",
       "}\n",
       "\n",
       "mpl.figure.prototype.mouse_event = function(event, name) {\n",
       "    var canvas_pos = mpl.findpos(event)\n",
       "\n",
       "    if (name === 'button_press')\n",
       "    {\n",
       "        this.canvas.focus();\n",
       "        this.canvas_div.focus();\n",
       "    }\n",
       "\n",
       "    var x = canvas_pos.x * mpl.ratio;\n",
       "    var y = canvas_pos.y * mpl.ratio;\n",
       "\n",
       "    this.send_message(name, {x: x, y: y, button: event.button,\n",
       "                             step: event.step,\n",
       "                             guiEvent: simpleKeys(event)});\n",
       "\n",
       "    /* This prevents the web browser from automatically changing to\n",
       "     * the text insertion cursor when the button is pressed.  We want\n",
       "     * to control all of the cursor setting manually through the\n",
       "     * 'cursor' event from matplotlib */\n",
       "    event.preventDefault();\n",
       "    return false;\n",
       "}\n",
       "\n",
       "mpl.figure.prototype._key_event_extra = function(event, name) {\n",
       "    // Handle any extra behaviour associated with a key event\n",
       "}\n",
       "\n",
       "mpl.figure.prototype.key_event = function(event, name) {\n",
       "\n",
       "    // Prevent repeat events\n",
       "    if (name == 'key_press')\n",
       "    {\n",
       "        if (event.which === this._key)\n",
       "            return;\n",
       "        else\n",
       "            this._key = event.which;\n",
       "    }\n",
       "    if (name == 'key_release')\n",
       "        this._key = null;\n",
       "\n",
       "    var value = '';\n",
       "    if (event.ctrlKey && event.which != 17)\n",
       "        value += \"ctrl+\";\n",
       "    if (event.altKey && event.which != 18)\n",
       "        value += \"alt+\";\n",
       "    if (event.shiftKey && event.which != 16)\n",
       "        value += \"shift+\";\n",
       "\n",
       "    value += 'k';\n",
       "    value += event.which.toString();\n",
       "\n",
       "    this._key_event_extra(event, name);\n",
       "\n",
       "    this.send_message(name, {key: value,\n",
       "                             guiEvent: simpleKeys(event)});\n",
       "    return false;\n",
       "}\n",
       "\n",
       "mpl.figure.prototype.toolbar_button_onclick = function(name) {\n",
       "    if (name == 'download') {\n",
       "        this.handle_save(this, null);\n",
       "    } else {\n",
       "        this.send_message(\"toolbar_button\", {name: name});\n",
       "    }\n",
       "};\n",
       "\n",
       "mpl.figure.prototype.toolbar_button_onmouseover = function(tooltip) {\n",
       "    this.message.textContent = tooltip;\n",
       "};\n",
       "mpl.toolbar_items = [[\"Home\", \"Reset original view\", \"fa fa-home icon-home\", \"home\"], [\"Back\", \"Back to previous view\", \"fa fa-arrow-left icon-arrow-left\", \"back\"], [\"Forward\", \"Forward to next view\", \"fa fa-arrow-right icon-arrow-right\", \"forward\"], [\"\", \"\", \"\", \"\"], [\"Pan\", \"Pan axes with left mouse, zoom with right\", \"fa fa-arrows icon-move\", \"pan\"], [\"Zoom\", \"Zoom to rectangle\", \"fa fa-square-o icon-check-empty\", \"zoom\"], [\"\", \"\", \"\", \"\"], [\"Download\", \"Download plot\", \"fa fa-floppy-o icon-save\", \"download\"]];\n",
       "\n",
       "mpl.extensions = [\"eps\", \"jpeg\", \"pdf\", \"png\", \"ps\", \"raw\", \"svg\", \"tif\"];\n",
       "\n",
       "mpl.default_extension = \"png\";var comm_websocket_adapter = function(comm) {\n",
       "    // Create a \"websocket\"-like object which calls the given IPython comm\n",
       "    // object with the appropriate methods. Currently this is a non binary\n",
       "    // socket, so there is still some room for performance tuning.\n",
       "    var ws = {};\n",
       "\n",
       "    ws.close = function() {\n",
       "        comm.close()\n",
       "    };\n",
       "    ws.send = function(m) {\n",
       "        //console.log('sending', m);\n",
       "        comm.send(m);\n",
       "    };\n",
       "    // Register the callback with on_msg.\n",
       "    comm.on_msg(function(msg) {\n",
       "        //console.log('receiving', msg['content']['data'], msg);\n",
       "        // Pass the mpl event to the overridden (by mpl) onmessage function.\n",
       "        ws.onmessage(msg['content']['data'])\n",
       "    });\n",
       "    return ws;\n",
       "}\n",
       "\n",
       "mpl.mpl_figure_comm = function(comm, msg) {\n",
       "    // This is the function which gets called when the mpl process\n",
       "    // starts-up an IPython Comm through the \"matplotlib\" channel.\n",
       "\n",
       "    var id = msg.content.data.id;\n",
       "    // Get hold of the div created by the display call when the Comm\n",
       "    // socket was opened in Python.\n",
       "    var element = $(\"#\" + id);\n",
       "    var ws_proxy = comm_websocket_adapter(comm)\n",
       "\n",
       "    function ondownload(figure, format) {\n",
       "        window.open(figure.imageObj.src);\n",
       "    }\n",
       "\n",
       "    var fig = new mpl.figure(id, ws_proxy,\n",
       "                           ondownload,\n",
       "                           element.get(0));\n",
       "\n",
       "    // Call onopen now - mpl needs it, as it is assuming we've passed it a real\n",
       "    // web socket which is closed, not our websocket->open comm proxy.\n",
       "    ws_proxy.onopen();\n",
       "\n",
       "    fig.parent_element = element.get(0);\n",
       "    fig.cell_info = mpl.find_output_cell(\"<div id='\" + id + \"'></div>\");\n",
       "    if (!fig.cell_info) {\n",
       "        console.error(\"Failed to find cell for figure\", id, fig);\n",
       "        return;\n",
       "    }\n",
       "\n",
       "    var output_index = fig.cell_info[2]\n",
       "    var cell = fig.cell_info[0];\n",
       "\n",
       "};\n",
       "\n",
       "mpl.figure.prototype.handle_close = function(fig, msg) {\n",
       "    var width = fig.canvas.width/mpl.ratio\n",
       "    fig.root.unbind('remove')\n",
       "\n",
       "    // Update the output cell to use the data from the current canvas.\n",
       "    fig.push_to_output();\n",
       "    var dataURL = fig.canvas.toDataURL();\n",
       "    // Re-enable the keyboard manager in IPython - without this line, in FF,\n",
       "    // the notebook keyboard shortcuts fail.\n",
       "    IPython.keyboard_manager.enable()\n",
       "    $(fig.parent_element).html('<img src=\"' + dataURL + '\" width=\"' + width + '\">');\n",
       "    fig.close_ws(fig, msg);\n",
       "}\n",
       "\n",
       "mpl.figure.prototype.close_ws = function(fig, msg){\n",
       "    fig.send_message('closing', msg);\n",
       "    // fig.ws.close()\n",
       "}\n",
       "\n",
       "mpl.figure.prototype.push_to_output = function(remove_interactive) {\n",
       "    // Turn the data on the canvas into data in the output cell.\n",
       "    var width = this.canvas.width/mpl.ratio\n",
       "    var dataURL = this.canvas.toDataURL();\n",
       "    this.cell_info[1]['text/html'] = '<img src=\"' + dataURL + '\" width=\"' + width + '\">';\n",
       "}\n",
       "\n",
       "mpl.figure.prototype.updated_canvas_event = function() {\n",
       "    // Tell IPython that the notebook contents must change.\n",
       "    IPython.notebook.set_dirty(true);\n",
       "    this.send_message(\"ack\", {});\n",
       "    var fig = this;\n",
       "    // Wait a second, then push the new image to the DOM so\n",
       "    // that it is saved nicely (might be nice to debounce this).\n",
       "    setTimeout(function () { fig.push_to_output() }, 1000);\n",
       "}\n",
       "\n",
       "mpl.figure.prototype._init_toolbar = function() {\n",
       "    var fig = this;\n",
       "\n",
       "    var nav_element = $('<div/>');\n",
       "    nav_element.attr('style', 'width: 100%');\n",
       "    this.root.append(nav_element);\n",
       "\n",
       "    // Define a callback function for later on.\n",
       "    function toolbar_event(event) {\n",
       "        return fig.toolbar_button_onclick(event['data']);\n",
       "    }\n",
       "    function toolbar_mouse_event(event) {\n",
       "        return fig.toolbar_button_onmouseover(event['data']);\n",
       "    }\n",
       "\n",
       "    for(var toolbar_ind in mpl.toolbar_items){\n",
       "        var name = mpl.toolbar_items[toolbar_ind][0];\n",
       "        var tooltip = mpl.toolbar_items[toolbar_ind][1];\n",
       "        var image = mpl.toolbar_items[toolbar_ind][2];\n",
       "        var method_name = mpl.toolbar_items[toolbar_ind][3];\n",
       "\n",
       "        if (!name) { continue; };\n",
       "\n",
       "        var button = $('<button class=\"btn btn-default\" href=\"#\" title=\"' + name + '\"><i class=\"fa ' + image + ' fa-lg\"></i></button>');\n",
       "        button.click(method_name, toolbar_event);\n",
       "        button.mouseover(tooltip, toolbar_mouse_event);\n",
       "        nav_element.append(button);\n",
       "    }\n",
       "\n",
       "    // Add the status bar.\n",
       "    var status_bar = $('<span class=\"mpl-message\" style=\"text-align:right; float: right;\"/>');\n",
       "    nav_element.append(status_bar);\n",
       "    this.message = status_bar[0];\n",
       "\n",
       "    // Add the close button to the window.\n",
       "    var buttongrp = $('<div class=\"btn-group inline pull-right\"></div>');\n",
       "    var button = $('<button class=\"btn btn-mini btn-primary\" href=\"#\" title=\"Stop Interaction\"><i class=\"fa fa-power-off icon-remove icon-large\"></i></button>');\n",
       "    button.click(function (evt) { fig.handle_close(fig, {}); } );\n",
       "    button.mouseover('Stop Interaction', toolbar_mouse_event);\n",
       "    buttongrp.append(button);\n",
       "    var titlebar = this.root.find($('.ui-dialog-titlebar'));\n",
       "    titlebar.prepend(buttongrp);\n",
       "}\n",
       "\n",
       "mpl.figure.prototype._root_extra_style = function(el){\n",
       "    var fig = this\n",
       "    el.on(\"remove\", function(){\n",
       "\tfig.close_ws(fig, {});\n",
       "    });\n",
       "}\n",
       "\n",
       "mpl.figure.prototype._canvas_extra_style = function(el){\n",
       "    // this is important to make the div 'focusable\n",
       "    el.attr('tabindex', 0)\n",
       "    // reach out to IPython and tell the keyboard manager to turn it's self\n",
       "    // off when our div gets focus\n",
       "\n",
       "    // location in version 3\n",
       "    if (IPython.notebook.keyboard_manager) {\n",
       "        IPython.notebook.keyboard_manager.register_events(el);\n",
       "    }\n",
       "    else {\n",
       "        // location in version 2\n",
       "        IPython.keyboard_manager.register_events(el);\n",
       "    }\n",
       "\n",
       "}\n",
       "\n",
       "mpl.figure.prototype._key_event_extra = function(event, name) {\n",
       "    var manager = IPython.notebook.keyboard_manager;\n",
       "    if (!manager)\n",
       "        manager = IPython.keyboard_manager;\n",
       "\n",
       "    // Check for shift+enter\n",
       "    if (event.shiftKey && event.which == 13) {\n",
       "        this.canvas_div.blur();\n",
       "        event.shiftKey = false;\n",
       "        // Send a \"J\" for go to next cell\n",
       "        event.which = 74;\n",
       "        event.keyCode = 74;\n",
       "        manager.command_mode();\n",
       "        manager.handle_keydown(event);\n",
       "    }\n",
       "}\n",
       "\n",
       "mpl.figure.prototype.handle_save = function(fig, msg) {\n",
       "    fig.ondownload(fig, null);\n",
       "}\n",
       "\n",
       "\n",
       "mpl.find_output_cell = function(html_output) {\n",
       "    // Return the cell and output element which can be found *uniquely* in the notebook.\n",
       "    // Note - this is a bit hacky, but it is done because the \"notebook_saving.Notebook\"\n",
       "    // IPython event is triggered only after the cells have been serialised, which for\n",
       "    // our purposes (turning an active figure into a static one), is too late.\n",
       "    var cells = IPython.notebook.get_cells();\n",
       "    var ncells = cells.length;\n",
       "    for (var i=0; i<ncells; i++) {\n",
       "        var cell = cells[i];\n",
       "        if (cell.cell_type === 'code'){\n",
       "            for (var j=0; j<cell.output_area.outputs.length; j++) {\n",
       "                var data = cell.output_area.outputs[j];\n",
       "                if (data.data) {\n",
       "                    // IPython >= 3 moved mimebundle to data attribute of output\n",
       "                    data = data.data;\n",
       "                }\n",
       "                if (data['text/html'] == html_output) {\n",
       "                    return [cell, data, j];\n",
       "                }\n",
       "            }\n",
       "        }\n",
       "    }\n",
       "}\n",
       "\n",
       "// Register the function which deals with the matplotlib target/channel.\n",
       "// The kernel may be null if the page has been refreshed.\n",
       "if (IPython.notebook.kernel != null) {\n",
       "    IPython.notebook.kernel.comm_manager.register_target('matplotlib', mpl.mpl_figure_comm);\n",
       "}\n"
      ],
      "text/plain": [
       "<IPython.core.display.Javascript object>"
      ]
     },
     "metadata": {},
     "output_type": "display_data"
    },
    {
     "data": {
      "text/html": [
       "<img src=\"data:image/png;base64,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\" width=\"640\">"
      ],
      "text/plain": [
       "<IPython.core.display.HTML object>"
      ]
     },
     "metadata": {},
     "output_type": "display_data"
    },
    {
     "data": {
      "text/plain": [
       "([<matplotlib.axis.YTick at 0x27e9098b160>,\n",
       "  <matplotlib.axis.YTick at 0x27e90996e48>,\n",
       "  <matplotlib.axis.YTick at 0x27e90eaa518>,\n",
       "  <matplotlib.axis.YTick at 0x27e90e24e80>,\n",
       "  <matplotlib.axis.YTick at 0x27e8fe6b780>,\n",
       "  <matplotlib.axis.YTick at 0x27e8fe6b828>,\n",
       "  <matplotlib.axis.YTick at 0x27e90948160>,\n",
       "  <matplotlib.axis.YTick at 0x27e90e157b8>,\n",
       "  <matplotlib.axis.YTick at 0x27e90e15cf8>,\n",
       "  <matplotlib.axis.YTick at 0x27e90979c50>,\n",
       "  <matplotlib.axis.YTick at 0x27e90979c18>],\n",
       " <a list of 11 Text yticklabel objects>)"
      ]
     },
     "execution_count": 157,
     "metadata": {},
     "output_type": "execute_result"
    }
   ],
   "source": [
    "%matplotlib notebook\n",
    "\n",
    "y_list = gbrt.feature_importances_\n",
    "y_pos = np.arange(len(y_list))\n",
    "features = x\n",
    "plt.barh(y_pos, y_list, align='center', alpha=0.4)\n",
    "plt.yticks(y_pos, features)"
   ]
  },
  {
   "cell_type": "markdown",
   "metadata": {},
   "source": [
    "### Gradient Boosting:\n",
    "Gradient boosting has dropped features with low importance     \n",
    "Learning rate 1:            \n",
    "Accuracy on training set: 0.789              \n",
    "Accuracy on test set: 0.793                   \n",
    "Learning rate 0.01:                      \n",
    "Accuracy on training set: 0.774                    \n",
    "Accuracy on test set: 0.771                   \n"
   ]
  },
  {
   "cell_type": "markdown",
   "metadata": {},
   "source": [
    "### PCA"
   ]
  },
  {
   "cell_type": "code",
   "execution_count": 119,
   "metadata": {},
   "outputs": [],
   "source": [
    "from sklearn.model_selection import train_test_split\n",
    "from sklearn.preprocessing import MinMaxScaler\n",
    "from sklearn.model_selection import GridSearchCV\n",
    "import numpy as np\n",
    "np.random.seed(0)\n",
    "from sklearn.neighbors import KNeighborsRegressor"
   ]
  },
  {
   "cell_type": "code",
   "execution_count": 120,
   "metadata": {},
   "outputs": [],
   "source": [
    "X_train, X_test, y_train, y_test = train_test_split(x, y, random_state=0)\n"
   ]
  },
  {
   "cell_type": "code",
   "execution_count": 121,
   "metadata": {},
   "outputs": [],
   "source": [
    "scaler = MinMaxScaler()\n",
    "X_train = scaler.fit_transform(X_train)\n",
    "X_test = scaler.transform(X_test)"
   ]
  },
  {
   "cell_type": "code",
   "execution_count": 122,
   "metadata": {},
   "outputs": [],
   "source": [
    "from sklearn.decomposition import PCA\n",
    "\n",
    "pca = PCA(n_components=0.95)\n",
    "X_train_reduced = pca.fit_transform(X_train)\n",
    "X_test_reduced = pca.fit_transform(X_test)"
   ]
  },
  {
   "cell_type": "code",
   "execution_count": 123,
   "metadata": {},
   "outputs": [
    {
     "data": {
      "text/plain": [
       "5"
      ]
     },
     "execution_count": 123,
     "metadata": {},
     "output_type": "execute_result"
    }
   ],
   "source": [
    "pca.n_components_"
   ]
  },
  {
   "cell_type": "markdown",
   "metadata": {},
   "source": [
    "## 1. KNN Classifier with PCA:"
   ]
  },
  {
   "cell_type": "code",
   "execution_count": 124,
   "metadata": {},
   "outputs": [
    {
     "name": "stdout",
     "output_type": "stream",
     "text": [
      "Train score: 0.4261\n",
      "test score: 0.3500\n"
     ]
    }
   ],
   "source": [
    "knn_reg = KNeighborsRegressor(17)\n",
    "knn_reg.fit(X_train_reduced, y_train)\n",
    "print('Train score: {:.4f}'.format(knn_reg.score(X_train_reduced, y_train)))\n",
    "print('test score: {:.4f}'.format(knn_reg.score(X_test_reduced, y_test)))"
   ]
  },
  {
   "cell_type": "code",
   "execution_count": 126,
   "metadata": {},
   "outputs": [
    {
     "name": "stdout",
     "output_type": "stream",
     "text": [
      "[[6848 2645]\n",
      " [ 738 1981]]\n",
      "0.5394145677331518\n"
     ]
    }
   ],
   "source": [
    "from sklearn.metrics import f1_score\n",
    "from sklearn.metrics import confusion_matrix\n",
    " \n",
    "knn_reg = KNeighborsClassifier(17)\n",
    "knn_reg.fit(X_train_reduced, y_train)\n",
    "ypred = knn_reg.predict(X_test_reduced)\n",
    "cm = confusion_matrix(ypred,y_test)\n",
    "f = f1_score(ypred,y_test)\n",
    "print(cm)\n",
    "print(f)"
   ]
  },
  {
   "cell_type": "markdown",
   "metadata": {},
   "source": [
    "### PCA :\n",
    "PCA reduced number of features from 11 to 5.               \n",
    "### KNN with PCA           \n",
    "Train score: 0.4261              \n",
    "test score: 0.350                     \n",
    "F-1 score : 0.5394145677331518               "
   ]
  },
  {
   "cell_type": "markdown",
   "metadata": {},
   "source": [
    "### Summary of KNN Classifier:\n",
    "\n",
    "Train score:0.4361              \n",
    "Test score:0.3782                      \n",
    "F1 score : 0.5592859046096457  \n",
    "\n",
    "\n",
    "### KNN without PCA gives better overall results."
   ]
  },
  {
   "cell_type": "markdown",
   "metadata": {},
   "source": [
    "## 2. Decision tree"
   ]
  },
  {
   "cell_type": "code",
   "execution_count": 127,
   "metadata": {},
   "outputs": [],
   "source": [
    "X_train, X_test, y_train, y_test = train_test_split(x, y, random_state=0)\n"
   ]
  },
  {
   "cell_type": "code",
   "execution_count": 128,
   "metadata": {},
   "outputs": [],
   "source": [
    "scaler = MinMaxScaler()\n",
    "X_train = scaler.fit_transform(X_train)\n",
    "X_test = scaler.transform(X_test)"
   ]
  },
  {
   "cell_type": "code",
   "execution_count": 129,
   "metadata": {},
   "outputs": [],
   "source": [
    "from sklearn.decomposition import PCA\n",
    "\n",
    "pca = PCA(n_components=0.95)\n",
    "X_train_reduced = pca.fit_transform(X_train)\n",
    "X_test_reduced = pca.fit_transform(X_test)"
   ]
  },
  {
   "cell_type": "code",
   "execution_count": 130,
   "metadata": {},
   "outputs": [],
   "source": [
    "from sklearn.tree import DecisionTreeClassifier\n",
    "from scipy.stats import randint \n",
    "param_grid = {'max_depth': np.arange(2, 11) , 'min_samples_split' : np.arange(2, 15)}\n",
    "grid3 = GridSearchCV(DecisionTreeClassifier(random_state = 24), param_grid, cv = 5, return_train_score= True, iid = False, \n",
    "                    scoring = 'recall')"
   ]
  },
  {
   "cell_type": "code",
   "execution_count": 132,
   "metadata": {},
   "outputs": [
    {
     "data": {
      "text/plain": [
       "GridSearchCV(cv=5, error_score='raise-deprecating',\n",
       "             estimator=DecisionTreeClassifier(class_weight=None,\n",
       "                                              criterion='gini', max_depth=None,\n",
       "                                              max_features=None,\n",
       "                                              max_leaf_nodes=None,\n",
       "                                              min_impurity_decrease=0.0,\n",
       "                                              min_impurity_split=None,\n",
       "                                              min_samples_leaf=1,\n",
       "                                              min_samples_split=2,\n",
       "                                              min_weight_fraction_leaf=0.0,\n",
       "                                              presort=False, random_state=24,\n",
       "                                              splitter='best'),\n",
       "             iid=False, n_jobs=None,\n",
       "             param_grid={'max_depth': array([ 2,  3,  4,  5,  6,  7,  8,  9, 10]),\n",
       "                         'min_samples_split': array([ 2,  3,  4,  5,  6,  7,  8,  9, 10, 11, 12, 13, 14])},\n",
       "             pre_dispatch='2*n_jobs', refit=True, return_train_score=True,\n",
       "             scoring='recall', verbose=0)"
      ]
     },
     "execution_count": 132,
     "metadata": {},
     "output_type": "execute_result"
    }
   ],
   "source": [
    "grid3.fit(X_train_reduced, y_train)\n"
   ]
  },
  {
   "cell_type": "code",
   "execution_count": 133,
   "metadata": {},
   "outputs": [
    {
     "name": "stdout",
     "output_type": "stream",
     "text": [
      "0.8345011337868481\n",
      "{'max_depth': 3, 'min_samples_split': 2}\n"
     ]
    }
   ],
   "source": [
    "print(grid3.best_score_)\n",
    "print(grid3.best_params_)"
   ]
  },
  {
   "cell_type": "code",
   "execution_count": 134,
   "metadata": {},
   "outputs": [
    {
     "data": {
      "text/plain": [
       "GridSearchCV(cv=5, error_score='raise-deprecating',\n",
       "             estimator=DecisionTreeClassifier(class_weight=None,\n",
       "                                              criterion='gini', max_depth=None,\n",
       "                                              max_features=None,\n",
       "                                              max_leaf_nodes=None,\n",
       "                                              min_impurity_decrease=0.0,\n",
       "                                              min_impurity_split=None,\n",
       "                                              min_samples_leaf=1,\n",
       "                                              min_samples_split=2,\n",
       "                                              min_weight_fraction_leaf=0.0,\n",
       "                                              presort=False, random_state=24,\n",
       "                                              splitter='best'),\n",
       "             iid=False, n_jobs=None,\n",
       "             param_grid={'max_depth': array([ 2,  3,  4,  5,  6,  7,  8,  9, 10]),\n",
       "                         'min_samples_split': array([ 2,  3,  4,  5,  6,  7,  8,  9, 10, 11, 12, 13, 14])},\n",
       "             pre_dispatch='2*n_jobs', refit=True, return_train_score=True,\n",
       "             scoring='recall', verbose=0)"
      ]
     },
     "execution_count": 134,
     "metadata": {},
     "output_type": "execute_result"
    }
   ],
   "source": [
    "grid3.fit(X_test_reduced, y_test)"
   ]
  },
  {
   "cell_type": "code",
   "execution_count": 135,
   "metadata": {},
   "outputs": [
    {
     "name": "stdout",
     "output_type": "stream",
     "text": [
      "0.8253379253984005\n"
     ]
    }
   ],
   "source": [
    "print(grid3.best_score_)"
   ]
  },
  {
   "cell_type": "code",
   "execution_count": 106,
   "metadata": {},
   "outputs": [
    {
     "name": "stdout",
     "output_type": "stream",
     "text": [
      "0.7390295703316451\n",
      "[[17339  5574]\n",
      " [ 2413 11309]]\n"
     ]
    }
   ],
   "source": [
    "from sklearn.metrics import recall_score, precision_score, roc_auc_score, confusion_matrix\n",
    "from sklearn.metrics import f1_score\n",
    "\n",
    "y_train_pred = grid3.predict(X_train_reduced)\n",
    "print(f1_score(y_train, y_train_pred))\n",
    "print(confusion_matrix(y_train, y_train_pred))\n"
   ]
  },
  {
   "cell_type": "markdown",
   "metadata": {},
   "source": [
    "### Summary of  Decision tree with PCA :\n",
    "\n",
    "Train score:0.8345011337868481                \n",
    "Test score:0.8253379253984005             \n",
    "Best max depth:max depth : 3              \n",
    "F1 score : 0.7390295703316451       "
   ]
  },
  {
   "cell_type": "markdown",
   "metadata": {},
   "source": [
    "## Summary of Decision Tree Classifier without PCA:\n",
    "\n",
    "Train score:0.8325319823479743                \n",
    "Test score: 0.7919041344027297                       \n",
    "Best Parameter : max depth = 3                \n",
    "F1 score : 0.5592859046096457                        "
   ]
  },
  {
   "cell_type": "markdown",
   "metadata": {},
   "source": [
    "### Decision tree with PCA gives better overall accuracy."
   ]
  },
  {
   "cell_type": "markdown",
   "metadata": {},
   "source": [
    "## 3. Logistic regression:"
   ]
  },
  {
   "cell_type": "code",
   "execution_count": 175,
   "metadata": {},
   "outputs": [],
   "source": [
    "X_train, X_test, y_train, y_test = train_test_split(x, y, random_state=0)\n"
   ]
  },
  {
   "cell_type": "code",
   "execution_count": 176,
   "metadata": {},
   "outputs": [],
   "source": [
    "scaler = MinMaxScaler()\n",
    "X_train = scaler.fit_transform(X_train)\n",
    "X_test = scaler.transform(X_test)"
   ]
  },
  {
   "cell_type": "code",
   "execution_count": 177,
   "metadata": {},
   "outputs": [],
   "source": [
    "from sklearn.decomposition import PCA\n",
    "\n",
    "pca = PCA(n_components=0.95)\n",
    "X_train_reduced = pca.fit_transform(X_train)\n",
    "X_test_reduced = pca.fit_transform(X_test)"
   ]
  },
  {
   "cell_type": "code",
   "execution_count": 178,
   "metadata": {},
   "outputs": [],
   "source": [
    "from sklearn.linear_model import LogisticRegression"
   ]
  },
  {
   "cell_type": "code",
   "execution_count": 179,
   "metadata": {},
   "outputs": [
    {
     "name": "stdout",
     "output_type": "stream",
     "text": [
      "0.7834311450798417\n",
      "0.7810350474942679\n"
     ]
    }
   ],
   "source": [
    "log_l2 = LogisticRegression(penalty = 'l2', C = 10)\n",
    "#log_l1.fit(X_train, y_train)\n",
    "log_l2.fit(X_train_reduced, y_train)\n",
    "print(log_l2.score(X_train_reduced, y_train))\n",
    "#test_score_l1.append(log_l1.score(X_test, y_test))\n",
    "print(log_l2.score(X_test_reduced, y_test))"
   ]
  },
  {
   "cell_type": "code",
   "execution_count": 181,
   "metadata": {},
   "outputs": [
    {
     "data": {
      "text/plain": [
       "GridSearchCV(cv=6, error_score='raise-deprecating',\n",
       "             estimator=LogisticRegression(C=1.0, class_weight=None, dual=False,\n",
       "                                          fit_intercept=True,\n",
       "                                          intercept_scaling=1, l1_ratio=None,\n",
       "                                          max_iter=100, multi_class='warn',\n",
       "                                          n_jobs=None, penalty='l2',\n",
       "                                          random_state=None, solver='warn',\n",
       "                                          tol=0.0001, verbose=0,\n",
       "                                          warm_start=False),\n",
       "             iid='warn', n_jobs=None,\n",
       "             param_grid={'C': [0.01, 0.1, 1, 10], 'penalty': ['l1', 'l2']},\n",
       "             pre_dispatch='2*n_jobs', refit=True, return_train_score=True,\n",
       "             scoring=None, verbose=0)"
      ]
     },
     "execution_count": 181,
     "metadata": {},
     "output_type": "execute_result"
    }
   ],
   "source": [
    "from sklearn.model_selection import GridSearchCV\n",
    "model = LogisticRegression()\n",
    "penalty = ['l1', 'l2']\n",
    "C = [0.01,0.1,1,10]\n",
    "parameters = dict(C=C, penalty=penalty)\n",
    "\n",
    "grid_search = GridSearchCV(model,parameters, cv=6, return_train_score=True)\n",
    "grid_search.fit(X_train_reduced, y_train)"
   ]
  },
  {
   "cell_type": "code",
   "execution_count": 182,
   "metadata": {},
   "outputs": [
    {
     "name": "stdout",
     "output_type": "stream",
     "text": [
      "Best parameters: {'C': 1, 'penalty': 'l1'}\n",
      "Best cross-validation score: 0.78\n"
     ]
    }
   ],
   "source": [
    "print(\"Best parameters: {}\".format(grid_search.best_params_))\n",
    "print(\"Best cross-validation score: {:.2f}\".format(grid_search.best_score_))"
   ]
  },
  {
   "cell_type": "code",
   "execution_count": 183,
   "metadata": {},
   "outputs": [
    {
     "name": "stdout",
     "output_type": "stream",
     "text": [
      "Cross-validation scores:\n",
      "[0.77743203 0.78873239 0.78169014 0.78005241 0.78709466 0.78607699]\n",
      "0.7835131039683939\n"
     ]
    }
   ],
   "source": [
    "from sklearn.model_selection import KFold\n",
    "from sklearn.model_selection import cross_val_score\n",
    "from sklearn.linear_model import LogisticRegression\n",
    "\n",
    "log_l1 = LogisticRegression(penalty = 'l1', C = 1)\n",
    "kfold = KFold(n_splits=6)\n",
    "print(\"Cross-validation scores:\\n{}\".format(cross_val_score(log_l1 , X_train_reduced, y_train, cv=kfold)))\n",
    "scores = cross_val_score(log_l1 , X_train_reduced, y_train, cv=kfold)\n",
    "print(np.mean(scores))"
   ]
  },
  {
   "cell_type": "code",
   "execution_count": 93,
   "metadata": {},
   "outputs": [
    {
     "name": "stdout",
     "output_type": "stream",
     "text": [
      "0.0\n",
      "[[7625 4587]\n",
      " [   0    0]]\n"
     ]
    }
   ],
   "source": [
    "from sklearn.metrics import f1_score\n",
    "log_l1 = LogisticRegression(penalty = 'l1', C = 10)\n",
    "log_l1.fit(X_train_reduced, y_train)\n",
    "ypred = log_l1.predict(X_test_reduced)\n",
    "ft = f1_score(ypred,y_test)\n",
    "cm = confusion_matrix(ypred,y_test)\n",
    "print(ft)\n",
    "print(cm)"
   ]
  },
  {
   "cell_type": "markdown",
   "metadata": {},
   "source": [
    "### Summary of  Logistic Regression with PCA:\n",
    "Train score: 0.7834311450798417           \n",
    "Test score : 0.7810350474942679                   \n",
    "Best Parameter: Best parameters: {'C': 1, 'penalty': 'l1'}             \n"
   ]
  },
  {
   "cell_type": "markdown",
   "metadata": {},
   "source": [
    "### Summary of Logistic Regression:\n",
    "\n",
    "Train score:0.7894909693959807          \n",
    "Test score:0.7129536007190204           \n",
    "Best Parameter : Best Parameter: Best parameters: {'C': 1, 'penalty': 'l1'}                        \n",
    "F1 score : 0.71406578026592                   "
   ]
  },
  {
   "cell_type": "markdown",
   "metadata": {},
   "source": [
    "### Logistic Regression with PCA gives better overall scire"
   ]
  },
  {
   "cell_type": "markdown",
   "metadata": {},
   "source": [
    "## 4. Linear SVC "
   ]
  },
  {
   "cell_type": "code",
   "execution_count": 53,
   "metadata": {},
   "outputs": [],
   "source": [
    "X_train, X_test, y_train, y_test = train_test_split(x, y, random_state = 0)"
   ]
  },
  {
   "cell_type": "code",
   "execution_count": 59,
   "metadata": {},
   "outputs": [],
   "source": [
    "scaler = MinMaxScaler()\n",
    "X_train = scaler.fit_transform(X_train)\n",
    "X_test = scaler.transform(X_test)"
   ]
  },
  {
   "cell_type": "code",
   "execution_count": 188,
   "metadata": {},
   "outputs": [],
   "source": [
    "from sklearn.decomposition import PCA\n",
    "\n",
    "pca = PCA(n_components=0.95)\n",
    "X_train_reduced = pca.fit_transform(X_train)\n",
    "X_test_reduced = pca.fit_transform(X_test)"
   ]
  },
  {
   "cell_type": "code",
   "execution_count": 72,
   "metadata": {},
   "outputs": [
    {
     "data": {
      "text/plain": [
       "GridSearchCV(cv='warn', error_score='raise-deprecating',\n",
       "             estimator=SVC(C=1.0, cache_size=200, class_weight=None, coef0=0.0,\n",
       "                           decision_function_shape='ovr', degree=3,\n",
       "                           gamma='auto_deprecated', kernel='linear',\n",
       "                           max_iter=-1, probability=False, random_state=None,\n",
       "                           shrinking=True, tol=0.001, verbose=False),\n",
       "             iid='warn', n_jobs=None, param_grid={'C': [1, 10]},\n",
       "             pre_dispatch='2*n_jobs', refit=True, return_train_score=True,\n",
       "             scoring=None, verbose=0)"
      ]
     },
     "execution_count": 72,
     "metadata": {},
     "output_type": "execute_result"
    }
   ],
   "source": [
    "from sklearn.model_selection import GridSearchCV\n",
    "model = SVC(kernel = 'linear')\n",
    "\n",
    "parameters = {'C': [ 1, 10]}\n",
    "\n",
    "grid_search = GridSearchCV(model,parameters, return_train_score=True)\n",
    "grid_search.fit(X_train_reduced, y_train)"
   ]
  },
  {
   "cell_type": "code",
   "execution_count": 73,
   "metadata": {},
   "outputs": [
    {
     "name": "stdout",
     "output_type": "stream",
     "text": [
      "Best parameters: {'C': 1}\n",
      "Best cross-validation score: 0.78\n"
     ]
    }
   ],
   "source": [
    "print(\"Best parameters: {}\".format(grid_search.best_params_))\n",
    "print(\"Best cross-validation score: {:.2f}\".format(grid_search.best_score_))"
   ]
  },
  {
   "cell_type": "code",
   "execution_count": 74,
   "metadata": {},
   "outputs": [
    {
     "name": "stdout",
     "output_type": "stream",
     "text": [
      "[0.77620373 0.77202751 0.78208173]\n",
      "0.7767709925136366\n"
     ]
    }
   ],
   "source": [
    "from sklearn.model_selection import KFold\n",
    "from sklearn.model_selection import cross_val_score\n",
    "svc = SVC(kernel = 'linear',C = 1)\n",
    "#print(\"Cross-validation scores:\\n{}\".format(cross_val_score(svc , X_train, y_train, cv=kfold)))\n",
    "scores = cross_val_score(svc , X_train_reduced, y_train)\n",
    "print(scores)\n",
    "print(np.mean(scores))"
   ]
  },
  {
   "cell_type": "code",
   "execution_count": 153,
   "metadata": {},
   "outputs": [
    {
     "name": "stdout",
     "output_type": "stream",
     "text": [
      "[0.7813805  0.79145173 0.77297297]\n",
      "0.7819350669755977\n"
     ]
    }
   ],
   "source": [
    "scores1 = cross_val_score(svc , X_test_reduced, y_test)\n",
    "print(scores1)\n",
    "print(np.mean(scores1))"
   ]
  },
  {
   "cell_type": "code",
   "execution_count": 75,
   "metadata": {},
   "outputs": [
    {
     "name": "stdout",
     "output_type": "stream",
     "text": [
      "[[5686  763]\n",
      " [1900 3863]]\n",
      "0.7436711906824525\n"
     ]
    }
   ],
   "source": [
    "from sklearn.metrics import f1_score\n",
    "svc = SVC(kernel = 'linear', C = 1 )\n",
    "svc.fit(X_train_reduced, y_train)\n",
    "ypred = svc.predict(X_test_reduced)\n",
    "cm = confusion_matrix(ypred,y_test)\n",
    "f = f1_score(ypred,y_test)\n",
    "print(cm)\n",
    "print(f)"
   ]
  },
  {
   "cell_type": "markdown",
   "metadata": {},
   "source": [
    "### Linear SVC with PCA :\n",
    "Train score : 0.7767709925136366            \n",
    "Test score : 0.7819350669755977            \n",
    "Best parameters: {'C': 1}                               \n",
    "F1 score : 0.7462424360726138            \n"
   ]
  },
  {
   "cell_type": "markdown",
   "metadata": {},
   "source": [
    "### Linear SVC without PCA :\n",
    "Train score : 0.7817116267911025              \n",
    "Test score : 0.7870939674182121       \n",
    "Best parameters: {'C': 1}                            \n",
    "F1 score : 0.7436711906824525             "
   ]
  },
  {
   "cell_type": "markdown",
   "metadata": {},
   "source": [
    "## Linear SVC without PCA gives better results"
   ]
  },
  {
   "cell_type": "markdown",
   "metadata": {},
   "source": [
    "## 6. Kernel Svc"
   ]
  },
  {
   "cell_type": "code",
   "execution_count": 76,
   "metadata": {},
   "outputs": [
    {
     "data": {
      "text/plain": [
       "GridSearchCV(cv='warn', error_score='raise-deprecating',\n",
       "             estimator=SVC(C=1.0, cache_size=200, class_weight=None, coef0=0.0,\n",
       "                           decision_function_shape='ovr', degree=3,\n",
       "                           gamma='auto_deprecated', kernel='rbf', max_iter=-1,\n",
       "                           probability=False, random_state=None, shrinking=True,\n",
       "                           tol=0.001, verbose=False),\n",
       "             iid='warn', n_jobs=None, param_grid={'C': [1, 10]},\n",
       "             pre_dispatch='2*n_jobs', refit=True, return_train_score=True,\n",
       "             scoring=None, verbose=0)"
      ]
     },
     "execution_count": 76,
     "metadata": {},
     "output_type": "execute_result"
    }
   ],
   "source": [
    "from sklearn.svm import SVC\n",
    "\n",
    "from sklearn.model_selection import GridSearchCV\n",
    "model = SVC(kernel = 'rbf')\n",
    "\n",
    "parameters = {'C': [1, 10]}\n",
    "\n",
    "grid_search = GridSearchCV(model,parameters, return_train_score=True)\n",
    "grid_search.fit(X_train_reduced, y_train)"
   ]
  },
  {
   "cell_type": "code",
   "execution_count": 77,
   "metadata": {},
   "outputs": [
    {
     "name": "stdout",
     "output_type": "stream",
     "text": [
      "Best parameters: {'C': 10}\n",
      "Best cross-validation score: 0.78\n"
     ]
    }
   ],
   "source": [
    "print(\"Best parameters: {}\".format(grid_search.best_params_))\n",
    "print(\"Best cross-validation score: {:.2f}\".format(grid_search.best_score_))"
   ]
  },
  {
   "cell_type": "code",
   "execution_count": 141,
   "metadata": {},
   "outputs": [
    {
     "name": "stdout",
     "output_type": "stream",
     "text": [
      "[0.78422863 0.78111693 0.78748669]\n",
      "[0.78727585 0.79538197 0.77862408]\n",
      "0.7842774180230463\n"
     ]
    }
   ],
   "source": [
    "from sklearn.model_selection import KFold\n",
    "from sklearn.model_selection import cross_val_score\n",
    "svc = SVC(kernel = 'rbf',C = 10)\n",
    "#print(\"Cross-validation scores:\\n{}\".format(cross_val_score(svc , X_train, y_train, cv=kfold)))\n",
    "scores = cross_val_score(svc , X_train_reduced, y_train)\n",
    "scores1 = cross_val_score(svc , X_test_reduced, y_test)\n",
    "print(scores)\n",
    "print(scores1)\n",
    "print(np.mean(scores))"
   ]
  },
  {
   "cell_type": "code",
   "execution_count": 142,
   "metadata": {},
   "outputs": [
    {
     "name": "stdout",
     "output_type": "stream",
     "text": [
      "0.7870939674182121\n"
     ]
    }
   ],
   "source": [
    "print(np.mean(scores1))"
   ]
  },
  {
   "cell_type": "code",
   "execution_count": 79,
   "metadata": {},
   "outputs": [
    {
     "name": "stdout",
     "output_type": "stream",
     "text": [
      "[[6506 1564]\n",
      " [1080 3062]]\n",
      "0.6984489051094891\n"
     ]
    }
   ],
   "source": [
    "from sklearn.metrics import f1_score\n",
    "svc = SVC(kernel = 'rbf', C = 10 )\n",
    "svc.fit(X_train_reduced, y_train)\n",
    "ypred = svc.predict(X_test_reduced)\n",
    "cm = confusion_matrix(ypred,y_test)\n",
    "f = f1_score(ypred,y_test)\n",
    "print(cm)\n",
    "print(f)"
   ]
  },
  {
   "cell_type": "code",
   "execution_count": 89,
   "metadata": {},
   "outputs": [
    {
     "name": "stdout",
     "output_type": "stream",
     "text": [
      "Cross-validation scores:\n",
      "[0.62283    0.62479528 0.61955454 0.63445791 0.61808058 0.62653563]\n",
      "0.6243756560657969\n"
     ]
    }
   ],
   "source": [
    "from sklearn.model_selection import KFold\n",
    "from sklearn.model_selection import cross_val_score\n",
    "from sklearn.linear_model import LogisticRegression\n",
    "\n",
    "log_l1 = LogisticRegression(penalty = 'l1', C = 1)\n",
    "kfold = KFold(n_splits=6)\n",
    "print(\"Cross-validation scores:\\n{}\".format(cross_val_score(log_l1 , X_train_reduced, y_train, cv=kfold)))\n",
    "scores = cross_val_score(log_l1 , X_train_reduced, y_train, cv=kfold)\n",
    "print(np.mean(scores))"
   ]
  },
  {
   "cell_type": "markdown",
   "metadata": {},
   "source": [
    "### Kernel SVC with PCA :\n",
    "Train score : 0.7842774180230463   \n",
    "Test score : 0.7870939674182121    \n",
    "Best parameters: {'C': 10}            \n",
    "F1 score : 0.6243756560657969          \n",
    "\n"
   ]
  },
  {
   "cell_type": "markdown",
   "metadata": {},
   "source": [
    "## Summary of SVC kernel without PCA:\n",
    "\n",
    "Train score:0.79      \n",
    "Test score:0.79          \n",
    "Best Parameter :C': 10          "
   ]
  },
  {
   "cell_type": "markdown",
   "metadata": {},
   "source": [
    "### Summary of SVC without PCA gives better accuracy."
   ]
  },
  {
   "cell_type": "markdown",
   "metadata": {},
   "source": [
    "## Deep Learning:"
   ]
  },
  {
   "cell_type": "code",
   "execution_count": 82,
   "metadata": {},
   "outputs": [
    {
     "name": "stderr",
     "output_type": "stream",
     "text": [
      "Using TensorFlow backend.\n"
     ]
    }
   ],
   "source": [
    "from keras.models import Sequential\n",
    "from keras.layers import Dense\n",
    "import numpy\n",
    "\n",
    "# fix random seed for reproducibility\n",
    "numpy.random.seed(10)"
   ]
  },
  {
   "cell_type": "code",
   "execution_count": 84,
   "metadata": {},
   "outputs": [
    {
     "data": {
      "text/plain": [
       "(48847, 11)"
      ]
     },
     "execution_count": 84,
     "metadata": {},
     "output_type": "execute_result"
    }
   ],
   "source": [
    "from sklearn.model_selection import train_test_split\n",
    "X_train, X_test, y_train, y_test = train_test_split(x,y)\n",
    "x.shape"
   ]
  },
  {
   "cell_type": "code",
   "execution_count": 183,
   "metadata": {},
   "outputs": [
    {
     "name": "stdout",
     "output_type": "stream",
     "text": [
      "Cross-validation scores:\n",
      "[0.77743203 0.78873239 0.78169014 0.78005241 0.78709466 0.78607699]\n",
      "0.7835131039683939\n"
     ]
    }
   ],
   "source": [
    "from sklearn.model_selection import KFold\n",
    "from sklearn.model_selection import cross_val_score\n",
    "from sklearn.linear_model import LogisticRegression\n",
    "\n",
    "log_l1 = LogisticRegression(penalty = 'l1', C = 1)\n",
    "kfold = KFold(n_splits=6)\n",
    "print(\"Cross-validation scores:\\n{}\".format(cross_val_score(log_l1 , X_train_reduced, y_train, cv=kfold)))\n",
    "scores = cross_val_score(log_l1 , X_train_reduced, y_train, cv=kfold)\n",
    "print(np.mean(scores))"
   ]
  },
  {
   "cell_type": "code",
   "execution_count": 85,
   "metadata": {},
   "outputs": [
    {
     "name": "stdout",
     "output_type": "stream",
     "text": [
      "WARNING:tensorflow:From C:\\Users\\mokumar\\AppData\\Local\\Continuum\\anaconda3\\lib\\site-packages\\keras\\backend\\tensorflow_backend.py:74: The name tf.get_default_graph is deprecated. Please use tf.compat.v1.get_default_graph instead.\n",
      "\n",
      "WARNING:tensorflow:From C:\\Users\\mokumar\\AppData\\Local\\Continuum\\anaconda3\\lib\\site-packages\\keras\\backend\\tensorflow_backend.py:517: The name tf.placeholder is deprecated. Please use tf.compat.v1.placeholder instead.\n",
      "\n",
      "WARNING:tensorflow:From C:\\Users\\mokumar\\AppData\\Local\\Continuum\\anaconda3\\lib\\site-packages\\keras\\backend\\tensorflow_backend.py:4138: The name tf.random_uniform is deprecated. Please use tf.random.uniform instead.\n",
      "\n"
     ]
    }
   ],
   "source": [
    "# create model\n",
    "model = Sequential()\n",
    "model.add(Dense(12, input_dim=11, activation='relu'))\n",
    "model.add(Dense(8, activation='relu'))\n",
    "model.add(Dense(1, activation='sigmoid'))"
   ]
  },
  {
   "cell_type": "code",
   "execution_count": 86,
   "metadata": {},
   "outputs": [
    {
     "name": "stdout",
     "output_type": "stream",
     "text": [
      "WARNING:tensorflow:From C:\\Users\\mokumar\\AppData\\Local\\Continuum\\anaconda3\\lib\\site-packages\\keras\\optimizers.py:790: The name tf.train.Optimizer is deprecated. Please use tf.compat.v1.train.Optimizer instead.\n",
      "\n",
      "WARNING:tensorflow:From C:\\Users\\mokumar\\AppData\\Local\\Continuum\\anaconda3\\lib\\site-packages\\keras\\backend\\tensorflow_backend.py:3376: The name tf.log is deprecated. Please use tf.math.log instead.\n",
      "\n",
      "WARNING:tensorflow:From C:\\Users\\mokumar\\AppData\\Local\\Continuum\\anaconda3\\lib\\site-packages\\tensorflow_core\\python\\ops\\nn_impl.py:183: where (from tensorflow.python.ops.array_ops) is deprecated and will be removed in a future version.\n",
      "Instructions for updating:\n",
      "Use tf.where in 2.0, which has the same broadcast rule as np.where\n"
     ]
    }
   ],
   "source": [
    "# Compile model\n",
    "model.compile(loss='binary_crossentropy', optimizer='adam', metrics=['accuracy'])"
   ]
  },
  {
   "cell_type": "code",
   "execution_count": 87,
   "metadata": {},
   "outputs": [
    {
     "name": "stdout",
     "output_type": "stream",
     "text": [
      "WARNING:tensorflow:From C:\\Users\\mokumar\\AppData\\Local\\Continuum\\anaconda3\\lib\\site-packages\\keras\\backend\\tensorflow_backend.py:986: The name tf.assign_add is deprecated. Please use tf.compat.v1.assign_add instead.\n",
      "\n",
      "WARNING:tensorflow:From C:\\Users\\mokumar\\AppData\\Local\\Continuum\\anaconda3\\lib\\site-packages\\keras\\backend\\tensorflow_backend.py:973: The name tf.assign is deprecated. Please use tf.compat.v1.assign instead.\n",
      "\n",
      "WARNING:tensorflow:From C:\\Users\\mokumar\\AppData\\Local\\Continuum\\anaconda3\\lib\\site-packages\\keras\\backend\\tensorflow_backend.py:2741: The name tf.Session is deprecated. Please use tf.compat.v1.Session instead.\n",
      "\n",
      "Epoch 1/150\n",
      "WARNING:tensorflow:From C:\\Users\\mokumar\\AppData\\Local\\Continuum\\anaconda3\\lib\\site-packages\\keras\\backend\\tensorflow_backend.py:174: The name tf.get_default_session is deprecated. Please use tf.compat.v1.get_default_session instead.\n",
      "\n",
      "WARNING:tensorflow:From C:\\Users\\mokumar\\AppData\\Local\\Continuum\\anaconda3\\lib\\site-packages\\keras\\backend\\tensorflow_backend.py:181: The name tf.ConfigProto is deprecated. Please use tf.compat.v1.ConfigProto instead.\n",
      "\n",
      "WARNING:tensorflow:From C:\\Users\\mokumar\\AppData\\Local\\Continuum\\anaconda3\\lib\\site-packages\\keras\\backend\\tensorflow_backend.py:190: The name tf.global_variables is deprecated. Please use tf.compat.v1.global_variables instead.\n",
      "\n",
      "WARNING:tensorflow:From C:\\Users\\mokumar\\AppData\\Local\\Continuum\\anaconda3\\lib\\site-packages\\keras\\backend\\tensorflow_backend.py:199: The name tf.is_variable_initialized is deprecated. Please use tf.compat.v1.is_variable_initialized instead.\n",
      "\n",
      "WARNING:tensorflow:From C:\\Users\\mokumar\\AppData\\Local\\Continuum\\anaconda3\\lib\\site-packages\\keras\\backend\\tensorflow_backend.py:206: The name tf.variables_initializer is deprecated. Please use tf.compat.v1.variables_initializer instead.\n",
      "\n",
      "36635/36635 [==============================] - 9s 249us/step - loss: 0.5318 - acc: 0.7412\n",
      "Epoch 2/150\n",
      "36635/36635 [==============================] - 8s 226us/step - loss: 0.4588 - acc: 0.7809\n",
      "Epoch 3/150\n",
      "36635/36635 [==============================] - 8s 228us/step - loss: 0.4553 - acc: 0.7833\n",
      "Epoch 4/150\n",
      "36635/36635 [==============================] - 8s 224us/step - loss: 0.4519 - acc: 0.7855\n",
      "Epoch 5/150\n",
      "36635/36635 [==============================] - 8s 218us/step - loss: 0.4506 - acc: 0.7854\n",
      "Epoch 6/150\n",
      "36635/36635 [==============================] - 8s 214us/step - loss: 0.4494 - acc: 0.7859\n",
      "Epoch 7/150\n",
      "36635/36635 [==============================] - 8s 225us/step - loss: 0.4491 - acc: 0.7873\n",
      "Epoch 8/150\n",
      "36635/36635 [==============================] - 8s 226us/step - loss: 0.4479 - acc: 0.7874\n",
      "Epoch 9/150\n",
      "36635/36635 [==============================] - 8s 226us/step - loss: 0.4471 - acc: 0.7862\n",
      "Epoch 10/150\n",
      "36635/36635 [==============================] - 8s 225us/step - loss: 0.4440 - acc: 0.7895\n",
      "Epoch 11/150\n",
      "36635/36635 [==============================] - 8s 211us/step - loss: 0.4452 - acc: 0.7886\n",
      "Epoch 12/150\n",
      "36635/36635 [==============================] - 8s 211us/step - loss: 0.4442 - acc: 0.7901\n",
      "Epoch 13/150\n",
      "36635/36635 [==============================] - 8s 217us/step - loss: 0.4436 - acc: 0.7882\n",
      "Epoch 14/150\n",
      "36635/36635 [==============================] - 8s 222us/step - loss: 0.4416 - acc: 0.7908\n",
      "Epoch 15/150\n",
      "36635/36635 [==============================] - 8s 225us/step - loss: 0.4417 - acc: 0.7907\n",
      "Epoch 16/150\n",
      "36635/36635 [==============================] - 8s 226us/step - loss: 0.4410 - acc: 0.7901\n",
      "Epoch 17/150\n",
      "36635/36635 [==============================] - 8s 225us/step - loss: 0.4411 - acc: 0.7884\n",
      "Epoch 18/150\n",
      "36635/36635 [==============================] - 8s 226us/step - loss: 0.4406 - acc: 0.7907\n",
      "Epoch 19/150\n",
      "36635/36635 [==============================] - 8s 226us/step - loss: 0.4406 - acc: 0.7911\n",
      "Epoch 20/150\n",
      "36635/36635 [==============================] - 8s 227us/step - loss: 0.4402 - acc: 0.7904\n",
      "Epoch 21/150\n",
      "36635/36635 [==============================] - 8s 230us/step - loss: 0.4396 - acc: 0.7900\n",
      "Epoch 22/150\n",
      "36635/36635 [==============================] - 8s 227us/step - loss: 0.4386 - acc: 0.7903\n",
      "Epoch 23/150\n",
      "36635/36635 [==============================] - 8s 226us/step - loss: 0.4395 - acc: 0.7917\n",
      "Epoch 24/150\n",
      "36635/36635 [==============================] - 8s 227us/step - loss: 0.4386 - acc: 0.7919\n",
      "Epoch 25/150\n",
      "36635/36635 [==============================] - 8s 226us/step - loss: 0.4389 - acc: 0.7907\n",
      "Epoch 26/150\n",
      "36635/36635 [==============================] - 8s 226us/step - loss: 0.4389 - acc: 0.7912\n",
      "Epoch 27/150\n",
      "36635/36635 [==============================] - 8s 228us/step - loss: 0.4378 - acc: 0.7915\n",
      "Epoch 28/150\n",
      "36635/36635 [==============================] - 8s 228us/step - loss: 0.4382 - acc: 0.7917\n",
      "Epoch 29/150\n",
      "36635/36635 [==============================] - 9s 232us/step - loss: 0.4383 - acc: 0.7907\n",
      "Epoch 30/150\n",
      "36635/36635 [==============================] - 8s 228us/step - loss: 0.4383 - acc: 0.7917\n",
      "Epoch 31/150\n",
      "36635/36635 [==============================] - 8s 228us/step - loss: 0.4381 - acc: 0.7915\n",
      "Epoch 32/150\n",
      "36635/36635 [==============================] - 8s 227us/step - loss: 0.4371 - acc: 0.7934\n",
      "Epoch 33/150\n",
      "36635/36635 [==============================] - 8s 228us/step - loss: 0.4376 - acc: 0.7910\n",
      "Epoch 34/150\n",
      "36635/36635 [==============================] - 8s 229us/step - loss: 0.4383 - acc: 0.7904\n",
      "Epoch 35/150\n",
      "36635/36635 [==============================] - 8s 228us/step - loss: 0.4380 - acc: 0.7906\n",
      "Epoch 36/150\n",
      "36635/36635 [==============================] - 8s 232us/step - loss: 0.4374 - acc: 0.7928\n",
      "Epoch 37/150\n",
      "36635/36635 [==============================] - 8s 228us/step - loss: 0.4377 - acc: 0.7908\n",
      "Epoch 38/150\n",
      "36635/36635 [==============================] - 8s 228us/step - loss: 0.4374 - acc: 0.7909\n",
      "Epoch 39/150\n",
      "36635/36635 [==============================] - 8s 228us/step - loss: 0.4370 - acc: 0.7925\n",
      "Epoch 40/150\n",
      "36635/36635 [==============================] - 8s 228us/step - loss: 0.4371 - acc: 0.7913\n",
      "Epoch 41/150\n",
      "36635/36635 [==============================] - 8s 231us/step - loss: 0.4376 - acc: 0.7913\n",
      "Epoch 42/150\n",
      "36635/36635 [==============================] - 8s 227us/step - loss: 0.4363 - acc: 0.7917\n",
      "Epoch 43/150\n",
      "36635/36635 [==============================] - 8s 225us/step - loss: 0.4368 - acc: 0.7919\n",
      "Epoch 44/150\n",
      "36635/36635 [==============================] - 8s 232us/step - loss: 0.4366 - acc: 0.7924\n",
      "Epoch 45/150\n",
      "36635/36635 [==============================] - 8s 224us/step - loss: 0.4365 - acc: 0.7922\n",
      "Epoch 46/150\n",
      "36635/36635 [==============================] - 8s 228us/step - loss: 0.4370 - acc: 0.7911\n",
      "Epoch 47/150\n",
      "36635/36635 [==============================] - 8s 228us/step - loss: 0.4368 - acc: 0.7918\n",
      "Epoch 48/150\n",
      "36635/36635 [==============================] - 8s 227us/step - loss: 0.4367 - acc: 0.7915\n",
      "Epoch 49/150\n",
      "36635/36635 [==============================] - 8s 228us/step - loss: 0.4367 - acc: 0.7903\n",
      "Epoch 50/150\n",
      "36635/36635 [==============================] - 8s 225us/step - loss: 0.4361 - acc: 0.7917\n",
      "Epoch 51/150\n",
      "36635/36635 [==============================] - 8s 229us/step - loss: 0.4363 - acc: 0.7928\n",
      "Epoch 52/150\n",
      "36635/36635 [==============================] - 8s 230us/step - loss: 0.4363 - acc: 0.7921\n",
      "Epoch 53/150\n",
      "36635/36635 [==============================] - 8s 232us/step - loss: 0.4364 - acc: 0.7919\n",
      "Epoch 54/150\n",
      "36635/36635 [==============================] - 8s 227us/step - loss: 0.4361 - acc: 0.7927\n",
      "Epoch 55/150\n",
      "36635/36635 [==============================] - 8s 229us/step - loss: 0.4359 - acc: 0.7913\n",
      "Epoch 56/150\n",
      "36635/36635 [==============================] - 8s 229us/step - loss: 0.4359 - acc: 0.7916\n",
      "Epoch 57/150\n",
      "36635/36635 [==============================] - 8s 229us/step - loss: 0.4356 - acc: 0.7923\n",
      "Epoch 58/150\n",
      "36635/36635 [==============================] - 8s 231us/step - loss: 0.4355 - acc: 0.7918\n",
      "Epoch 59/150\n",
      "36635/36635 [==============================] - 9s 232us/step - loss: 0.4359 - acc: 0.7934\n",
      "Epoch 60/150\n",
      "36635/36635 [==============================] - 8s 230us/step - loss: 0.4361 - acc: 0.7913\n",
      "Epoch 61/150\n",
      "36635/36635 [==============================] - 8s 229us/step - loss: 0.4358 - acc: 0.7913\n",
      "Epoch 62/150\n",
      "36635/36635 [==============================] - 8s 231us/step - loss: 0.4359 - acc: 0.7906\n",
      "Epoch 63/150\n"
     ]
    },
    {
     "name": "stdout",
     "output_type": "stream",
     "text": [
      "36635/36635 [==============================] - 8s 222us/step - loss: 0.4351 - acc: 0.7926\n",
      "Epoch 64/150\n",
      "36635/36635 [==============================] - 8s 222us/step - loss: 0.4358 - acc: 0.7917\n",
      "Epoch 65/150\n",
      "36635/36635 [==============================] - 9s 247us/step - loss: 0.4353 - acc: 0.7918\n",
      "Epoch 66/150\n",
      "36635/36635 [==============================] - 9s 241us/step - loss: 0.4356 - acc: 0.7917\n",
      "Epoch 67/150\n",
      "36635/36635 [==============================] - 9s 255us/step - loss: 0.4353 - acc: 0.7915\n",
      "Epoch 68/150\n",
      "36635/36635 [==============================] - 9s 243us/step - loss: 0.4351 - acc: 0.7917\n",
      "Epoch 69/150\n",
      "36635/36635 [==============================] - 8s 221us/step - loss: 0.4353 - acc: 0.7922\n",
      "Epoch 70/150\n",
      "36635/36635 [==============================] - 8s 222us/step - loss: 0.4348 - acc: 0.7927\n",
      "Epoch 71/150\n",
      "36635/36635 [==============================] - 8s 222us/step - loss: 0.4353 - acc: 0.7919\n",
      "Epoch 72/150\n",
      "36635/36635 [==============================] - 8s 225us/step - loss: 0.4358 - acc: 0.7912\n",
      "Epoch 73/150\n",
      "36635/36635 [==============================] - 8s 224us/step - loss: 0.4348 - acc: 0.7910\n",
      "Epoch 74/150\n",
      "36635/36635 [==============================] - 8s 221us/step - loss: 0.4356 - acc: 0.7910\n",
      "Epoch 75/150\n",
      "36635/36635 [==============================] - 8s 222us/step - loss: 0.4351 - acc: 0.7925\n",
      "Epoch 76/150\n",
      "36635/36635 [==============================] - 8s 230us/step - loss: 0.4348 - acc: 0.7909\n",
      "Epoch 77/150\n",
      "36635/36635 [==============================] - 8s 230us/step - loss: 0.4356 - acc: 0.7933\n",
      "Epoch 78/150\n",
      "36635/36635 [==============================] - 8s 230us/step - loss: 0.4351 - acc: 0.7928\n",
      "Epoch 79/150\n",
      "36635/36635 [==============================] - 8s 227us/step - loss: 0.4354 - acc: 0.7928\n",
      "Epoch 80/150\n",
      "36635/36635 [==============================] - 8s 230us/step - loss: 0.4350 - acc: 0.7912\n",
      "Epoch 81/150\n",
      "36635/36635 [==============================] - 8s 228us/step - loss: 0.4352 - acc: 0.7930\n",
      "Epoch 82/150\n",
      "36635/36635 [==============================] - 8s 231us/step - loss: 0.4342 - acc: 0.7929\n",
      "Epoch 83/150\n",
      "36635/36635 [==============================] - 8s 228us/step - loss: 0.4352 - acc: 0.7917\n",
      "Epoch 84/150\n",
      "36635/36635 [==============================] - 9s 235us/step - loss: 0.4345 - acc: 0.7921\n",
      "Epoch 85/150\n",
      "36635/36635 [==============================] - 9s 237us/step - loss: 0.4347 - acc: 0.7920\n",
      "Epoch 86/150\n",
      "36635/36635 [==============================] - 9s 234us/step - loss: 0.4351 - acc: 0.7926\n",
      "Epoch 87/150\n",
      "36635/36635 [==============================] - 8s 230us/step - loss: 0.4353 - acc: 0.7915\n",
      "Epoch 88/150\n",
      "36635/36635 [==============================] - 8s 230us/step - loss: 0.4347 - acc: 0.7921\n",
      "Epoch 89/150\n",
      "36635/36635 [==============================] - 9s 233us/step - loss: 0.4347 - acc: 0.7924\n",
      "Epoch 90/150\n",
      "36635/36635 [==============================] - 8s 232us/step - loss: 0.4351 - acc: 0.7923\n",
      "Epoch 91/150\n",
      "36635/36635 [==============================] - 9s 233us/step - loss: 0.4346 - acc: 0.7930\n",
      "Epoch 92/150\n",
      "36635/36635 [==============================] - 9s 233us/step - loss: 0.4346 - acc: 0.7937\n",
      "Epoch 93/150\n",
      "36635/36635 [==============================] - 8s 229us/step - loss: 0.4348 - acc: 0.7920\n",
      "Epoch 94/150\n",
      "36635/36635 [==============================] - 9s 232us/step - loss: 0.4343 - acc: 0.7931\n",
      "Epoch 95/150\n",
      "36635/36635 [==============================] - 9s 234us/step - loss: 0.4344 - acc: 0.7927\n",
      "Epoch 96/150\n",
      "36635/36635 [==============================] - 9s 232us/step - loss: 0.4344 - acc: 0.7932\n",
      "Epoch 97/150\n",
      "36635/36635 [==============================] - 8s 232us/step - loss: 0.4342 - acc: 0.7925\n",
      "Epoch 98/150\n",
      "36635/36635 [==============================] - 9s 234us/step - loss: 0.4345 - acc: 0.7927\n",
      "Epoch 99/150\n",
      "36635/36635 [==============================] - 6s 177us/step - loss: 0.4345 - acc: 0.7921\n",
      "Epoch 100/150\n",
      "36635/36635 [==============================] - 5s 133us/step - loss: 0.4346 - acc: 0.7912\n",
      "Epoch 101/150\n",
      "36635/36635 [==============================] - 5s 139us/step - loss: 0.4360 - acc: 0.7927\n",
      "Epoch 102/150\n",
      "36635/36635 [==============================] - 5s 133us/step - loss: 0.4341 - acc: 0.7930\n",
      "Epoch 103/150\n",
      "36635/36635 [==============================] - 5s 132us/step - loss: 0.4344 - acc: 0.7926\n",
      "Epoch 104/150\n",
      "36635/36635 [==============================] - 5s 132us/step - loss: 0.4346 - acc: 0.7918\n",
      "Epoch 105/150\n",
      "36635/36635 [==============================] - 5s 133us/step - loss: 0.4344 - acc: 0.7923\n",
      "Epoch 106/150\n",
      "36635/36635 [==============================] - 5s 133us/step - loss: 0.4345 - acc: 0.7931\n",
      "Epoch 107/150\n",
      "36635/36635 [==============================] - 5s 134us/step - loss: 0.4346 - acc: 0.7935\n",
      "Epoch 108/150\n",
      "36635/36635 [==============================] - 5s 132us/step - loss: 0.4339 - acc: 0.7917\n",
      "Epoch 109/150\n",
      "36635/36635 [==============================] - 5s 135us/step - loss: 0.4340 - acc: 0.7930\n",
      "Epoch 110/150\n",
      "36635/36635 [==============================] - 5s 131us/step - loss: 0.4341 - acc: 0.7909\n",
      "Epoch 111/150\n",
      "36635/36635 [==============================] - 5s 131us/step - loss: 0.4341 - acc: 0.7923\n",
      "Epoch 112/150\n",
      "36635/36635 [==============================] - 5s 131us/step - loss: 0.4337 - acc: 0.7930\n",
      "Epoch 113/150\n",
      "36635/36635 [==============================] - 5s 131us/step - loss: 0.4339 - acc: 0.7920\n",
      "Epoch 114/150\n",
      "36635/36635 [==============================] - 5s 130us/step - loss: 0.4343 - acc: 0.7925\n",
      "Epoch 115/150\n",
      "36635/36635 [==============================] - 5s 131us/step - loss: 0.4341 - acc: 0.7947\n",
      "Epoch 116/150\n",
      "36635/36635 [==============================] - 5s 130us/step - loss: 0.4335 - acc: 0.7914\n",
      "Epoch 117/150\n",
      "36635/36635 [==============================] - 5s 131us/step - loss: 0.4337 - acc: 0.7926\n",
      "Epoch 118/150\n",
      "36635/36635 [==============================] - 5s 130us/step - loss: 0.4341 - acc: 0.7919\n",
      "Epoch 119/150\n",
      "36635/36635 [==============================] - 5s 131us/step - loss: 0.4342 - acc: 0.7937\n",
      "Epoch 120/150\n",
      "36635/36635 [==============================] - 5s 131us/step - loss: 0.4351 - acc: 0.7913\n",
      "Epoch 121/150\n",
      "36635/36635 [==============================] - 5s 130us/step - loss: 0.4339 - acc: 0.7921\n",
      "Epoch 122/150\n",
      "36635/36635 [==============================] - 5s 131us/step - loss: 0.4344 - acc: 0.7909\n",
      "Epoch 123/150\n",
      "36635/36635 [==============================] - 5s 130us/step - loss: 0.4341 - acc: 0.7928\n",
      "Epoch 124/150\n",
      "36635/36635 [==============================] - 5s 131us/step - loss: 0.4339 - acc: 0.7930\n",
      "Epoch 125/150\n",
      "36635/36635 [==============================] - 5s 131us/step - loss: 0.4338 - acc: 0.7931\n",
      "Epoch 126/150\n",
      "36635/36635 [==============================] - 5s 131us/step - loss: 0.4339 - acc: 0.7919\n",
      "Epoch 127/150\n",
      "36635/36635 [==============================] - 5s 131us/step - loss: 0.4347 - acc: 0.7907\n",
      "Epoch 128/150\n",
      "36635/36635 [==============================] - 5s 129us/step - loss: 0.4341 - acc: 0.7926\n",
      "Epoch 129/150\n",
      "36635/36635 [==============================] - 5s 127us/step - loss: 0.4341 - acc: 0.7917\n",
      "Epoch 130/150\n",
      "36635/36635 [==============================] - 5s 130us/step - loss: 0.4338 - acc: 0.7924\n",
      "Epoch 131/150\n",
      "36635/36635 [==============================] - 5s 132us/step - loss: 0.4336 - acc: 0.7923\n",
      "Epoch 132/150\n",
      "36635/36635 [==============================] - 5s 132us/step - loss: 0.4340 - acc: 0.7921\n",
      "Epoch 133/150\n",
      "36635/36635 [==============================] - 5s 133us/step - loss: 0.4332 - acc: 0.7925\n",
      "Epoch 134/150\n",
      "36635/36635 [==============================] - 5s 132us/step - loss: 0.4339 - acc: 0.7928\n",
      "Epoch 135/150\n",
      "36635/36635 [==============================] - 5s 132us/step - loss: 0.4336 - acc: 0.7933\n",
      "Epoch 136/150\n",
      "36635/36635 [==============================] - 5s 131us/step - loss: 0.4340 - acc: 0.7923\n",
      "Epoch 137/150\n",
      "36635/36635 [==============================] - 5s 131us/step - loss: 0.4343 - acc: 0.7934\n",
      "Epoch 138/150\n",
      "36635/36635 [==============================] - 5s 127us/step - loss: 0.4335 - acc: 0.7934\n",
      "Epoch 139/150\n",
      "36635/36635 [==============================] - 5s 126us/step - loss: 0.4339 - acc: 0.7921\n",
      "Epoch 140/150\n",
      "36635/36635 [==============================] - 5s 126us/step - loss: 0.4337 - acc: 0.7931\n",
      "Epoch 141/150\n",
      "36635/36635 [==============================] - 5s 132us/step - loss: 0.4331 - acc: 0.7938\n",
      "Epoch 142/150\n",
      "36635/36635 [==============================] - 5s 129us/step - loss: 0.4335 - acc: 0.7920\n",
      "Epoch 143/150\n",
      "36635/36635 [==============================] - 5s 128us/step - loss: 0.4343 - acc: 0.7922\n",
      "Epoch 144/150\n",
      "36635/36635 [==============================] - 5s 128us/step - loss: 0.4331 - acc: 0.7912\n",
      "Epoch 145/150\n",
      "36635/36635 [==============================] - 5s 129us/step - loss: 0.4340 - acc: 0.7921\n",
      "Epoch 146/150\n",
      "36635/36635 [==============================] - ETA: 0s - loss: 0.4336 - acc: 0.793 - 5s 128us/step - loss: 0.4339 - acc: 0.7928\n",
      "Epoch 147/150\n",
      "36635/36635 [==============================] - 5s 129us/step - loss: 0.4337 - acc: 0.7918\n",
      "Epoch 148/150\n",
      "36635/36635 [==============================] - 5s 129us/step - loss: 0.4334 - acc: 0.7935\n",
      "Epoch 149/150\n",
      "36635/36635 [==============================] - 5s 129us/step - loss: 0.4340 - acc: 0.7917\n",
      "Epoch 150/150\n",
      "36635/36635 [==============================] - 5s 129us/step - loss: 0.4339 - acc: 0.7914\n"
     ]
    },
    {
     "data": {
      "text/plain": [
       "<keras.callbacks.History at 0x2917a3856d8>"
      ]
     },
     "execution_count": 87,
     "metadata": {},
     "output_type": "execute_result"
    }
   ],
   "source": [
    "# Fit the model\n",
    "model.fit(X_train, y_train, epochs=150, batch_size=10)"
   ]
  },
  {
   "cell_type": "markdown",
   "metadata": {},
   "source": [
    "### Summary of Deep learning:\n",
    "Best cross validation score : 0.7835131039683939             \n",
    "Accuracy : 0.7914"
   ]
  },
  {
   "cell_type": "markdown",
   "metadata": {},
   "source": [
    "## AdaBoost with Decision tree and Learning rate 1:           \n",
    "Accuracy on training set: 0.793           \n",
    "Accuracy on test set: 0.796    "
   ]
  }
 ],
 "metadata": {
  "kernelspec": {
   "display_name": "Python 3",
   "language": "python",
   "name": "python3"
  },
  "language_info": {
   "codemirror_mode": {
    "name": "ipython",
    "version": 3
   },
   "file_extension": ".py",
   "mimetype": "text/x-python",
   "name": "python",
   "nbconvert_exporter": "python",
   "pygments_lexer": "ipython3",
   "version": "3.7.3"
  }
 },
 "nbformat": 4,
 "nbformat_minor": 2
}
